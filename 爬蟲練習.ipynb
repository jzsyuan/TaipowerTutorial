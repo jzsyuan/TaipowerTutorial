{
  "nbformat": 4,
  "nbformat_minor": 0,
  "metadata": {
    "colab": {
      "name": "爬蟲練習.ipynb",
      "provenance": [],
      "collapsed_sections": [],
      "authorship_tag": "ABX9TyM6Y0rwd2OJPuX1DPAsc03O",
      "include_colab_link": true
    },
    "kernelspec": {
      "name": "python3",
      "display_name": "Python 3"
    },
    "language_info": {
      "name": "python"
    }
  },
  "cells": [
    {
      "cell_type": "markdown",
      "metadata": {
        "id": "view-in-github",
        "colab_type": "text"
      },
      "source": [
        "<a href=\"https://colab.research.google.com/github/jzsyuan/TaipowerTutorial/blob/main/%E7%88%AC%E8%9F%B2%E7%B7%B4%E7%BF%92.ipynb\" target=\"_parent\"><img src=\"https://colab.research.google.com/assets/colab-badge.svg\" alt=\"Open In Colab\"/></a>"
      ]
    },
    {
      "cell_type": "markdown",
      "source": [
        "# Colab 介紹\n",
        "1. GPU\n",
        "2. Colab 與 GITHUB 連結 (https://github.com/jzsyuan/TaipowerTutorial)"
      ],
      "metadata": {
        "id": "cl1O3LJIS0cj"
      }
    },
    {
      "cell_type": "code",
      "source": [
        "!cat /etc/os-release"
      ],
      "metadata": {
        "colab": {
          "base_uri": "https://localhost:8080/"
        },
        "id": "ryykCJeq-Fo_",
        "outputId": "1733ece7-2a1e-4e18-ecb0-1c77263f92ea"
      },
      "execution_count": 3,
      "outputs": [
        {
          "output_type": "stream",
          "name": "stdout",
          "text": [
            "NAME=\"Ubuntu\"\n",
            "VERSION=\"18.04.5 LTS (Bionic Beaver)\"\n",
            "ID=ubuntu\n",
            "ID_LIKE=debian\n",
            "PRETTY_NAME=\"Ubuntu 18.04.5 LTS\"\n",
            "VERSION_ID=\"18.04\"\n",
            "HOME_URL=\"https://www.ubuntu.com/\"\n",
            "SUPPORT_URL=\"https://help.ubuntu.com/\"\n",
            "BUG_REPORT_URL=\"https://bugs.launchpad.net/ubuntu/\"\n",
            "PRIVACY_POLICY_URL=\"https://www.ubuntu.com/legal/terms-and-policies/privacy-policy\"\n",
            "VERSION_CODENAME=bionic\n",
            "UBUNTU_CODENAME=bionic\n"
          ]
        }
      ]
    },
    {
      "cell_type": "code",
      "source": [
        "!nvidia-smi"
      ],
      "metadata": {
        "colab": {
          "base_uri": "https://localhost:8080/"
        },
        "id": "khTrfVAFSsbq",
        "outputId": "b16fe4dc-e4c5-495f-b135-460681067e23"
      },
      "execution_count": null,
      "outputs": [
        {
          "output_type": "stream",
          "name": "stdout",
          "text": [
            "Tue Dec 21 14:27:19 2021       \n",
            "+-----------------------------------------------------------------------------+\n",
            "| NVIDIA-SMI 495.44       Driver Version: 460.32.03    CUDA Version: 11.2     |\n",
            "|-------------------------------+----------------------+----------------------+\n",
            "| GPU  Name        Persistence-M| Bus-Id        Disp.A | Volatile Uncorr. ECC |\n",
            "| Fan  Temp  Perf  Pwr:Usage/Cap|         Memory-Usage | GPU-Util  Compute M. |\n",
            "|                               |                      |               MIG M. |\n",
            "|===============================+======================+======================|\n",
            "|   0  Tesla K80           Off  | 00000000:00:04.0 Off |                    0 |\n",
            "| N/A   71C    P8    33W / 149W |      0MiB / 11441MiB |      0%      Default |\n",
            "|                               |                      |                  N/A |\n",
            "+-------------------------------+----------------------+----------------------+\n",
            "                                                                               \n",
            "+-----------------------------------------------------------------------------+\n",
            "| Processes:                                                                  |\n",
            "|  GPU   GI   CI        PID   Type   Process name                  GPU Memory |\n",
            "|        ID   ID                                                   Usage      |\n",
            "|=============================================================================|\n",
            "|  No running processes found                                                 |\n",
            "+-----------------------------------------------------------------------------+\n"
          ]
        }
      ]
    },
    {
      "cell_type": "markdown",
      "source": [
        "## Install Environment\n",
        "`pip install requests`  \n",
        "`pip install beautifulsoup4`"
      ],
      "metadata": {
        "id": "3qbHhvTYQiIb"
      }
    },
    {
      "cell_type": "code",
      "execution_count": null,
      "metadata": {
        "id": "kZW-MoNCQUeT",
        "colab": {
          "base_uri": "https://localhost:8080/"
        },
        "outputId": "b6a78499-409f-4937-856d-4e44e22ea961"
      },
      "outputs": [
        {
          "output_type": "stream",
          "name": "stdout",
          "text": [
            "Requirement already satisfied: requests in /usr/local/lib/python3.7/dist-packages (2.23.0)\n",
            "Requirement already satisfied: certifi>=2017.4.17 in /usr/local/lib/python3.7/dist-packages (from requests) (2021.10.8)\n",
            "Requirement already satisfied: chardet<4,>=3.0.2 in /usr/local/lib/python3.7/dist-packages (from requests) (3.0.4)\n",
            "Requirement already satisfied: urllib3!=1.25.0,!=1.25.1,<1.26,>=1.21.1 in /usr/local/lib/python3.7/dist-packages (from requests) (1.24.3)\n",
            "Requirement already satisfied: idna<3,>=2.5 in /usr/local/lib/python3.7/dist-packages (from requests) (2.10)\n",
            "Requirement already satisfied: beautifulsoup4 in /usr/local/lib/python3.7/dist-packages (4.6.3)\n"
          ]
        }
      ],
      "source": [
        "!pip install requests\n",
        "!pip install beautifulsoup4"
      ]
    },
    {
      "cell_type": "markdown",
      "source": [
        "# Get Method\n",
        "\n",
        "經濟日報 url: https://money.udn.com/money/index"
      ],
      "metadata": {
        "id": "FfAnoT3ZQoOF"
      }
    },
    {
      "cell_type": "code",
      "source": [
        "# -*- coding: utf-8 -*-\n",
        "import requests\n",
        "from bs4 import BeautifulSoup\n",
        "\n",
        "# use get method to request  \n",
        "response = requests.get('https://money.udn.com/money/index')\n",
        "\n",
        "# change encoding to uft-8\n",
        "response.encoding = 'utf-8'\n",
        "print(response.headers)\n"
      ],
      "metadata": {
        "id": "vNGMPa9UQl88",
        "colab": {
          "base_uri": "https://localhost:8080/"
        },
        "outputId": "34de39af-0fde-4081-833f-b1d5de56d845"
      },
      "execution_count": 5,
      "outputs": [
        {
          "output_type": "stream",
          "name": "stdout",
          "text": [
            "{'Content-Encoding': 'gzip', 'Access-Control-Allow-Credentials': 'true', 'Alt-Svc': 'clear', 'Cache-Control': 'no-cache, no-store, must-revalidate, max-age=0, post-check=0, pre-check=0', 'Content-Type': 'text/html; charset=UTF-8', 'Date': 'Wed, 22 Dec 2021 07:20:00 GMT', 'EC-R22-2-1': 'money', 'ec-version': 'All-Policy-20211217v13', 'Expires': 'Sat, 26 Jul 1997 05:00:00 GMT', 'Pragma': 'no-cache', 'Server': 'nginx', 'Service-Worker-Allowed': '/', 'Via': '1.1 google', 'X-e': 'cl-mo-c3p7', 'x-mhn': 'money-ci3-75b75c7fb4-kbhkz', 'Transfer-Encoding': 'chunked'}\n"
          ]
        }
      ]
    },
    {
      "cell_type": "markdown",
      "source": [
        "# POST Method\n",
        "台灣高鐵 url: https://www.thsrc.com.tw/"
      ],
      "metadata": {
        "id": "JsGPbIJSQq_k"
      }
    },
    {
      "cell_type": "code",
      "source": [
        "\n",
        "import requests  # web-scrapy\n",
        "import json # str to json ->dict\n",
        "\n",
        "\n",
        "payload_str= \"\"\"SearchType: S\n",
        "Lang: TW\n",
        "StartStation: TaiPei\n",
        "EndStation: ZuoYing\n",
        "OutWardSearchDate: 2021/12/21\n",
        "OutWardSearchTime: 11:00\n",
        "ReturnSearchDate: 2021/12/21\n",
        "ReturnSearchTime: 13:00\"\"\"\n",
        "\n",
        "# 字串變成dict\n",
        "payload = {}\n",
        "for row in payload_str.split('\\n'):\n",
        "  payload[row.split(': ')[0]] = row.split(': ')[1]\n",
        "\n",
        "## 2.填寫好url\n",
        "url = 'https://www.thsrc.com.tw/TimeTable/Search'\n",
        "response = requests.post(url, data = payload)\n",
        "\n",
        "#print(response.text)\n",
        "\n",
        "## 3.使用json load將response.text做處理\n",
        "json.string= str(response.text)\n",
        "print(json.string)"
      ],
      "metadata": {
        "colab": {
          "base_uri": "https://localhost:8080/",
          "height": 133
        },
        "id": "HxCwY-SnQqc6",
        "outputId": "6c12df1a-988a-428a-889e-ad3f153ac412"
      },
      "execution_count": null,
      "outputs": [
        {
          "output_type": "execute_result",
          "data": {
            "application/vnd.google.colaboratory.intrinsic+json": {
              "type": "string"
            },
            "text/plain": [
              "'{\"success\":true,\"data\":{\"DepartureTable\":{\"Title\":{\"StartStationName\":\"台北\",\"EndStationName\":\"左營\",\"TitleSplit1\":\"2021/12/21(二) 11:00\",\"TitleSplit2\":\"2021/12/21(二)\"},\"TrainItem\":[{\"TrainNumber\":\"0803\",\"DepartureTime\":\"06:26\",\"DestinationTime\":\"08:40\",\"Duration\":\"02:14\",\"NonReservedCar\":\"9-12\",\"Discount\":[{\"Id\":\"9973b559-8279-4bf4-90be-601f7973a39f\",\"Name\":\"20人團體\",\"Value\":\"7折\",\"Color\":\"#1685e4\",\"Discount\":\"70\"},{\"Id\":\"40863ff1-a16c-4da1-8af7-c1f8991627f3\",\"Name\":\"校外教學\",\"Value\":\"4/7折\",\"Color\":\"#ffcc00\",\"Discount\":\"40|70\"}],\"Note\":\"\",\"Sequence\":0,\"StationInfo\":[{\"StationNo\":\"01\",\"StationName\":\"南港\",\"DepartureTime\":\"06:15\",\"Show\":true,\"ColorClass\":\"orange\"},{\"StationNo\":\"02\",\"StationName\":\"台北\",\"DepartureTime\":\"06:26\",\"Show\":true,\"ColorClass\":\"purple\"},{\"StationNo\":\"03\",\"StationName\":\"板橋\",\"DepartureTime\":\"06:34\",\"Show\":true,\"ColorClass\":\"dark_green\"},{\"StationNo\":\"04\",\"StationName\":\"桃園\",\"DepartureTime\":\"06:49\",\"Show\":true,\"ColorClass\":\"light_green\"},{\"StationNo\":\"05\",\"StationName\":\"新竹\",\"DepartureTime\":\"07:02\",\"Show\":true,\"ColorClass\":\"gray\"},{\"StationNo\":\"06\",\"StationName\":\"苗栗\",\"DepartureTime\":\"07:13\",\"Show\":true,\"ColorClass\":\"sky_blue\"},{\"StationNo\":\"07\",\"StationName\":\"台中\",\"DepartureTime\":\"07:32\",\"Show\":true,\"ColorClass\":\"pink\"},{\"StationNo\":\"08\",\"StationName\":\"彰化\",\"DepartureTime\":\"07:45\",\"Show\":true,\"ColorClass\":\"red\"},{\"StationNo\":\"09\",\"StationName\":\"雲林\",\"DepartureTime\":\"07:56\",\"Show\":true,\"ColorClass\":\"dark_blue\"},{\"StationNo\":\"10\",\"StationName\":\"嘉義\",\"DepartureTime\":\"08:10\",\"Show\":true,\"ColorClass\":\"yellow\"},{\"StationNo\":\"11\",\"StationName\":\"台南\",\"DepartureTime\":\"08:28\",\"Show\":true,\"ColorClass\":\"brown\"},{\"StationNo\":\"12\",\"StationName\":\"左營\",\"DepartureTime\":\"08:40\",\"Show\":true,\"ColorClass\":\"blue\"}],\"IsCrossNight\":false,\"RunDate\":\"2021/12/21\",\"DepartureTime_Order\":\"06:26\",\"DestinationTime_Order\":\"08:40\",\"DiscountWord\":null},{\"TrainNumber\":\"0203\",\"DepartureTime\":\"06:30\",\"DestinationTime\":\"08:15\",\"Duration\":\"01:45\",\"NonReservedCar\":\"10-12\",\"Discount\":[],\"Note\":\"\",\"Sequence\":1,\"StationInfo\":[{\"StationNo\":\"01\",\"StationName\":\"南港\",\"DepartureTime\":\"\",\"Show\":false,\"ColorClass\":\"orange\"},{\"StationNo\":\"02\",\"StationName\":\"台北\",\"DepartureTime\":\"06:30\",\"Show\":true,\"ColorClass\":\"purple\"},{\"StationNo\":\"03\",\"StationName\":\"板橋\",\"DepartureTime\":\"06:38\",\"Show\":true,\"ColorClass\":\"dark_green\"},{\"StationNo\":\"04\",\"StationName\":\"桃園\",\"DepartureTime\":\"\",\"Show\":false,\"ColorClass\":\"light_green\"},{\"StationNo\":\"05\",\"StationName\":\"新竹\",\"DepartureTime\":\"\",\"Show\":false,\"ColorClass\":\"gray\"},{\"StationNo\":\"06\",\"StationName\":\"苗栗\",\"DepartureTime\":\"\",\"Show\":false,\"ColorClass\":\"sky_blue\"},{\"StationNo\":\"07\",\"StationName\":\"台中\",\"DepartureTime\":\"07:20\",\"Show\":true,\"ColorClass\":\"pink\"},{\"StationNo\":\"08\",\"StationName\":\"彰化\",\"DepartureTime\":\"\",\"Show\":false,\"ColorClass\":\"red\"},{\"StationNo\":\"09\",\"StationName\":\"雲林\",\"DepartureTime\":\"\",\"Show\":false,\"ColorClass\":\"dark_blue\"},{\"StationNo\":\"10\",\"StationName\":\"嘉義\",\"DepartureTime\":\"07:45\",\"Show\":true,\"ColorClass\":\"yellow\"},{\"StationNo\":\"11\",\"StationName\":\"台南\",\"DepartureTime\":\"08:03\",\"Show\":true,\"ColorClass\":\"brown\"},{\"StationNo\":\"12\",\"StationName\":\"左營\",\"DepartureTime\":\"08:15\",\"Show\":true,\"ColorClass\":\"blue\"}],\"IsCrossNight\":false,\"RunDate\":\"2021/12/21\",\"DepartureTime_Order\":\"06:30\",\"DestinationTime_Order\":\"08:15\",\"DiscountWord\":null},{\"TrainNumber\":\"0603\",\"DepartureTime\":\"06:51\",\"DestinationTime\":\"08:50\",\"Duration\":\"01:59\",\"NonReservedCar\":\"8-12\",\"Discount\":[],\"Note\":\"\",\"Sequence\":2,\"StationInfo\":[{\"StationNo\":\"01\",\"StationName\":\"南港\",\"DepartureTime\":\"06:40\",\"Show\":true,\"ColorClass\":\"orange\"},{\"StationNo\":\"02\",\"StationName\":\"台北\",\"DepartureTime\":\"06:51\",\"Show\":true,\"ColorClass\":\"purple\"},{\"StationNo\":\"03\",\"StationName\":\"板橋\",\"DepartureTime\":\"07:00\",\"Show\":true,\"ColorClass\":\"dark_green\"},{\"StationNo\":\"04\",\"StationName\":\"桃園\",\"DepartureTime\":\"07:15\",\"Show\":true,\"ColorClass\":\"light_green\"},{\"StationNo\":\"05\",\"StationName\":\"新竹\",\"DepartureTime\":\"07:27\",\"Show\":true,\"ColorClass\":\"gray\"},{\"StationNo\":\"06\",\"StationName\":\"苗栗\",\"DepartureTime\":\"\",\"Show\":false,\"ColorClass\":\"sky_blue\"},{\"StationNo\":\"07\",\"StationName\":\"台中\",\"DepartureTime\":\"07:53\",\"Show\":true,\"ColorClass\":\"pink\"},{\"StationNo\":\"08\",\"StationName\":\"彰化\",\"DepartureTime\":\"\",\"Show\":false,\"ColorClass\":\"red\"},{\"StationNo\":\"09\",\"StationName\":\"雲林\",\"DepartureTime\":\"\",\"Show\":false,\"ColorClass\":\"dark_blue\"},{\"StationNo\":\"10\",\"StationName\":\"嘉義\",\"DepartureTime\":\"08:19\",\"Show\":true,\"ColorClass\":\"yellow\"},{\"StationNo\":\"11\",\"StationName\":\"台南\",\"DepartureTime\":\"08:38\",\"Show\":true,\"ColorClass\":\"brown\"},{\"StationNo\":\"12\",\"StationName\":\"左營\",\"DepartureTime\":\"08:50\",\"Show\":true,\"ColorClass\":\"blue\"}],\"IsCrossNight\":false,\"RunDate\":\"2021/12/21\",\"DepartureTime_Order\":\"06:51\",\"DestinationTime_Order\":\"08:50\",\"DiscountWord\":null},{\"TrainNumber\":\"0805\",\"DepartureTime\":\"07:11\",\"DestinationTime\":\"09:25\",\"Duration\":\"02:14\",\"NonReservedCar\":\"9-12\",\"Discount\":[],\"Note\":\"\",\"Sequence\":3,\"StationInfo\":[{\"StationNo\":\"01\",\"StationName\":\"南港\",\"DepartureTime\":\"07:00\",\"Show\":true,\"ColorClass\":\"orange\"},{\"StationNo\":\"02\",\"StationName\":\"台北\",\"DepartureTime\":\"07:11\",\"Show\":true,\"ColorClass\":\"purple\"},{\"StationNo\":\"03\",\"StationName\":\"板橋\",\"DepartureTime\":\"07:19\",\"Show\":true,\"ColorClass\":\"dark_green\"},{\"StationNo\":\"04\",\"StationName\":\"桃園\",\"DepartureTime\":\"07:34\",\"Show\":true,\"ColorClass\":\"light_green\"},{\"StationNo\":\"05\",\"StationName\":\"新竹\",\"DepartureTime\":\"07:47\",\"Show\":true,\"ColorClass\":\"gray\"},{\"StationNo\":\"06\",\"StationName\":\"苗栗\",\"DepartureTime\":\"07:58\",\"Show\":true,\"ColorClass\":\"sky_blue\"},{\"StationNo\":\"07\",\"StationName\":\"台中\",\"DepartureTime\":\"08:17\",\"Show\":true,\"ColorClass\":\"pink\"},{\"StationNo\":\"08\",\"StationName\":\"彰化\",\"DepartureTime\":\"08:30\",\"Show\":true,\"ColorClass\":\"red\"},{\"StationNo\":\"09\",\"StationName\":\"雲林\",\"DepartureTime\":\"08:41\",\"Show\":true,\"ColorClass\":\"dark_blue\"},{\"StationNo\":\"10\",\"StationName\":\"嘉義\",\"DepartureTime\":\"08:55\",\"Show\":true,\"ColorClass\":\"yellow\"},{\"StationNo\":\"11\",\"StationName\":\"台南\",\"DepartureTime\":\"09:13\",\"Show\":true,\"ColorClass\":\"brown\"},{\"StationNo\":\"12\",\"StationName\":\"左營\",\"DepartureTime\":\"09:25\",\"Show\":true,\"ColorClass\":\"blue\"}],\"IsCrossNight\":false,\"RunDate\":\"2021/12/21\",\"DepartureTime_Order\":\"07:11\",\"DestinationTime_Order\":\"09:25\",\"DiscountWord\":null},{\"TrainNumber\":\"0109\",\"DepartureTime\":\"07:31\",\"DestinationTime\":\"09:05\",\"Duration\":\"01:34\",\"NonReservedCar\":\"10-12\",\"Discount\":[],\"Note\":\"\",\"Sequence\":4,\"StationInfo\":[{\"StationNo\":\"01\",\"StationName\":\"南港\",\"DepartureTime\":\"07:20\",\"Show\":true,\"ColorClass\":\"orange\"},{\"StationNo\":\"02\",\"StationName\":\"台北\",\"DepartureTime\":\"07:31\",\"Show\":true,\"ColorClass\":\"purple\"},{\"StationNo\":\"03\",\"StationName\":\"板橋\",\"DepartureTime\":\"07:39\",\"Show\":true,\"ColorClass\":\"dark_green\"},{\"StationNo\":\"04\",\"StationName\":\"桃園\",\"DepartureTime\":\"\",\"Show\":false,\"ColorClass\":\"light_green\"},{\"StationNo\":\"05\",\"StationName\":\"新竹\",\"DepartureTime\":\"\",\"Show\":false,\"ColorClass\":\"gray\"},{\"StationNo\":\"06\",\"StationName\":\"苗栗\",\"DepartureTime\":\"\",\"Show\":false,\"ColorClass\":\"sky_blue\"},{\"StationNo\":\"07\",\"StationName\":\"台中\",\"DepartureTime\":\"08:20\",\"Show\":true,\"ColorClass\":\"pink\"},{\"StationNo\":\"08\",\"StationName\":\"彰化\",\"DepartureTime\":\"\",\"Show\":false,\"ColorClass\":\"red\"},{\"StationNo\":\"09\",\"StationName\":\"雲林\",\"DepartureTime\":\"\",\"Show\":false,\"ColorClass\":\"dark_blue\"},{\"StationNo\":\"10\",\"StationName\":\"嘉義\",\"DepartureTime\":\"\",\"Show\":false,\"ColorClass\":\"yellow\"},{\"StationNo\":\"11\",\"StationName\":\"台南\",\"DepartureTime\":\"\",\"Show\":false,\"ColorClass\":\"brown\"},{\"StationNo\":\"12\",\"StationName\":\"左營\",\"DepartureTime\":\"09:05\",\"Show\":true,\"ColorClass\":\"blue\"}],\"IsCrossNight\":false,\"RunDate\":\"2021/12/21\",\"DepartureTime_Order\":\"07:31\",\"DestinationTime_Order\":\"09:05\",\"DiscountWord\":null},{\"TrainNumber\":\"0609\",\"DepartureTime\":\"07:46\",\"DestinationTime\":\"09:45\",\"Duration\":\"01:59\",\"NonReservedCar\":\"8-12\",\"Discount\":[],\"Note\":\"\",\"Sequence\":5,\"StationInfo\":[{\"StationNo\":\"01\",\"StationName\":\"南港\",\"DepartureTime\":\"07:35\",\"Show\":true,\"ColorClass\":\"orange\"},{\"StationNo\":\"02\",\"StationName\":\"台北\",\"DepartureTime\":\"07:46\",\"Show\":true,\"ColorClass\":\"purple\"},{\"StationNo\":\"03\",\"StationName\":\"板橋\",\"DepartureTime\":\"07:55\",\"Show\":true,\"ColorClass\":\"dark_green\"},{\"StationNo\":\"04\",\"StationName\":\"桃園\",\"DepartureTime\":\"08:10\",\"Show\":true,\"ColorClass\":\"light_green\"},{\"StationNo\":\"05\",\"StationName\":\"新竹\",\"DepartureTime\":\"08:22\",\"Show\":true,\"ColorClass\":\"gray\"},{\"StationNo\":\"06\",\"StationName\":\"苗栗\",\"DepartureTime\":\"\",\"Show\":false,\"ColorClass\":\"sky_blue\"},{\"StationNo\":\"07\",\"StationName\":\"台中\",\"DepartureTime\":\"08:48\",\"Show\":true,\"ColorClass\":\"pink\"},{\"StationNo\":\"08\",\"StationName\":\"彰化\",\"DepartureTime\":\"\",\"Show\":false,\"ColorClass\":\"red\"},{\"StationNo\":\"09\",\"StationName\":\"雲林\",\"DepartureTime\":\"\",\"Show\":false,\"ColorClass\":\"dark_blue\"},{\"StationNo\":\"10\",\"StationName\":\"嘉義\",\"DepartureTime\":\"09:14\",\"Show\":true,\"ColorClass\":\"yellow\"},{\"StationNo\":\"11\",\"StationName\":\"台南\",\"DepartureTime\":\"09:33\",\"Show\":true,\"ColorClass\":\"brown\"},{\"StationNo\":\"12\",\"StationName\":\"左營\",\"DepartureTime\":\"09:45\",\"Show\":true,\"ColorClass\":\"blue\"}],\"IsCrossNight\":false,\"RunDate\":\"2021/12/21\",\"DepartureTime_Order\":\"07:46\",\"DestinationTime_Order\":\"09:45\",\"DiscountWord\":null},{\"TrainNumber\":\"0205\",\"DepartureTime\":\"07:51\",\"DestinationTime\":\"09:30\",\"Duration\":\"01:39\",\"NonReservedCar\":\"10-12\",\"Discount\":[],\"Note\":\"\",\"Sequence\":6,\"StationInfo\":[{\"StationNo\":\"01\",\"StationName\":\"南港\",\"DepartureTime\":\"07:40\",\"Show\":true,\"ColorClass\":\"orange\"},{\"StationNo\":\"02\",\"StationName\":\"台北\",\"DepartureTime\":\"07:51\",\"Show\":true,\"ColorClass\":\"purple\"},{\"StationNo\":\"03\",\"StationName\":\"板橋\",\"DepartureTime\":\"07:59\",\"Show\":true,\"ColorClass\":\"dark_green\"},{\"StationNo\":\"04\",\"StationName\":\"桃園\",\"DepartureTime\":\"\",\"Show\":false,\"ColorClass\":\"light_green\"},{\"StationNo\":\"05\",\"StationName\":\"新竹\",\"DepartureTime\":\"\",\"Show\":false,\"ColorClass\":\"gray\"},{\"StationNo\":\"06\",\"StationName\":\"苗栗\",\"DepartureTime\":\"\",\"Show\":false,\"ColorClass\":\"sky_blue\"},{\"StationNo\":\"07\",\"StationName\":\"台中\",\"DepartureTime\":\"08:40\",\"Show\":true,\"ColorClass\":\"pink\"},{\"StationNo\":\"08\",\"StationName\":\"彰化\",\"DepartureTime\":\"\",\"Show\":false,\"ColorClass\":\"red\"},{\"StationNo\":\"09\",\"StationName\":\"雲林\",\"DepartureTime\":\"\",\"Show\":false,\"ColorClass\":\"dark_blue\"},{\"StationNo\":\"10\",\"StationName\":\"嘉義\",\"DepartureTime\":\"\",\"Show\":false,\"ColorClass\":\"yellow\"},{\"StationNo\":\"11\",\"StationName\":\"台南\",\"DepartureTime\":\"09:18\",\"Show\":true,\"ColorClass\":\"brown\"},{\"StationNo\":\"12\",\"StationName\":\"左營\",\"DepartureTime\":\"09:30\",\"Show\":true,\"ColorClass\":\"blue\"}],\"IsCrossNight\":false,\"RunDate\":\"2021/12/21\",\"DepartureTime_Order\":\"07:51\",\"DestinationTime_Order\":\"09:30\",\"DiscountWord\":null},{\"TrainNumber\":\"0809\",\"DepartureTime\":\"08:11\",\"DestinationTime\":\"10:25\",\"Duration\":\"02:14\",\"NonReservedCar\":\"9-12\",\"Discount\":[],\"Note\":\"\",\"Sequence\":7,\"StationInfo\":[{\"StationNo\":\"01\",\"StationName\":\"南港\",\"DepartureTime\":\"08:00\",\"Show\":true,\"ColorClass\":\"orange\"},{\"StationNo\":\"02\",\"StationName\":\"台北\",\"DepartureTime\":\"08:11\",\"Show\":true,\"ColorClass\":\"purple\"},{\"StationNo\":\"03\",\"StationName\":\"板橋\",\"DepartureTime\":\"08:19\",\"Show\":true,\"ColorClass\":\"dark_green\"},{\"StationNo\":\"04\",\"StationName\":\"桃園\",\"DepartureTime\":\"08:34\",\"Show\":true,\"ColorClass\":\"light_green\"},{\"StationNo\":\"05\",\"StationName\":\"新竹\",\"DepartureTime\":\"08:47\",\"Show\":true,\"ColorClass\":\"gray\"},{\"StationNo\":\"06\",\"StationName\":\"苗栗\",\"DepartureTime\":\"08:58\",\"Show\":true,\"ColorClass\":\"sky_blue\"},{\"StationNo\":\"07\",\"StationName\":\"台中\",\"DepartureTime\":\"09:17\",\"Show\":true,\"ColorClass\":\"pink\"},{\"StationNo\":\"08\",\"StationName\":\"彰化\",\"DepartureTime\":\"09:30\",\"Show\":true,\"ColorClass\":\"red\"},{\"StationNo\":\"09\",\"StationName\":\"雲林\",\"DepartureTime\":\"09:41\",\"Show\":true,\"ColorClass\":\"dark_blue\"},{\"StationNo\":\"10\",\"StationName\":\"嘉義\",\"DepartureTime\":\"09:55\",\"Show\":true,\"ColorClass\":\"yellow\"},{\"StationNo\":\"11\",\"StationName\":\"台南\",\"DepartureTime\":\"10:13\",\"Show\":true,\"ColorClass\":\"brown\"},{\"StationNo\":\"12\",\"StationName\":\"左營\",\"DepartureTime\":\"10:25\",\"Show\":true,\"ColorClass\":\"blue\"}],\"IsCrossNight\":false,\"RunDate\":\"2021/12/21\",\"DepartureTime_Order\":\"08:11\",\"DestinationTime_Order\":\"10:25\",\"DiscountWord\":null},{\"TrainNumber\":\"0613\",\"DepartureTime\":\"08:21\",\"DestinationTime\":\"10:20\",\"Duration\":\"01:59\",\"NonReservedCar\":\"8-12\",\"Discount\":[],\"Note\":\"\",\"Sequence\":8,\"StationInfo\":[{\"StationNo\":\"01\",\"StationName\":\"南港\",\"DepartureTime\":\"08:10\",\"Show\":true,\"ColorClass\":\"orange\"},{\"StationNo\":\"02\",\"StationName\":\"台北\",\"DepartureTime\":\"08:21\",\"Show\":true,\"ColorClass\":\"purple\"},{\"StationNo\":\"03\",\"StationName\":\"板橋\",\"DepartureTime\":\"08:29\",\"Show\":true,\"ColorClass\":\"dark_green\"},{\"StationNo\":\"04\",\"StationName\":\"桃園\",\"DepartureTime\":\"08:43\",\"Show\":true,\"ColorClass\":\"light_green\"},{\"StationNo\":\"05\",\"StationName\":\"新竹\",\"DepartureTime\":\"08:56\",\"Show\":true,\"ColorClass\":\"gray\"},{\"StationNo\":\"06\",\"StationName\":\"苗栗\",\"DepartureTime\":\"\",\"Show\":false,\"ColorClass\":\"sky_blue\"},{\"StationNo\":\"07\",\"StationName\":\"台中\",\"DepartureTime\":\"09:25\",\"Show\":true,\"ColorClass\":\"pink\"},{\"StationNo\":\"08\",\"StationName\":\"彰化\",\"DepartureTime\":\"\",\"Show\":false,\"ColorClass\":\"red\"},{\"StationNo\":\"09\",\"StationName\":\"雲林\",\"DepartureTime\":\"\",\"Show\":false,\"ColorClass\":\"dark_blue\"},{\"StationNo\":\"10\",\"StationName\":\"嘉義\",\"DepartureTime\":\"09:50\",\"Show\":true,\"ColorClass\":\"yellow\"},{\"StationNo\":\"11\",\"StationName\":\"台南\",\"DepartureTime\":\"10:07\",\"Show\":true,\"ColorClass\":\"brown\"},{\"StationNo\":\"12\",\"StationName\":\"左營\",\"DepartureTime\":\"10:20\",\"Show\":true,\"ColorClass\":\"blue\"}],\"IsCrossNight\":false,\"RunDate\":\"2021/12/21\",\"DepartureTime_Order\":\"08:21\",\"DestinationTime_Order\":\"10:20\",\"DiscountWord\":null},{\"TrainNumber\":\"0615\",\"DepartureTime\":\"08:46\",\"DestinationTime\":\"10:45\",\"Duration\":\"01:59\",\"NonReservedCar\":\"9-12\",\"Discount\":[],\"Note\":\"\",\"Sequence\":9,\"StationInfo\":[{\"StationNo\":\"01\",\"StationName\":\"南港\",\"DepartureTime\":\"08:35\",\"Show\":true,\"ColorClass\":\"orange\"},{\"StationNo\":\"02\",\"StationName\":\"台北\",\"DepartureTime\":\"08:46\",\"Show\":true,\"ColorClass\":\"purple\"},{\"StationNo\":\"03\",\"StationName\":\"板橋\",\"DepartureTime\":\"08:55\",\"Show\":true,\"ColorClass\":\"dark_green\"},{\"StationNo\":\"04\",\"StationName\":\"桃園\",\"DepartureTime\":\"09:10\",\"Show\":true,\"ColorClass\":\"light_green\"},{\"StationNo\":\"05\",\"StationName\":\"新竹\",\"DepartureTime\":\"09:22\",\"Show\":true,\"ColorClass\":\"gray\"},{\"StationNo\":\"06\",\"StationName\":\"苗栗\",\"DepartureTime\":\"\",\"Show\":false,\"ColorClass\":\"sky_blue\"},{\"StationNo\":\"07\",\"StationName\":\"台中\",\"DepartureTime\":\"09:48\",\"Show\":true,\"ColorClass\":\"pink\"},{\"StationNo\":\"08\",\"StationName\":\"彰化\",\"DepartureTime\":\"\",\"Show\":false,\"ColorClass\":\"red\"},{\"StationNo\":\"09\",\"StationName\":\"雲林\",\"DepartureTime\":\"\",\"Show\":false,\"ColorClass\":\"dark_blue\"},{\"StationNo\":\"10\",\"StationName\":\"嘉義\",\"DepartureTime\":\"10:14\",\"Show\":true,\"ColorClass\":\"yellow\"},{\"StationNo\":\"11\",\"StationName\":\"台南\",\"DepartureTime\":\"10:33\",\"Show\":true,\"ColorClass\":\"brown\"},{\"StationNo\":\"12\",\"StationName\":\"左營\",\"DepartureTime\":\"10:45\",\"Show\":true,\"ColorClass\":\"blue\"}],\"IsCrossNight\":false,\"RunDate\":\"2021/12/21\",\"DepartureTime_Order\":\"08:46\",\"DestinationTime_Order\":\"10:45\",\"DiscountWord\":null},{\"TrainNumber\":\"0209\",\"DepartureTime\":\"08:51\",\"DestinationTime\":\"10:30\",\"Duration\":\"01:39\",\"NonReservedCar\":\"10-12\",\"Discount\":[],\"Note\":\"\",\"Sequence\":10,\"StationInfo\":[{\"StationNo\":\"01\",\"StationName\":\"南港\",\"DepartureTime\":\"08:40\",\"Show\":true,\"ColorClass\":\"orange\"},{\"StationNo\":\"02\",\"StationName\":\"台北\",\"DepartureTime\":\"08:51\",\"Show\":true,\"ColorClass\":\"purple\"},{\"StationNo\":\"03\",\"StationName\":\"板橋\",\"DepartureTime\":\"08:59\",\"Show\":true,\"ColorClass\":\"dark_green\"},{\"StationNo\":\"04\",\"StationName\":\"桃園\",\"DepartureTime\":\"\",\"Show\":false,\"ColorClass\":\"light_green\"},{\"StationNo\":\"05\",\"StationName\":\"新竹\",\"DepartureTime\":\"\",\"Show\":false,\"ColorClass\":\"gray\"},{\"StationNo\":\"06\",\"StationName\":\"苗栗\",\"DepartureTime\":\"\",\"Show\":false,\"ColorClass\":\"sky_blue\"},{\"StationNo\":\"07\",\"StationName\":\"台中\",\"DepartureTime\":\"09:40\",\"Show\":true,\"ColorClass\":\"pink\"},{\"StationNo\":\"08\",\"StationName\":\"彰化\",\"DepartureTime\":\"\",\"Show\":false,\"ColorClass\":\"red\"},{\"StationNo\":\"09\",\"StationName\":\"雲林\",\"DepartureTime\":\"\",\"Show\":false,\"ColorClass\":\"dark_blue\"},{\"StationNo\":\"10\",\"StationName\":\"嘉義\",\"DepartureTime\":\"\",\"Show\":false,\"ColorClass\":\"yellow\"},{\"StationNo\":\"11\",\"StationName\":\"台南\",\"DepartureTime\":\"10:18\",\"Show\":true,\"ColorClass\":\"brown\"},{\"StationNo\":\"12\",\"StationName\":\"左營\",\"DepartureTime\":\"10:30\",\"Show\":true,\"ColorClass\":\"blue\"}],\"IsCrossNight\":false,\"RunDate\":\"2021/12/21\",\"DepartureTime_Order\":\"08:51\",\"DestinationTime_Order\":\"10:30\",\"DiscountWord\":null},{\"TrainNumber\":\"1307\",\"DepartureTime\":\"09:01\",\"DestinationTime\":\"11:00\",\"Duration\":\"01:59\",\"NonReservedCar\":\"10-12\",\"Discount\":[],\"Note\":\"\",\"Sequence\":11,\"StationInfo\":[{\"StationNo\":\"01\",\"StationName\":\"南港\",\"DepartureTime\":\"08:50\",\"Show\":true,\"ColorClass\":\"orange\"},{\"StationNo\":\"02\",\"StationName\":\"台北\",\"DepartureTime\":\"09:01\",\"Show\":true,\"ColorClass\":\"purple\"},{\"StationNo\":\"03\",\"StationName\":\"板橋\",\"DepartureTime\":\"\",\"Show\":false,\"ColorClass\":\"dark_green\"},{\"StationNo\":\"04\",\"StationName\":\"桃園\",\"DepartureTime\":\"09:20\",\"Show\":true,\"ColorClass\":\"light_green\"},{\"StationNo\":\"05\",\"StationName\":\"新竹\",\"DepartureTime\":\"\",\"Show\":false,\"ColorClass\":\"gray\"},{\"StationNo\":\"06\",\"StationName\":\"苗栗\",\"DepartureTime\":\"\",\"Show\":false,\"ColorClass\":\"sky_blue\"},{\"StationNo\":\"07\",\"StationName\":\"台中\",\"DepartureTime\":\"09:54\",\"Show\":true,\"ColorClass\":\"pink\"},{\"StationNo\":\"08\",\"StationName\":\"彰化\",\"DepartureTime\":\"10:06\",\"Show\":true,\"ColorClass\":\"red\"},{\"StationNo\":\"09\",\"StationName\":\"雲林\",\"DepartureTime\":\"10:17\",\"Show\":true,\"ColorClass\":\"dark_blue\"},{\"StationNo\":\"10\",\"StationName\":\"嘉義\",\"DepartureTime\":\"10:30\",\"Show\":true,\"ColorClass\":\"yellow\"},{\"StationNo\":\"11\",\"StationName\":\"台南\",\"DepartureTime\":\"10:48\",\"Show\":true,\"ColorClass\":\"brown\"},{\"StationNo\":\"12\",\"StationName\":\"左營\",\"DepartureTime\":\"11:00\",\"Show\":true,\"ColorClass\":\"blue\"}],\"IsCrossNight\":false,\"RunDate\":\"2021/12/21\",\"DepartureTime_Order\":\"09:01\",\"DestinationTime_Order\":\"11:00\",\"DiscountWord\":null},{\"TrainNumber\":\"0813\",\"DepartureTime\":\"09:11\",\"DestinationTime\":\"11:25\",\"Duration\":\"02:14\",\"NonReservedCar\":\"10-12\",\"Discount\":[],\"Note\":\"\",\"Sequence\":12,\"StationInfo\":[{\"StationNo\":\"01\",\"StationName\":\"南港\",\"DepartureTime\":\"09:00\",\"Show\":true,\"ColorClass\":\"orange\"},{\"StationNo\":\"02\",\"StationName\":\"台北\",\"DepartureTime\":\"09:11\",\"Show\":true,\"ColorClass\":\"purple\"},{\"StationNo\":\"03\",\"StationName\":\"板橋\",\"DepartureTime\":\"09:19\",\"Show\":true,\"ColorClass\":\"dark_green\"},{\"StationNo\":\"04\",\"StationName\":\"桃園\",\"DepartureTime\":\"09:34\",\"Show\":true,\"ColorClass\":\"light_green\"},{\"StationNo\":\"05\",\"StationName\":\"新竹\",\"DepartureTime\":\"09:47\",\"Show\":true,\"ColorClass\":\"gray\"},{\"StationNo\":\"06\",\"StationName\":\"苗栗\",\"DepartureTime\":\"09:58\",\"Show\":true,\"ColorClass\":\"sky_blue\"},{\"StationNo\":\"07\",\"StationName\":\"台中\",\"DepartureTime\":\"10:17\",\"Show\":true,\"ColorClass\":\"pink\"},{\"StationNo\":\"08\",\"StationName\":\"彰化\",\"DepartureTime\":\"10:30\",\"Show\":true,\"ColorClass\":\"red\"},{\"StationNo\":\"09\",\"StationName\":\"雲林\",\"DepartureTime\":\"10:41\",\"Show\":true,\"ColorClass\":\"dark_blue\"},{\"StationNo\":\"10\",\"StationName\":\"嘉義\",\"DepartureTime\":\"10:55\",\"Show\":true,\"ColorClass\":\"yellow\"},{\"StationNo\":\"11\",\"StationName\":\"台南\",\"DepartureTime\":\"11:13\",\"Show\":true,\"ColorClass\":\"brown\"},{\"StationNo\":\"12\",\"StationName\":\"左營\",\"DepartureTime\":\"11:25\",\"Show\":true,\"ColorClass\":\"blue\"}],\"IsCrossNight\":false,\"RunDate\":\"2021/12/21\",\"DepartureTime_Order\":\"09:11\",\"DestinationTime_Order\":\"11:25\",\"DiscountWord\":null},{\"TrainNumber\":\"0619\",\"DepartureTime\":\"09:21\",\"DestinationTime\":\"11:20\",\"Duration\":\"01:59\",\"NonReservedCar\":\"10-12\",\"Discount\":[],\"Note\":\"\",\"Sequence\":13,\"StationInfo\":[{\"StationNo\":\"01\",\"StationName\":\"南港\",\"DepartureTime\":\"09:10\",\"Show\":true,\"ColorClass\":\"orange\"},{\"StationNo\":\"02\",\"StationName\":\"台北\",\"DepartureTime\":\"09:21\",\"Show\":true,\"ColorClass\":\"purple\"},{\"StationNo\":\"03\",\"StationName\":\"板橋\",\"DepartureTime\":\"09:29\",\"Show\":true,\"ColorClass\":\"dark_green\"},{\"StationNo\":\"04\",\"StationName\":\"桃園\",\"DepartureTime\":\"09:43\",\"Show\":true,\"ColorClass\":\"light_green\"},{\"StationNo\":\"05\",\"StationName\":\"新竹\",\"DepartureTime\":\"09:56\",\"Show\":true,\"ColorClass\":\"gray\"},{\"StationNo\":\"06\",\"StationName\":\"苗栗\",\"DepartureTime\":\"\",\"Show\":false,\"ColorClass\":\"sky_blue\"},{\"StationNo\":\"07\",\"StationName\":\"台中\",\"DepartureTime\":\"10:25\",\"Show\":true,\"ColorClass\":\"pink\"},{\"StationNo\":\"08\",\"StationName\":\"彰化\",\"DepartureTime\":\"\",\"Show\":false,\"ColorClass\":\"red\"},{\"StationNo\":\"09\",\"StationName\":\"雲林\",\"DepartureTime\":\"\",\"Show\":false,\"ColorClass\":\"dark_blue\"},{\"StationNo\":\"10\",\"StationName\":\"嘉義\",\"DepartureTime\":\"10:50\",\"Show\":true,\"ColorClass\":\"yellow\"},{\"StationNo\":\"11\",\"StationName\":\"台南\",\"DepartureTime\":\"11:07\",\"Show\":true,\"ColorClass\":\"brown\"},{\"StationNo\":\"12\",\"StationName\":\"左營\",\"DepartureTime\":\"11:20\",\"Show\":true,\"ColorClass\":\"blue\"}],\"IsCrossNight\":false,\"RunDate\":\"2021/12/21\",\"DepartureTime_Order\":\"09:21\",\"DestinationTime_Order\":\"11:20\",\"DiscountWord\":null},{\"TrainNumber\":\"0621\",\"DepartureTime\":\"09:46\",\"DestinationTime\":\"11:45\",\"Duration\":\"01:59\",\"NonReservedCar\":\"10-12\",\"Discount\":[],\"Note\":\"\",\"Sequence\":14,\"StationInfo\":[{\"StationNo\":\"01\",\"StationName\":\"南港\",\"DepartureTime\":\"09:35\",\"Show\":true,\"ColorClass\":\"orange\"},{\"StationNo\":\"02\",\"StationName\":\"台北\",\"DepartureTime\":\"09:46\",\"Show\":true,\"ColorClass\":\"purple\"},{\"StationNo\":\"03\",\"StationName\":\"板橋\",\"DepartureTime\":\"09:55\",\"Show\":true,\"ColorClass\":\"dark_green\"},{\"StationNo\":\"04\",\"StationName\":\"桃園\",\"DepartureTime\":\"10:10\",\"Show\":true,\"ColorClass\":\"light_green\"},{\"StationNo\":\"05\",\"StationName\":\"新竹\",\"DepartureTime\":\"10:22\",\"Show\":true,\"ColorClass\":\"gray\"},{\"StationNo\":\"06\",\"StationName\":\"苗栗\",\"DepartureTime\":\"\",\"Show\":false,\"ColorClass\":\"sky_blue\"},{\"StationNo\":\"07\",\"StationName\":\"台中\",\"DepartureTime\":\"10:48\",\"Show\":true,\"ColorClass\":\"pink\"},{\"StationNo\":\"08\",\"StationName\":\"彰化\",\"DepartureTime\":\"\",\"Show\":false,\"ColorClass\":\"red\"},{\"StationNo\":\"09\",\"StationName\":\"雲林\",\"DepartureTime\":\"\",\"Show\":false,\"ColorClass\":\"dark_blue\"},{\"StationNo\":\"10\",\"StationName\":\"嘉義\",\"DepartureTime\":\"11:14\",\"Show\":true,\"ColorClass\":\"yellow\"},{\"StationNo\":\"11\",\"StationName\":\"台南\",\"DepartureTime\":\"11:33\",\"Show\":true,\"ColorClass\":\"brown\"},{\"StationNo\":\"12\",\"StationName\":\"左營\",\"DepartureTime\":\"11:45\",\"Show\":true,\"ColorClass\":\"blue\"}],\"IsCrossNight\":false,\"RunDate\":\"2021/12/21\",\"DepartureTime_Order\":\"09:46\",\"DestinationTime_Order\":\"11:45\",\"DiscountWord\":null},{\"TrainNumber\":\"0213\",\"DepartureTime\":\"09:51\",\"DestinationTime\":\"11:30\",\"Duration\":\"01:39\",\"NonReservedCar\":\"10-12\",\"Discount\":[],\"Note\":\"\",\"Sequence\":15,\"StationInfo\":[{\"StationNo\":\"01\",\"StationName\":\"南港\",\"DepartureTime\":\"09:40\",\"Show\":true,\"ColorClass\":\"orange\"},{\"StationNo\":\"02\",\"StationName\":\"台北\",\"DepartureTime\":\"09:51\",\"Show\":true,\"ColorClass\":\"purple\"},{\"StationNo\":\"03\",\"StationName\":\"板橋\",\"DepartureTime\":\"09:59\",\"Show\":true,\"ColorClass\":\"dark_green\"},{\"StationNo\":\"04\",\"StationName\":\"桃園\",\"DepartureTime\":\"\",\"Show\":false,\"ColorClass\":\"light_green\"},{\"StationNo\":\"05\",\"StationName\":\"新竹\",\"DepartureTime\":\"\",\"Show\":false,\"ColorClass\":\"gray\"},{\"StationNo\":\"06\",\"StationName\":\"苗栗\",\"DepartureTime\":\"\",\"Show\":false,\"ColorClass\":\"sky_blue\"},{\"StationNo\":\"07\",\"StationName\":\"台中\",\"DepartureTime\":\"10:40\",\"Show\":true,\"ColorClass\":\"pink\"},{\"StationNo\":\"08\",\"StationName\":\"彰化\",\"DepartureTime\":\"\",\"Show\":false,\"ColorClass\":\"red\"},{\"StationNo\":\"09\",\"StationName\":\"雲林\",\"DepartureTime\":\"\",\"Show\":false,\"ColorClass\":\"dark_blue\"},{\"StationNo\":\"10\",\"StationName\":\"嘉義\",\"DepartureTime\":\"\",\"Show\":false,\"ColorClass\":\"yellow\"},{\"StationNo\":\"11\",\"StationName\":\"台南\",\"DepartureTime\":\"11:18\",\"Show\":true,\"ColorClass\":\"brown\"},{\"StationNo\":\"12\",\"StationName\":\"左營\",\"DepartureTime\":\"11:30\",\"Show\":true,\"ColorClass\":\"blue\"}],\"IsCrossNight\":false,\"RunDate\":\"2021/12/21\",\"DepartureTime_Order\":\"09:51\",\"DestinationTime_Order\":\"11:30\",\"DiscountWord\":null},{\"TrainNumber\":\"0817\",\"DepartureTime\":\"10:11\",\"DestinationTime\":\"12:25\",\"Duration\":\"02:14\",\"NonReservedCar\":\"10-12\",\"Discount\":[],\"Note\":\"\",\"Sequence\":16,\"StationInfo\":[{\"StationNo\":\"01\",\"StationName\":\"南港\",\"DepartureTime\":\"10:00\",\"Show\":true,\"ColorClass\":\"orange\"},{\"StationNo\":\"02\",\"StationName\":\"台北\",\"DepartureTime\":\"10:11\",\"Show\":true,\"ColorClass\":\"purple\"},{\"StationNo\":\"03\",\"StationName\":\"板橋\",\"DepartureTime\":\"10:19\",\"Show\":true,\"ColorClass\":\"dark_green\"},{\"StationNo\":\"04\",\"StationName\":\"桃園\",\"DepartureTime\":\"10:34\",\"Show\":true,\"ColorClass\":\"light_green\"},{\"StationNo\":\"05\",\"StationName\":\"新竹\",\"DepartureTime\":\"10:47\",\"Show\":true,\"ColorClass\":\"gray\"},{\"StationNo\":\"06\",\"StationName\":\"苗栗\",\"DepartureTime\":\"10:58\",\"Show\":true,\"ColorClass\":\"sky_blue\"},{\"StationNo\":\"07\",\"StationName\":\"台中\",\"DepartureTime\":\"11:17\",\"Show\":true,\"ColorClass\":\"pink\"},{\"StationNo\":\"08\",\"StationName\":\"彰化\",\"DepartureTime\":\"11:30\",\"Show\":true,\"ColorClass\":\"red\"},{\"StationNo\":\"09\",\"StationName\":\"雲林\",\"DepartureTime\":\"11:41\",\"Show\":true,\"ColorClass\":\"dark_blue\"},{\"StationNo\":\"10\",\"StationName\":\"嘉義\",\"DepartureTime\":\"11:55\",\"Show\":true,\"ColorClass\":\"yellow\"},{\"StationNo\":\"11\",\"StationName\":\"台南\",\"DepartureTime\":\"12:13\",\"Show\":true,\"ColorClass\":\"brown\"},{\"StationNo\":\"12\",\"StationName\":\"左營\",\"DepartureTime\":\"12:25\",\"Show\":true,\"ColorClass\":\"blue\"}],\"IsCrossNight\":false,\"RunDate\":\"2021/12/21\",\"DepartureTime_Order\":\"10:11\",\"DestinationTime_Order\":\"12:25\",\"DiscountWord\":null},{\"TrainNumber\":\"0625\",\"DepartureTime\":\"10:21\",\"DestinationTime\":\"12:20\",\"Duration\":\"01:59\",\"NonReservedCar\":\"10-12\",\"Discount\":[],\"Note\":\"\",\"Sequence\":17,\"StationInfo\":[{\"StationNo\":\"01\",\"StationName\":\"南港\",\"DepartureTime\":\"10:10\",\"Show\":true,\"ColorClass\":\"orange\"},{\"StationNo\":\"02\",\"StationName\":\"台北\",\"DepartureTime\":\"10:21\",\"Show\":true,\"ColorClass\":\"purple\"},{\"StationNo\":\"03\",\"StationName\":\"板橋\",\"DepartureTime\":\"10:29\",\"Show\":true,\"ColorClass\":\"dark_green\"},{\"StationNo\":\"04\",\"StationName\":\"桃園\",\"DepartureTime\":\"10:43\",\"Show\":true,\"ColorClass\":\"light_green\"},{\"StationNo\":\"05\",\"StationName\":\"新竹\",\"DepartureTime\":\"10:56\",\"Show\":true,\"ColorClass\":\"gray\"},{\"StationNo\":\"06\",\"StationName\":\"苗栗\",\"DepartureTime\":\"\",\"Show\":false,\"ColorClass\":\"sky_blue\"},{\"StationNo\":\"07\",\"StationName\":\"台中\",\"DepartureTime\":\"11:25\",\"Show\":true,\"ColorClass\":\"pink\"},{\"StationNo\":\"08\",\"StationName\":\"彰化\",\"DepartureTime\":\"\",\"Show\":false,\"ColorClass\":\"red\"},{\"StationNo\":\"09\",\"StationName\":\"雲林\",\"DepartureTime\":\"\",\"Show\":false,\"ColorClass\":\"dark_blue\"},{\"StationNo\":\"10\",\"StationName\":\"嘉義\",\"DepartureTime\":\"11:50\",\"Show\":true,\"ColorClass\":\"yellow\"},{\"StationNo\":\"11\",\"StationName\":\"台南\",\"DepartureTime\":\"12:07\",\"Show\":true,\"ColorClass\":\"brown\"},{\"StationNo\":\"12\",\"StationName\":\"左營\",\"DepartureTime\":\"12:20\",\"Show\":true,\"ColorClass\":\"blue\"}],\"IsCrossNight\":false,\"RunDate\":\"2021/12/21\",\"DepartureTime_Order\":\"10:21\",\"DestinationTime_Order\":\"12:20\",\"DiscountWord\":null},{\"TrainNumber\":\"0627\",\"DepartureTime\":\"10:46\",\"DestinationTime\":\"12:45\",\"Duration\":\"01:59\",\"NonReservedCar\":\"10-12\",\"Discount\":[],\"Note\":\"\",\"Sequence\":18,\"StationInfo\":[{\"StationNo\":\"01\",\"StationName\":\"南港\",\"DepartureTime\":\"10:35\",\"Show\":true,\"ColorClass\":\"orange\"},{\"StationNo\":\"02\",\"StationName\":\"台北\",\"DepartureTime\":\"10:46\",\"Show\":true,\"ColorClass\":\"purple\"},{\"StationNo\":\"03\",\"StationName\":\"板橋\",\"DepartureTime\":\"10:55\",\"Show\":true,\"ColorClass\":\"dark_green\"},{\"StationNo\":\"04\",\"StationName\":\"桃園\",\"DepartureTime\":\"11:10\",\"Show\":true,\"ColorClass\":\"light_green\"},{\"StationNo\":\"05\",\"StationName\":\"新竹\",\"DepartureTime\":\"11:22\",\"Show\":true,\"ColorClass\":\"gray\"},{\"StationNo\":\"06\",\"StationName\":\"苗栗\",\"DepartureTime\":\"\",\"Show\":false,\"ColorClass\":\"sky_blue\"},{\"StationNo\":\"07\",\"StationName\":\"台中\",\"DepartureTime\":\"11:48\",\"Show\":true,\"ColorClass\":\"pink\"},{\"StationNo\":\"08\",\"StationName\":\"彰化\",\"DepartureTime\":\"\",\"Show\":false,\"ColorClass\":\"red\"},{\"StationNo\":\"09\",\"StationName\":\"雲林\",\"DepartureTime\":\"\",\"Show\":false,\"ColorClass\":\"dark_blue\"},{\"StationNo\":\"10\",\"StationName\":\"嘉義\",\"DepartureTime\":\"12:14\",\"Show\":true,\"ColorClass\":\"yellow\"},{\"StationNo\":\"11\",\"StationName\":\"台南\",\"DepartureTime\":\"12:33\",\"Show\":true,\"ColorClass\":\"brown\"},{\"StationNo\":\"12\",\"StationName\":\"左營\",\"DepartureTime\":\"12:45\",\"Show\":true,\"ColorClass\":\"blue\"}],\"IsCrossNight\":false,\"RunDate\":\"2021/12/21\",\"DepartureTime_Order\":\"10:46\",\"DestinationTime_Order\":\"12:45\",\"DiscountWord\":null},{\"TrainNumber\":\"0217\",\"DepartureTime\":\"10:51\",\"DestinationTime\":\"12:30\",\"Duration\":\"01:39\",\"NonReservedCar\":\"10-12\",\"Discount\":[],\"Note\":\"\",\"Sequence\":19,\"StationInfo\":[{\"StationNo\":\"01\",\"StationName\":\"南港\",\"DepartureTime\":\"10:40\",\"Show\":true,\"ColorClass\":\"orange\"},{\"StationNo\":\"02\",\"StationName\":\"台北\",\"DepartureTime\":\"10:51\",\"Show\":true,\"ColorClass\":\"purple\"},{\"StationNo\":\"03\",\"StationName\":\"板橋\",\"DepartureTime\":\"10:59\",\"Show\":true,\"ColorClass\":\"dark_green\"},{\"StationNo\":\"04\",\"StationName\":\"桃園\",\"DepartureTime\":\"\",\"Show\":false,\"ColorClass\":\"light_green\"},{\"StationNo\":\"05\",\"StationName\":\"新竹\",\"DepartureTime\":\"\",\"Show\":false,\"ColorClass\":\"gray\"},{\"StationNo\":\"06\",\"StationName\":\"苗栗\",\"DepartureTime\":\"\",\"Show\":false,\"ColorClass\":\"sky_blue\"},{\"StationNo\":\"07\",\"StationName\":\"台中\",\"DepartureTime\":\"11:40\",\"Show\":true,\"ColorClass\":\"pink\"},{\"StationNo\":\"08\",\"StationName\":\"彰化\",\"DepartureTime\":\"\",\"Show\":false,\"ColorClass\":\"red\"},{\"StationNo\":\"09\",\"StationName\":\"雲林\",\"DepartureTime\":\"\",\"Show\":false,\"ColorClass\":\"dark_blue\"},{\"StationNo\":\"10\",\"StationName\":\"嘉義\",\"DepartureTime\":\"\",\"Show\":false,\"ColorClass\":\"yellow\"},{\"StationNo\":\"11\",\"StationName\":\"台南\",\"DepartureTime\":\"12:18\",\"Show\":true,\"ColorClass\":\"brown\"},{\"StationNo\":\"12\",\"StationName\":\"左營\",\"DepartureTime\":\"12:30\",\"Show\":true,\"ColorClass\":\"blue\"}],\"IsCrossNight\":false,\"RunDate\":\"2021/12/21\",\"DepartureTime_Order\":\"10:51\",\"DestinationTime_Order\":\"12:30\",\"DiscountWord\":null},{\"TrainNumber\":\"0821\",\"DepartureTime\":\"11:11\",\"DestinationTime\":\"13:25\",\"Duration\":\"02:14\",\"NonReservedCar\":\"10-12\",\"Discount\":[],\"Note\":\"\",\"Sequence\":20,\"StationInfo\":[{\"StationNo\":\"01\",\"StationName\":\"南港\",\"DepartureTime\":\"11:00\",\"Show\":true,\"ColorClass\":\"orange\"},{\"StationNo\":\"02\",\"StationName\":\"台北\",\"DepartureTime\":\"11:11\",\"Show\":true,\"ColorClass\":\"purple\"},{\"StationNo\":\"03\",\"StationName\":\"板橋\",\"DepartureTime\":\"11:19\",\"Show\":true,\"ColorClass\":\"dark_green\"},{\"StationNo\":\"04\",\"StationName\":\"桃園\",\"DepartureTime\":\"11:34\",\"Show\":true,\"ColorClass\":\"light_green\"},{\"StationNo\":\"05\",\"StationName\":\"新竹\",\"DepartureTime\":\"11:47\",\"Show\":true,\"ColorClass\":\"gray\"},{\"StationNo\":\"06\",\"StationName\":\"苗栗\",\"DepartureTime\":\"11:58\",\"Show\":true,\"ColorClass\":\"sky_blue\"},{\"StationNo\":\"07\",\"StationName\":\"台中\",\"DepartureTime\":\"12:17\",\"Show\":true,\"ColorClass\":\"pink\"},{\"StationNo\":\"08\",\"StationName\":\"彰化\",\"DepartureTime\":\"12:30\",\"Show\":true,\"ColorClass\":\"red\"},{\"StationNo\":\"09\",\"StationName\":\"雲林\",\"DepartureTime\":\"12:41\",\"Show\":true,\"ColorClass\":\"dark_blue\"},{\"StationNo\":\"10\",\"StationName\":\"嘉義\",\"DepartureTime\":\"12:55\",\"Show\":true,\"ColorClass\":\"yellow\"},{\"StationNo\":\"11\",\"StationName\":\"台南\",\"DepartureTime\":\"13:13\",\"Show\":true,\"ColorClass\":\"brown\"},{\"StationNo\":\"12\",\"StationName\":\"左營\",\"DepartureTime\":\"13:25\",\"Show\":true,\"ColorClass\":\"blue\"}],\"IsCrossNight\":false,\"RunDate\":\"2021/12/21\",\"DepartureTime_Order\":\"11:11\",\"DestinationTime_Order\":\"13:25\",\"DiscountWord\":null},{\"TrainNumber\":\"0633\",\"DepartureTime\":\"11:46\",\"DestinationTime\":\"13:45\",\"Duration\":\"01:59\",\"NonReservedCar\":\"10-12\",\"Discount\":[],\"Note\":\"\",\"Sequence\":21,\"StationInfo\":[{\"StationNo\":\"01\",\"StationName\":\"南港\",\"DepartureTime\":\"11:35\",\"Show\":true,\"ColorClass\":\"orange\"},{\"StationNo\":\"02\",\"StationName\":\"台北\",\"DepartureTime\":\"11:46\",\"Show\":true,\"ColorClass\":\"purple\"},{\"StationNo\":\"03\",\"StationName\":\"板橋\",\"DepartureTime\":\"11:55\",\"Show\":true,\"ColorClass\":\"dark_green\"},{\"StationNo\":\"04\",\"StationName\":\"桃園\",\"DepartureTime\":\"12:10\",\"Show\":true,\"ColorClass\":\"light_green\"},{\"StationNo\":\"05\",\"StationName\":\"新竹\",\"DepartureTime\":\"12:22\",\"Show\":true,\"ColorClass\":\"gray\"},{\"StationNo\":\"06\",\"StationName\":\"苗栗\",\"DepartureTime\":\"\",\"Show\":false,\"ColorClass\":\"sky_blue\"},{\"StationNo\":\"07\",\"StationName\":\"台中\",\"DepartureTime\":\"12:48\",\"Show\":true,\"ColorClass\":\"pink\"},{\"StationNo\":\"08\",\"StationName\":\"彰化\",\"DepartureTime\":\"\",\"Show\":false,\"ColorClass\":\"red\"},{\"StationNo\":\"09\",\"StationName\":\"雲林\",\"DepartureTime\":\"\",\"Show\":false,\"ColorClass\":\"dark_blue\"},{\"StationNo\":\"10\",\"StationName\":\"嘉義\",\"DepartureTime\":\"13:14\",\"Show\":true,\"ColorClass\":\"yellow\"},{\"StationNo\":\"11\",\"StationName\":\"台南\",\"DepartureTime\":\"13:33\",\"Show\":true,\"ColorClass\":\"brown\"},{\"StationNo\":\"12\",\"StationName\":\"左營\",\"DepartureTime\":\"13:45\",\"Show\":true,\"ColorClass\":\"blue\"}],\"IsCrossNight\":false,\"RunDate\":\"2021/12/21\",\"DepartureTime_Order\":\"11:46\",\"DestinationTime_Order\":\"13:45\",\"DiscountWord\":null},{\"TrainNumber\":\"0221\",\"DepartureTime\":\"11:51\",\"DestinationTime\":\"13:30\",\"Duration\":\"01:39\",\"NonReservedCar\":\"10-12\",\"Discount\":[],\"Note\":\"\",\"Sequence\":22,\"StationInfo\":[{\"StationNo\":\"01\",\"StationName\":\"南港\",\"DepartureTime\":\"11:40\",\"Show\":true,\"ColorClass\":\"orange\"},{\"StationNo\":\"02\",\"StationName\":\"台北\",\"DepartureTime\":\"11:51\",\"Show\":true,\"ColorClass\":\"purple\"},{\"StationNo\":\"03\",\"StationName\":\"板橋\",\"DepartureTime\":\"11:59\",\"Show\":true,\"ColorClass\":\"dark_green\"},{\"StationNo\":\"04\",\"StationName\":\"桃園\",\"DepartureTime\":\"\",\"Show\":false,\"ColorClass\":\"light_green\"},{\"StationNo\":\"05\",\"StationName\":\"新竹\",\"DepartureTime\":\"\",\"Show\":false,\"ColorClass\":\"gray\"},{\"StationNo\":\"06\",\"StationName\":\"苗栗\",\"DepartureTime\":\"\",\"Show\":false,\"ColorClass\":\"sky_blue\"},{\"StationNo\":\"07\",\"StationName\":\"台中\",\"DepartureTime\":\"12:40\",\"Show\":true,\"ColorClass\":\"pink\"},{\"StationNo\":\"08\",\"StationName\":\"彰化\",\"DepartureTime\":\"\",\"Show\":false,\"ColorClass\":\"red\"},{\"StationNo\":\"09\",\"StationName\":\"雲林\",\"DepartureTime\":\"\",\"Show\":false,\"ColorClass\":\"dark_blue\"},{\"StationNo\":\"10\",\"StationName\":\"嘉義\",\"DepartureTime\":\"\",\"Show\":false,\"ColorClass\":\"yellow\"},{\"StationNo\":\"11\",\"StationName\":\"台南\",\"DepartureTime\":\"13:18\",\"Show\":true,\"ColorClass\":\"brown\"},{\"StationNo\":\"12\",\"StationName\":\"左營\",\"DepartureTime\":\"13:30\",\"Show\":true,\"ColorClass\":\"blue\"}],\"IsCrossNight\":false,\"RunDate\":\"2021/12/21\",\"DepartureTime_Order\":\"11:51\",\"DestinationTime_Order\":\"13:30\",\"DiscountWord\":null},{\"TrainNumber\":\"0825\",\"DepartureTime\":\"12:11\",\"DestinationTime\":\"14:25\",\"Duration\":\"02:14\",\"NonReservedCar\":\"10-12\",\"Discount\":[],\"Note\":\"\",\"Sequence\":23,\"StationInfo\":[{\"StationNo\":\"01\",\"StationName\":\"南港\",\"DepartureTime\":\"12:00\",\"Show\":true,\"ColorClass\":\"orange\"},{\"StationNo\":\"02\",\"StationName\":\"台北\",\"DepartureTime\":\"12:11\",\"Show\":true,\"ColorClass\":\"purple\"},{\"StationNo\":\"03\",\"StationName\":\"板橋\",\"DepartureTime\":\"12:19\",\"Show\":true,\"ColorClass\":\"dark_green\"},{\"StationNo\":\"04\",\"StationName\":\"桃園\",\"DepartureTime\":\"12:34\",\"Show\":true,\"ColorClass\":\"light_green\"},{\"StationNo\":\"05\",\"StationName\":\"新竹\",\"DepartureTime\":\"12:47\",\"Show\":true,\"ColorClass\":\"gray\"},{\"StationNo\":\"06\",\"StationName\":\"苗栗\",\"DepartureTime\":\"12:58\",\"Show\":true,\"ColorClass\":\"sky_blue\"},{\"StationNo\":\"07\",\"StationName\":\"台中\",\"DepartureTime\":\"13:17\",\"Show\":true,\"ColorClass\":\"pink\"},{\"StationNo\":\"08\",\"StationName\":\"彰化\",\"DepartureTime\":\"13:30\",\"Show\":true,\"ColorClass\":\"red\"},{\"StationNo\":\"09\",\"StationName\":\"雲林\",\"DepartureTime\":\"13:41\",\"Show\":true,\"ColorClass\":\"dark_blue\"},{\"StationNo\":\"10\",\"StationName\":\"嘉義\",\"DepartureTime\":\"13:55\",\"Show\":true,\"ColorClass\":\"yellow\"},{\"StationNo\":\"11\",\"StationName\":\"台南\",\"DepartureTime\":\"14:13\",\"Show\":true,\"ColorClass\":\"brown\"},{\"StationNo\":\"12\",\"StationName\":\"左營\",\"DepartureTime\":\"14:25\",\"Show\":true,\"ColorClass\":\"blue\"}],\"IsCrossNight\":false,\"RunDate\":\"2021/12/21\",\"DepartureTime_Order\":\"12:11\",\"DestinationTime_Order\":\"14:25\",\"DiscountWord\":null},{\"TrainNumber\":\"0639\",\"DepartureTime\":\"12:46\",\"DestinationTime\":\"14:45\",\"Duration\":\"01:59\",\"NonReservedCar\":\"10-12\",\"Discount\":[],\"Note\":\"\",\"Sequence\":24,\"StationInfo\":[{\"StationNo\":\"01\",\"StationName\":\"南港\",\"DepartureTime\":\"12:35\",\"Show\":true,\"ColorClass\":\"orange\"},{\"StationNo\":\"02\",\"StationName\":\"台北\",\"DepartureTime\":\"12:46\",\"Show\":true,\"ColorClass\":\"purple\"},{\"StationNo\":\"03\",\"StationName\":\"板橋\",\"DepartureTime\":\"12:55\",\"Show\":true,\"ColorClass\":\"dark_green\"},{\"StationNo\":\"04\",\"StationName\":\"桃園\",\"DepartureTime\":\"13:10\",\"Show\":true,\"ColorClass\":\"light_green\"},{\"StationNo\":\"05\",\"StationName\":\"新竹\",\"DepartureTime\":\"13:22\",\"Show\":true,\"ColorClass\":\"gray\"},{\"StationNo\":\"06\",\"StationName\":\"苗栗\",\"DepartureTime\":\"\",\"Show\":false,\"ColorClass\":\"sky_blue\"},{\"StationNo\":\"07\",\"StationName\":\"台中\",\"DepartureTime\":\"13:48\",\"Show\":true,\"ColorClass\":\"pink\"},{\"StationNo\":\"08\",\"StationName\":\"彰化\",\"DepartureTime\":\"\",\"Show\":false,\"ColorClass\":\"red\"},{\"StationNo\":\"09\",\"StationName\":\"雲林\",\"DepartureTime\":\"\",\"Show\":false,\"ColorClass\":\"dark_blue\"},{\"StationNo\":\"10\",\"StationName\":\"嘉義\",\"DepartureTime\":\"14:14\",\"Show\":true,\"ColorClass\":\"yellow\"},{\"StationNo\":\"11\",\"StationName\":\"台南\",\"DepartureTime\":\"14:33\",\"Show\":true,\"ColorClass\":\"brown\"},{\"StationNo\":\"12\",\"StationName\":\"左營\",\"DepartureTime\":\"14:45\",\"Show\":true,\"ColorClass\":\"blue\"}],\"IsCrossNight\":false,\"RunDate\":\"2021/12/21\",\"DepartureTime_Order\":\"12:46\",\"DestinationTime_Order\":\"14:45\",\"DiscountWord\":null},{\"TrainNumber\":\"0225\",\"DepartureTime\":\"12:51\",\"DestinationTime\":\"14:30\",\"Duration\":\"01:39\",\"NonReservedCar\":\"10-12\",\"Discount\":[],\"Note\":\"\",\"Sequence\":25,\"StationInfo\":[{\"StationNo\":\"01\",\"StationName\":\"南港\",\"DepartureTime\":\"12:40\",\"Show\":true,\"ColorClass\":\"orange\"},{\"StationNo\":\"02\",\"StationName\":\"台北\",\"DepartureTime\":\"12:51\",\"Show\":true,\"ColorClass\":\"purple\"},{\"StationNo\":\"03\",\"StationName\":\"板橋\",\"DepartureTime\":\"12:59\",\"Show\":true,\"ColorClass\":\"dark_green\"},{\"StationNo\":\"04\",\"StationName\":\"桃園\",\"DepartureTime\":\"\",\"Show\":false,\"ColorClass\":\"light_green\"},{\"StationNo\":\"05\",\"StationName\":\"新竹\",\"DepartureTime\":\"\",\"Show\":false,\"ColorClass\":\"gray\"},{\"StationNo\":\"06\",\"StationName\":\"苗栗\",\"DepartureTime\":\"\",\"Show\":false,\"ColorClass\":\"sky_blue\"},{\"StationNo\":\"07\",\"StationName\":\"台中\",\"DepartureTime\":\"13:40\",\"Show\":true,\"ColorClass\":\"pink\"},{\"StationNo\":\"08\",\"StationName\":\"彰化\",\"DepartureTime\":\"\",\"Show\":false,\"ColorClass\":\"red\"},{\"StationNo\":\"09\",\"StationName\":\"雲林\",\"DepartureTime\":\"\",\"Show\":false,\"ColorClass\":\"dark_blue\"},{\"StationNo\":\"10\",\"StationName\":\"嘉義\",\"DepartureTime\":\"\",\"Show\":false,\"ColorClass\":\"yellow\"},{\"StationNo\":\"11\",\"StationName\":\"台南\",\"DepartureTime\":\"14:18\",\"Show\":true,\"ColorClass\":\"brown\"},{\"StationNo\":\"12\",\"StationName\":\"左營\",\"DepartureTime\":\"14:30\",\"Show\":true,\"ColorClass\":\"blue\"}],\"IsCrossNight\":false,\"RunDate\":\"2021/12/21\",\"DepartureTime_Order\":\"12:51\",\"DestinationTime_Order\":\"14:30\",\"DiscountWord\":null},{\"TrainNumber\":\"0829\",\"DepartureTime\":\"13:11\",\"DestinationTime\":\"15:25\",\"Duration\":\"02:14\",\"NonReservedCar\":\"10-12\",\"Discount\":[],\"Note\":\"\",\"Sequence\":26,\"StationInfo\":[{\"StationNo\":\"01\",\"StationName\":\"南港\",\"DepartureTime\":\"13:00\",\"Show\":true,\"ColorClass\":\"orange\"},{\"StationNo\":\"02\",\"StationName\":\"台北\",\"DepartureTime\":\"13:11\",\"Show\":true,\"ColorClass\":\"purple\"},{\"StationNo\":\"03\",\"StationName\":\"板橋\",\"DepartureTime\":\"13:19\",\"Show\":true,\"ColorClass\":\"dark_green\"},{\"StationNo\":\"04\",\"StationName\":\"桃園\",\"DepartureTime\":\"13:34\",\"Show\":true,\"ColorClass\":\"light_green\"},{\"StationNo\":\"05\",\"StationName\":\"新竹\",\"DepartureTime\":\"13:47\",\"Show\":true,\"ColorClass\":\"gray\"},{\"StationNo\":\"06\",\"StationName\":\"苗栗\",\"DepartureTime\":\"13:58\",\"Show\":true,\"ColorClass\":\"sky_blue\"},{\"StationNo\":\"07\",\"StationName\":\"台中\",\"DepartureTime\":\"14:17\",\"Show\":true,\"ColorClass\":\"pink\"},{\"StationNo\":\"08\",\"StationName\":\"彰化\",\"DepartureTime\":\"14:30\",\"Show\":true,\"ColorClass\":\"red\"},{\"StationNo\":\"09\",\"StationName\":\"雲林\",\"DepartureTime\":\"14:41\",\"Show\":true,\"ColorClass\":\"dark_blue\"},{\"StationNo\":\"10\",\"StationName\":\"嘉義\",\"DepartureTime\":\"14:55\",\"Show\":true,\"ColorClass\":\"yellow\"},{\"StationNo\":\"11\",\"StationName\":\"台南\",\"DepartureTime\":\"15:13\",\"Show\":true,\"ColorClass\":\"brown\"},{\"StationNo\":\"12\",\"StationName\":\"左營\",\"DepartureTime\":\"15:25\",\"Show\":true,\"ColorClass\":\"blue\"}],\"IsCrossNight\":false,\"RunDate\":\"2021/12/21\",\"DepartureTime_Order\":\"13:11\",\"DestinationTime_Order\":\"15:25\",\"DiscountWord\":null},{\"TrainNumber\":\"0645\",\"DepartureTime\":\"13:46\",\"DestinationTime\":\"15:45\",\"Duration\":\"01:59\",\"NonReservedCar\":\"10-12\",\"Discount\":[],\"Note\":\"\",\"Sequence\":27,\"StationInfo\":[{\"StationNo\":\"01\",\"StationName\":\"南港\",\"DepartureTime\":\"13:35\",\"Show\":true,\"ColorClass\":\"orange\"},{\"StationNo\":\"02\",\"StationName\":\"台北\",\"DepartureTime\":\"13:46\",\"Show\":true,\"ColorClass\":\"purple\"},{\"StationNo\":\"03\",\"StationName\":\"板橋\",\"DepartureTime\":\"13:55\",\"Show\":true,\"ColorClass\":\"dark_green\"},{\"StationNo\":\"04\",\"StationName\":\"桃園\",\"DepartureTime\":\"14:10\",\"Show\":true,\"ColorClass\":\"light_green\"},{\"StationNo\":\"05\",\"StationName\":\"新竹\",\"DepartureTime\":\"14:22\",\"Show\":true,\"ColorClass\":\"gray\"},{\"StationNo\":\"06\",\"StationName\":\"苗栗\",\"DepartureTime\":\"\",\"Show\":false,\"ColorClass\":\"sky_blue\"},{\"StationNo\":\"07\",\"StationName\":\"台中\",\"DepartureTime\":\"14:48\",\"Show\":true,\"ColorClass\":\"pink\"},{\"StationNo\":\"08\",\"StationName\":\"彰化\",\"DepartureTime\":\"\",\"Show\":false,\"ColorClass\":\"red\"},{\"StationNo\":\"09\",\"StationName\":\"雲林\",\"DepartureTime\":\"\",\"Show\":false,\"ColorClass\":\"dark_blue\"},{\"StationNo\":\"10\",\"StationName\":\"嘉義\",\"DepartureTime\":\"15:14\",\"Show\":true,\"ColorClass\":\"yellow\"},{\"StationNo\":\"11\",\"StationName\":\"台南\",\"DepartureTime\":\"15:33\",\"Show\":true,\"ColorClass\":\"brown\"},{\"StationNo\":\"12\",\"StationName\":\"左營\",\"DepartureTime\":\"15:45\",\"Show\":true,\"ColorClass\":\"blue\"}],\"IsCrossNight\":false,\"RunDate\":\"2021/12/21\",\"DepartureTime_Order\":\"13:46\",\"DestinationTime_Order\":\"15:45\",\"DiscountWord\":null},{\"TrainNumber\":\"0229\",\"DepartureTime\":\"13:51\",\"DestinationTime\":\"15:30\",\"Duration\":\"01:39\",\"NonReservedCar\":\"10-12\",\"Discount\":[],\"Note\":\"\",\"Sequence\":28,\"StationInfo\":[{\"StationNo\":\"01\",\"StationName\":\"南港\",\"DepartureTime\":\"13:40\",\"Show\":true,\"ColorClass\":\"orange\"},{\"StationNo\":\"02\",\"StationName\":\"台北\",\"DepartureTime\":\"13:51\",\"Show\":true,\"ColorClass\":\"purple\"},{\"StationNo\":\"03\",\"StationName\":\"板橋\",\"DepartureTime\":\"13:59\",\"Show\":true,\"ColorClass\":\"dark_green\"},{\"StationNo\":\"04\",\"StationName\":\"桃園\",\"DepartureTime\":\"\",\"Show\":false,\"ColorClass\":\"light_green\"},{\"StationNo\":\"05\",\"StationName\":\"新竹\",\"DepartureTime\":\"\",\"Show\":false,\"ColorClass\":\"gray\"},{\"StationNo\":\"06\",\"StationName\":\"苗栗\",\"DepartureTime\":\"\",\"Show\":false,\"ColorClass\":\"sky_blue\"},{\"StationNo\":\"07\",\"StationName\":\"台中\",\"DepartureTime\":\"14:40\",\"Show\":true,\"ColorClass\":\"pink\"},{\"StationNo\":\"08\",\"StationName\":\"彰化\",\"DepartureTime\":\"\",\"Show\":false,\"ColorClass\":\"red\"},{\"StationNo\":\"09\",\"StationName\":\"雲林\",\"DepartureTime\":\"\",\"Show\":false,\"ColorClass\":\"dark_blue\"},{\"StationNo\":\"10\",\"StationName\":\"嘉義\",\"DepartureTime\":\"\",\"Show\":false,\"ColorClass\":\"yellow\"},{\"StationNo\":\"11\",\"StationName\":\"台南\",\"DepartureTime\":\"15:18\",\"Show\":true,\"ColorClass\":\"brown\"},{\"StationNo\":\"12\",\"StationName\":\"左營\",\"DepartureTime\":\"15:30\",\"Show\":true,\"ColorClass\":\"blue\"}],\"IsCrossNight\":false,\"RunDate\":\"2021/12/21\",\"DepartureTime_Order\":\"13:51\",\"DestinationTime_Order\":\"15:30\",\"DiscountWord\":null},{\"TrainNumber\":\"0833\",\"DepartureTime\":\"14:11\",\"DestinationTime\":\"16:25\",\"Duration\":\"02:14\",\"NonReservedCar\":\"10-12\",\"Discount\":[],\"Note\":\"\",\"Sequence\":29,\"StationInfo\":[{\"StationNo\":\"01\",\"StationName\":\"南港\",\"DepartureTime\":\"14:00\",\"Show\":true,\"ColorClass\":\"orange\"},{\"StationNo\":\"02\",\"StationName\":\"台北\",\"DepartureTime\":\"14:11\",\"Show\":true,\"ColorClass\":\"purple\"},{\"StationNo\":\"03\",\"StationName\":\"板橋\",\"DepartureTime\":\"14:19\",\"Show\":true,\"ColorClass\":\"dark_green\"},{\"StationNo\":\"04\",\"StationName\":\"桃園\",\"DepartureTime\":\"14:34\",\"Show\":true,\"ColorClass\":\"light_green\"},{\"StationNo\":\"05\",\"StationName\":\"新竹\",\"DepartureTime\":\"14:47\",\"Show\":true,\"ColorClass\":\"gray\"},{\"StationNo\":\"06\",\"StationName\":\"苗栗\",\"DepartureTime\":\"14:58\",\"Show\":true,\"ColorClass\":\"sky_blue\"},{\"StationNo\":\"07\",\"StationName\":\"台中\",\"DepartureTime\":\"15:17\",\"Show\":true,\"ColorClass\":\"pink\"},{\"StationNo\":\"08\",\"StationName\":\"彰化\",\"DepartureTime\":\"15:30\",\"Show\":true,\"ColorClass\":\"red\"},{\"StationNo\":\"09\",\"StationName\":\"雲林\",\"DepartureTime\":\"15:41\",\"Show\":true,\"ColorClass\":\"dark_blue\"},{\"StationNo\":\"10\",\"StationName\":\"嘉義\",\"DepartureTime\":\"15:55\",\"Show\":true,\"ColorClass\":\"yellow\"},{\"StationNo\":\"11\",\"StationName\":\"台南\",\"DepartureTime\":\"16:13\",\"Show\":true,\"ColorClass\":\"brown\"},{\"StationNo\":\"12\",\"StationName\":\"左營\",\"DepartureTime\":\"16:25\",\"Show\":true,\"ColorClass\":\"blue\"}],\"IsCrossNight\":false,\"RunDate\":\"2021/12/21\",\"DepartureTime_Order\":\"14:11\",\"DestinationTime_Order\":\"16:25\",\"DiscountWord\":null},{\"TrainNumber\":\"0651\",\"DepartureTime\":\"14:46\",\"DestinationTime\":\"16:45\",\"Duration\":\"01:59\",\"NonReservedCar\":\"10-12\",\"Discount\":[],\"Note\":\"\",\"Sequence\":30,\"StationInfo\":[{\"StationNo\":\"01\",\"StationName\":\"南港\",\"DepartureTime\":\"14:35\",\"Show\":true,\"ColorClass\":\"orange\"},{\"StationNo\":\"02\",\"StationName\":\"台北\",\"DepartureTime\":\"14:46\",\"Show\":true,\"ColorClass\":\"purple\"},{\"StationNo\":\"03\",\"StationName\":\"板橋\",\"DepartureTime\":\"14:55\",\"Show\":true,\"ColorClass\":\"dark_green\"},{\"StationNo\":\"04\",\"StationName\":\"桃園\",\"DepartureTime\":\"15:10\",\"Show\":true,\"ColorClass\":\"light_green\"},{\"StationNo\":\"05\",\"StationName\":\"新竹\",\"DepartureTime\":\"15:22\",\"Show\":true,\"ColorClass\":\"gray\"},{\"StationNo\":\"06\",\"StationName\":\"苗栗\",\"DepartureTime\":\"\",\"Show\":false,\"ColorClass\":\"sky_blue\"},{\"StationNo\":\"07\",\"StationName\":\"台中\",\"DepartureTime\":\"15:48\",\"Show\":true,\"ColorClass\":\"pink\"},{\"StationNo\":\"08\",\"StationName\":\"彰化\",\"DepartureTime\":\"\",\"Show\":false,\"ColorClass\":\"red\"},{\"StationNo\":\"09\",\"StationName\":\"雲林\",\"DepartureTime\":\"\",\"Show\":false,\"ColorClass\":\"dark_blue\"},{\"StationNo\":\"10\",\"StationName\":\"嘉義\",\"DepartureTime\":\"16:14\",\"Show\":true,\"ColorClass\":\"yellow\"},{\"StationNo\":\"11\",\"StationName\":\"台南\",\"DepartureTime\":\"16:33\",\"Show\":true,\"ColorClass\":\"brown\"},{\"StationNo\":\"12\",\"StationName\":\"左營\",\"DepartureTime\":\"16:45\",\"Show\":true,\"ColorClass\":\"blue\"}],\"IsCrossNight\":false,\"RunDate\":\"2021/12/21\",\"DepartureTime_Order\":\"14:46\",\"DestinationTime_Order\":\"16:45\",\"DiscountWord\":null},{\"TrainNumber\":\"0233\",\"DepartureTime\":\"14:51\",\"DestinationTime\":\"16:30\",\"Duration\":\"01:39\",\"NonReservedCar\":\"10-12\",\"Discount\":[],\"Note\":\"\",\"Sequence\":31,\"StationInfo\":[{\"StationNo\":\"01\",\"StationName\":\"南港\",\"DepartureTime\":\"14:40\",\"Show\":true,\"ColorClass\":\"orange\"},{\"StationNo\":\"02\",\"StationName\":\"台北\",\"DepartureTime\":\"14:51\",\"Show\":true,\"ColorClass\":\"purple\"},{\"StationNo\":\"03\",\"StationName\":\"板橋\",\"DepartureTime\":\"14:59\",\"Show\":true,\"ColorClass\":\"dark_green\"},{\"StationNo\":\"04\",\"StationName\":\"桃園\",\"DepartureTime\":\"\",\"Show\":false,\"ColorClass\":\"light_green\"},{\"StationNo\":\"05\",\"StationName\":\"新竹\",\"DepartureTime\":\"\",\"Show\":false,\"ColorClass\":\"gray\"},{\"StationNo\":\"06\",\"StationName\":\"苗栗\",\"DepartureTime\":\"\",\"Show\":false,\"ColorClass\":\"sky_blue\"},{\"StationNo\":\"07\",\"StationName\":\"台中\",\"DepartureTime\":\"15:40\",\"Show\":true,\"ColorClass\":\"pink\"},{\"StationNo\":\"08\",\"StationName\":\"彰化\",\"DepartureTime\":\"\",\"Show\":false,\"ColorClass\":\"red\"},{\"StationNo\":\"09\",\"StationName\":\"雲林\",\"DepartureTime\":\"\",\"Show\":false,\"ColorClass\":\"dark_blue\"},{\"StationNo\":\"10\",\"StationName\":\"嘉義\",\"DepartureTime\":\"\",\"Show\":false,\"ColorClass\":\"yellow\"},{\"StationNo\":\"11\",\"StationName\":\"台南\",\"DepartureTime\":\"16:18\",\"Show\":true,\"ColorClass\":\"brown\"},{\"StationNo\":\"12\",\"StationName\":\"左營\",\"DepartureTime\":\"16:30\",\"Show\":true,\"ColorClass\":\"blue\"}],\"IsCrossNight\":false,\"RunDate\":\"2021/12/21\",\"DepartureTime_Order\":\"14:51\",\"DestinationTime_Order\":\"16:30\",\"DiscountWord\":null},{\"TrainNumber\":\"0837\",\"DepartureTime\":\"15:11\",\"DestinationTime\":\"17:25\",\"Duration\":\"02:14\",\"NonReservedCar\":\"10-12\",\"Discount\":[],\"Note\":\"\",\"Sequence\":32,\"StationInfo\":[{\"StationNo\":\"01\",\"StationName\":\"南港\",\"DepartureTime\":\"15:00\",\"Show\":true,\"ColorClass\":\"orange\"},{\"StationNo\":\"02\",\"StationName\":\"台北\",\"DepartureTime\":\"15:11\",\"Show\":true,\"ColorClass\":\"purple\"},{\"StationNo\":\"03\",\"StationName\":\"板橋\",\"DepartureTime\":\"15:19\",\"Show\":true,\"ColorClass\":\"dark_green\"},{\"StationNo\":\"04\",\"StationName\":\"桃園\",\"DepartureTime\":\"15:34\",\"Show\":true,\"ColorClass\":\"light_green\"},{\"StationNo\":\"05\",\"StationName\":\"新竹\",\"DepartureTime\":\"15:47\",\"Show\":true,\"ColorClass\":\"gray\"},{\"StationNo\":\"06\",\"StationName\":\"苗栗\",\"DepartureTime\":\"15:58\",\"Show\":true,\"ColorClass\":\"sky_blue\"},{\"StationNo\":\"07\",\"StationName\":\"台中\",\"DepartureTime\":\"16:17\",\"Show\":true,\"ColorClass\":\"pink\"},{\"StationNo\":\"08\",\"StationName\":\"彰化\",\"DepartureTime\":\"16:30\",\"Show\":true,\"ColorClass\":\"red\"},{\"StationNo\":\"09\",\"StationName\":\"雲林\",\"DepartureTime\":\"16:41\",\"Show\":true,\"ColorClass\":\"dark_blue\"},{\"StationNo\":\"10\",\"StationName\":\"嘉義\",\"DepartureTime\":\"16:55\",\"Show\":true,\"ColorClass\":\"yellow\"},{\"StationNo\":\"11\",\"StationName\":\"台南\",\"DepartureTime\":\"17:13\",\"Show\":true,\"ColorClass\":\"brown\"},{\"StationNo\":\"12\",\"StationName\":\"左營\",\"DepartureTime\":\"17:25\",\"Show\":true,\"ColorClass\":\"blue\"}],\"IsCrossNight\":false,\"RunDate\":\"2021/12/21\",\"DepartureTime_Order\":\"15:11\",\"DestinationTime_Order\":\"17:25\",\"DiscountWord\":null},{\"TrainNumber\":\"0657\",\"DepartureTime\":\"15:46\",\"DestinationTime\":\"17:45\",\"Duration\":\"01:59\",\"NonReservedCar\":\"10-12\",\"Discount\":[],\"Note\":\"\",\"Sequence\":33,\"StationInfo\":[{\"StationNo\":\"01\",\"StationName\":\"南港\",\"DepartureTime\":\"15:35\",\"Show\":true,\"ColorClass\":\"orange\"},{\"StationNo\":\"02\",\"StationName\":\"台北\",\"DepartureTime\":\"15:46\",\"Show\":true,\"ColorClass\":\"purple\"},{\"StationNo\":\"03\",\"StationName\":\"板橋\",\"DepartureTime\":\"15:55\",\"Show\":true,\"ColorClass\":\"dark_green\"},{\"StationNo\":\"04\",\"StationName\":\"桃園\",\"DepartureTime\":\"16:10\",\"Show\":true,\"ColorClass\":\"light_green\"},{\"StationNo\":\"05\",\"StationName\":\"新竹\",\"DepartureTime\":\"16:22\",\"Show\":true,\"ColorClass\":\"gray\"},{\"StationNo\":\"06\",\"StationName\":\"苗栗\",\"DepartureTime\":\"\",\"Show\":false,\"ColorClass\":\"sky_blue\"},{\"StationNo\":\"07\",\"StationName\":\"台中\",\"DepartureTime\":\"16:48\",\"Show\":true,\"ColorClass\":\"pink\"},{\"StationNo\":\"08\",\"StationName\":\"彰化\",\"DepartureTime\":\"\",\"Show\":false,\"ColorClass\":\"red\"},{\"StationNo\":\"09\",\"StationName\":\"雲林\",\"DepartureTime\":\"\",\"Show\":false,\"ColorClass\":\"dark_blue\"},{\"StationNo\":\"10\",\"StationName\":\"嘉義\",\"DepartureTime\":\"17:14\",\"Show\":true,\"ColorClass\":\"yellow\"},{\"StationNo\":\"11\",\"StationName\":\"台南\",\"DepartureTime\":\"17:33\",\"Show\":true,\"ColorClass\":\"brown\"},{\"StationNo\":\"12\",\"StationName\":\"左營\",\"DepartureTime\":\"17:45\",\"Show\":true,\"ColorClass\":\"blue\"}],\"IsCrossNight\":false,\"RunDate\":\"2021/12/21\",\"DepartureTime_Order\":\"15:46\",\"DestinationTime_Order\":\"17:45\",\"DiscountWord\":null},{\"TrainNumber\":\"0237\",\"DepartureTime\":\"15:51\",\"DestinationTime\":\"17:30\",\"Duration\":\"01:39\",\"NonReservedCar\":\"10-12\",\"Discount\":[],\"Note\":\"\",\"Sequence\":34,\"StationInfo\":[{\"StationNo\":\"01\",\"StationName\":\"南港\",\"DepartureTime\":\"15:40\",\"Show\":true,\"ColorClass\":\"orange\"},{\"StationNo\":\"02\",\"StationName\":\"台北\",\"DepartureTime\":\"15:51\",\"Show\":true,\"ColorClass\":\"purple\"},{\"StationNo\":\"03\",\"StationName\":\"板橋\",\"DepartureTime\":\"15:59\",\"Show\":true,\"ColorClass\":\"dark_green\"},{\"StationNo\":\"04\",\"StationName\":\"桃園\",\"DepartureTime\":\"\",\"Show\":false,\"ColorClass\":\"light_green\"},{\"StationNo\":\"05\",\"StationName\":\"新竹\",\"DepartureTime\":\"\",\"Show\":false,\"ColorClass\":\"gray\"},{\"StationNo\":\"06\",\"StationName\":\"苗栗\",\"DepartureTime\":\"\",\"Show\":false,\"ColorClass\":\"sky_blue\"},{\"StationNo\":\"07\",\"StationName\":\"台中\",\"DepartureTime\":\"16:40\",\"Show\":true,\"ColorClass\":\"pink\"},{\"StationNo\":\"08\",\"StationName\":\"彰化\",\"DepartureTime\":\"\",\"Show\":false,\"ColorClass\":\"red\"},{\"StationNo\":\"09\",\"StationName\":\"雲林\",\"DepartureTime\":\"\",\"Show\":false,\"ColorClass\":\"dark_blue\"},{\"StationNo\":\"10\",\"StationName\":\"嘉義\",\"DepartureTime\":\"\",\"Show\":false,\"ColorClass\":\"yellow\"},{\"StationNo\":\"11\",\"StationName\":\"台南\",\"DepartureTime\":\"17:18\",\"Show\":true,\"ColorClass\":\"brown\"},{\"StationNo\":\"12\",\"StationName\":\"左營\",\"DepartureTime\":\"17:30\",\"Show\":true,\"ColorClass\":\"blue\"}],\"IsCrossNight\":false,\"RunDate\":\"2021/12/21\",\"DepartureTime_Order\":\"15:51\",\"DestinationTime_Order\":\"17:30\",\"DiscountWord\":null},{\"TrainNumber\":\"1321\",\"DepartureTime\":\"16:01\",\"DestinationTime\":\"18:00\",\"Duration\":\"01:59\",\"NonReservedCar\":\"10-12\",\"Discount\":[],\"Note\":\"\",\"Sequence\":35,\"StationInfo\":[{\"StationNo\":\"01\",\"StationName\":\"南港\",\"DepartureTime\":\"15:50\",\"Show\":true,\"ColorClass\":\"orange\"},{\"StationNo\":\"02\",\"StationName\":\"台北\",\"DepartureTime\":\"16:01\",\"Show\":true,\"ColorClass\":\"purple\"},{\"StationNo\":\"03\",\"StationName\":\"板橋\",\"DepartureTime\":\"\",\"Show\":false,\"ColorClass\":\"dark_green\"},{\"StationNo\":\"04\",\"StationName\":\"桃園\",\"DepartureTime\":\"16:20\",\"Show\":true,\"ColorClass\":\"light_green\"},{\"StationNo\":\"05\",\"StationName\":\"新竹\",\"DepartureTime\":\"\",\"Show\":false,\"ColorClass\":\"gray\"},{\"StationNo\":\"06\",\"StationName\":\"苗栗\",\"DepartureTime\":\"\",\"Show\":false,\"ColorClass\":\"sky_blue\"},{\"StationNo\":\"07\",\"StationName\":\"台中\",\"DepartureTime\":\"16:54\",\"Show\":true,\"ColorClass\":\"pink\"},{\"StationNo\":\"08\",\"StationName\":\"彰化\",\"DepartureTime\":\"17:06\",\"Show\":true,\"ColorClass\":\"red\"},{\"StationNo\":\"09\",\"StationName\":\"雲林\",\"DepartureTime\":\"17:17\",\"Show\":true,\"ColorClass\":\"dark_blue\"},{\"StationNo\":\"10\",\"StationName\":\"嘉義\",\"DepartureTime\":\"17:30\",\"Show\":true,\"ColorClass\":\"yellow\"},{\"StationNo\":\"11\",\"StationName\":\"台南\",\"DepartureTime\":\"17:48\",\"Show\":true,\"ColorClass\":\"brown\"},{\"StationNo\":\"12\",\"StationName\":\"左營\",\"DepartureTime\":\"18:00\",\"Show\":true,\"ColorClass\":\"blue\"}],\"IsCrossNight\":false,\"RunDate\":\"2021/12/21\",\"DepartureTime_Order\":\"16:01\",\"DestinationTime_Order\":\"18:00\",\"DiscountWord\":null},{\"TrainNumber\":\"0841\",\"DepartureTime\":\"16:11\",\"DestinationTime\":\"18:25\",\"Duration\":\"02:14\",\"NonReservedCar\":\"10-12\",\"Discount\":[],\"Note\":\"\",\"Sequence\":36,\"StationInfo\":[{\"StationNo\":\"01\",\"StationName\":\"南港\",\"DepartureTime\":\"16:00\",\"Show\":true,\"ColorClass\":\"orange\"},{\"StationNo\":\"02\",\"StationName\":\"台北\",\"DepartureTime\":\"16:11\",\"Show\":true,\"ColorClass\":\"purple\"},{\"StationNo\":\"03\",\"StationName\":\"板橋\",\"DepartureTime\":\"16:19\",\"Show\":true,\"ColorClass\":\"dark_green\"},{\"StationNo\":\"04\",\"StationName\":\"桃園\",\"DepartureTime\":\"16:34\",\"Show\":true,\"ColorClass\":\"light_green\"},{\"StationNo\":\"05\",\"StationName\":\"新竹\",\"DepartureTime\":\"16:47\",\"Show\":true,\"ColorClass\":\"gray\"},{\"StationNo\":\"06\",\"StationName\":\"苗栗\",\"DepartureTime\":\"16:58\",\"Show\":true,\"ColorClass\":\"sky_blue\"},{\"StationNo\":\"07\",\"StationName\":\"台中\",\"DepartureTime\":\"17:17\",\"Show\":true,\"ColorClass\":\"pink\"},{\"StationNo\":\"08\",\"StationName\":\"彰化\",\"DepartureTime\":\"17:30\",\"Show\":true,\"ColorClass\":\"red\"},{\"StationNo\":\"09\",\"StationName\":\"雲林\",\"DepartureTime\":\"17:41\",\"Show\":true,\"ColorClass\":\"dark_blue\"},{\"StationNo\":\"10\",\"StationName\":\"嘉義\",\"DepartureTime\":\"17:55\",\"Show\":true,\"ColorClass\":\"yellow\"},{\"StationNo\":\"11\",\"StationName\":\"台南\",\"DepartureTime\":\"18:13\",\"Show\":true,\"ColorClass\":\"brown\"},{\"StationNo\":\"12\",\"StationName\":\"左營\",\"DepartureTime\":\"18:25\",\"Show\":true,\"ColorClass\":\"blue\"}],\"IsCrossNight\":false,\"RunDate\":\"2021/12/21\",\"DepartureTime_Order\":\"16:11\",\"DestinationTime_Order\":\"18:25\",\"DiscountWord\":null},{\"TrainNumber\":\"0661\",\"DepartureTime\":\"16:21\",\"DestinationTime\":\"18:20\",\"Duration\":\"01:59\",\"NonReservedCar\":\"10-12\",\"Discount\":[],\"Note\":\"\",\"Sequence\":37,\"StationInfo\":[{\"StationNo\":\"01\",\"StationName\":\"南港\",\"DepartureTime\":\"16:10\",\"Show\":true,\"ColorClass\":\"orange\"},{\"StationNo\":\"02\",\"StationName\":\"台北\",\"DepartureTime\":\"16:21\",\"Show\":true,\"ColorClass\":\"purple\"},{\"StationNo\":\"03\",\"StationName\":\"板橋\",\"DepartureTime\":\"16:29\",\"Show\":true,\"ColorClass\":\"dark_green\"},{\"StationNo\":\"04\",\"StationName\":\"桃園\",\"DepartureTime\":\"16:43\",\"Show\":true,\"ColorClass\":\"light_green\"},{\"StationNo\":\"05\",\"StationName\":\"新竹\",\"DepartureTime\":\"16:56\",\"Show\":true,\"ColorClass\":\"gray\"},{\"StationNo\":\"06\",\"StationName\":\"苗栗\",\"DepartureTime\":\"\",\"Show\":false,\"ColorClass\":\"sky_blue\"},{\"StationNo\":\"07\",\"StationName\":\"台中\",\"DepartureTime\":\"17:25\",\"Show\":true,\"ColorClass\":\"pink\"},{\"StationNo\":\"08\",\"StationName\":\"彰化\",\"DepartureTime\":\"\",\"Show\":false,\"ColorClass\":\"red\"},{\"StationNo\":\"09\",\"StationName\":\"雲林\",\"DepartureTime\":\"\",\"Show\":false,\"ColorClass\":\"dark_blue\"},{\"StationNo\":\"10\",\"StationName\":\"嘉義\",\"DepartureTime\":\"17:50\",\"Show\":true,\"ColorClass\":\"yellow\"},{\"StationNo\":\"11\",\"StationName\":\"台南\",\"DepartureTime\":\"18:07\",\"Show\":true,\"ColorClass\":\"brown\"},{\"StationNo\":\"12\",\"StationName\":\"左營\",\"DepartureTime\":\"18:20\",\"Show\":true,\"ColorClass\":\"blue\"}],\"IsCrossNight\":false,\"RunDate\":\"2021/12/21\",\"DepartureTime_Order\":\"16:21\",\"DestinationTime_Order\":\"18:20\",\"DiscountWord\":null},{\"TrainNumber\":\"1145\",\"DepartureTime\":\"16:31\",\"DestinationTime\":\"18:05\",\"Duration\":\"01:34\",\"NonReservedCar\":\"10-12\",\"Discount\":[],\"Note\":\"\",\"Sequence\":38,\"StationInfo\":[{\"StationNo\":\"01\",\"StationName\":\"南港\",\"DepartureTime\":\"16:20\",\"Show\":true,\"ColorClass\":\"orange\"},{\"StationNo\":\"02\",\"StationName\":\"台北\",\"DepartureTime\":\"16:31\",\"Show\":true,\"ColorClass\":\"purple\"},{\"StationNo\":\"03\",\"StationName\":\"板橋\",\"DepartureTime\":\"16:39\",\"Show\":true,\"ColorClass\":\"dark_green\"},{\"StationNo\":\"04\",\"StationName\":\"桃園\",\"DepartureTime\":\"\",\"Show\":false,\"ColorClass\":\"light_green\"},{\"StationNo\":\"05\",\"StationName\":\"新竹\",\"DepartureTime\":\"\",\"Show\":false,\"ColorClass\":\"gray\"},{\"StationNo\":\"06\",\"StationName\":\"苗栗\",\"DepartureTime\":\"\",\"Show\":false,\"ColorClass\":\"sky_blue\"},{\"StationNo\":\"07\",\"StationName\":\"台中\",\"DepartureTime\":\"17:20\",\"Show\":true,\"ColorClass\":\"pink\"},{\"StationNo\":\"08\",\"StationName\":\"彰化\",\"DepartureTime\":\"\",\"Show\":false,\"ColorClass\":\"red\"},{\"StationNo\":\"09\",\"StationName\":\"雲林\",\"DepartureTime\":\"\",\"Show\":false,\"ColorClass\":\"dark_blue\"},{\"StationNo\":\"10\",\"StationName\":\"嘉義\",\"DepartureTime\":\"\",\"Show\":false,\"ColorClass\":\"yellow\"},{\"StationNo\":\"11\",\"StationName\":\"台南\",\"DepartureTime\":\"\",\"Show\":false,\"ColorClass\":\"brown\"},{\"StationNo\":\"12\",\"StationName\":\"左營\",\"DepartureTime\":\"18:05\",\"Show\":true,\"ColorClass\":\"blue\"}],\"IsCrossNight\":false,\"RunDate\":\"2021/12/21\",\"DepartureTime_Order\":\"16:31\",\"DestinationTime_Order\":\"18:05\",\"DiscountWord\":null},{\"TrainNumber\":\"0663\",\"DepartureTime\":\"16:46\",\"DestinationTime\":\"18:45\",\"Duration\":\"01:59\",\"NonReservedCar\":\"10-12\",\"Discount\":[],\"Note\":\"\",\"Sequence\":39,\"StationInfo\":[{\"StationNo\":\"01\",\"StationName\":\"南港\",\"DepartureTime\":\"16:35\",\"Show\":true,\"ColorClass\":\"orange\"},{\"StationNo\":\"02\",\"StationName\":\"台北\",\"DepartureTime\":\"16:46\",\"Show\":true,\"ColorClass\":\"purple\"},{\"StationNo\":\"03\",\"StationName\":\"板橋\",\"DepartureTime\":\"16:55\",\"Show\":true,\"ColorClass\":\"dark_green\"},{\"StationNo\":\"04\",\"StationName\":\"桃園\",\"DepartureTime\":\"17:10\",\"Show\":true,\"ColorClass\":\"light_green\"},{\"StationNo\":\"05\",\"StationName\":\"新竹\",\"DepartureTime\":\"17:22\",\"Show\":true,\"ColorClass\":\"gray\"},{\"StationNo\":\"06\",\"StationName\":\"苗栗\",\"DepartureTime\":\"\",\"Show\":false,\"ColorClass\":\"sky_blue\"},{\"StationNo\":\"07\",\"StationName\":\"台中\",\"DepartureTime\":\"17:48\",\"Show\":true,\"ColorClass\":\"pink\"},{\"StationNo\":\"08\",\"StationName\":\"彰化\",\"DepartureTime\":\"\",\"Show\":false,\"ColorClass\":\"red\"},{\"StationNo\":\"09\",\"StationName\":\"雲林\",\"DepartureTime\":\"\",\"Show\":false,\"ColorClass\":\"dark_blue\"},{\"StationNo\":\"10\",\"StationName\":\"嘉義\",\"DepartureTime\":\"18:14\",\"Show\":true,\"ColorClass\":\"yellow\"},{\"StationNo\":\"11\",\"StationName\":\"台南\",\"DepartureTime\":\"18:33\",\"Show\":true,\"ColorClass\":\"brown\"},{\"StationNo\":\"12\",\"StationName\":\"左營\",\"DepartureTime\":\"18:45\",\"Show\":true,\"ColorClass\":\"blue\"}],\"IsCrossNight\":false,\"RunDate\":\"2021/12/21\",\"DepartureTime_Order\":\"16:46\",\"DestinationTime_Order\":\"18:45\",\"DiscountWord\":null},{\"TrainNumber\":\"0241\",\"DepartureTime\":\"16:51\",\"DestinationTime\":\"18:30\",\"Duration\":\"01:39\",\"NonReservedCar\":\"10-12\",\"Discount\":[],\"Note\":\"\",\"Sequence\":40,\"StationInfo\":[{\"StationNo\":\"01\",\"StationName\":\"南港\",\"DepartureTime\":\"16:40\",\"Show\":true,\"ColorClass\":\"orange\"},{\"StationNo\":\"02\",\"StationName\":\"台北\",\"DepartureTime\":\"16:51\",\"Show\":true,\"ColorClass\":\"purple\"},{\"StationNo\":\"03\",\"StationName\":\"板橋\",\"DepartureTime\":\"16:59\",\"Show\":true,\"ColorClass\":\"dark_green\"},{\"StationNo\":\"04\",\"StationName\":\"桃園\",\"DepartureTime\":\"\",\"Show\":false,\"ColorClass\":\"light_green\"},{\"StationNo\":\"05\",\"StationName\":\"新竹\",\"DepartureTime\":\"\",\"Show\":false,\"ColorClass\":\"gray\"},{\"StationNo\":\"06\",\"StationName\":\"苗栗\",\"DepartureTime\":\"\",\"Show\":false,\"ColorClass\":\"sky_blue\"},{\"StationNo\":\"07\",\"StationName\":\"台中\",\"DepartureTime\":\"17:40\",\"Show\":true,\"ColorClass\":\"pink\"},{\"StationNo\":\"08\",\"StationName\":\"彰化\",\"DepartureTime\":\"\",\"Show\":false,\"ColorClass\":\"red\"},{\"StationNo\":\"09\",\"StationName\":\"雲林\",\"DepartureTime\":\"\",\"Show\":false,\"ColorClass\":\"dark_blue\"},{\"StationNo\":\"10\",\"StationName\":\"嘉義\",\"DepartureTime\":\"\",\"Show\":false,\"ColorClass\":\"yellow\"},{\"StationNo\":\"11\",\"StationName\":\"台南\",\"DepartureTime\":\"18:18\",\"Show\":true,\"ColorClass\":\"brown\"},{\"StationNo\":\"12\",\"StationName\":\"左營\",\"DepartureTime\":\"18:30\",\"Show\":true,\"ColorClass\":\"blue\"}],\"IsCrossNight\":false,\"RunDate\":\"2021/12/21\",\"DepartureTime_Order\":\"16:51\",\"DestinationTime_Order\":\"18:30\",\"DiscountWord\":null},{\"TrainNumber\":\"0845\",\"DepartureTime\":\"17:11\",\"DestinationTime\":\"19:25\",\"Duration\":\"02:14\",\"NonReservedCar\":\"9-12\",\"Discount\":[],\"Note\":\"\",\"Sequence\":41,\"StationInfo\":[{\"StationNo\":\"01\",\"StationName\":\"南港\",\"DepartureTime\":\"17:00\",\"Show\":true,\"ColorClass\":\"orange\"},{\"StationNo\":\"02\",\"StationName\":\"台北\",\"DepartureTime\":\"17:11\",\"Show\":true,\"ColorClass\":\"purple\"},{\"StationNo\":\"03\",\"StationName\":\"板橋\",\"DepartureTime\":\"17:19\",\"Show\":true,\"ColorClass\":\"dark_green\"},{\"StationNo\":\"04\",\"StationName\":\"桃園\",\"DepartureTime\":\"17:34\",\"Show\":true,\"ColorClass\":\"light_green\"},{\"StationNo\":\"05\",\"StationName\":\"新竹\",\"DepartureTime\":\"17:47\",\"Show\":true,\"ColorClass\":\"gray\"},{\"StationNo\":\"06\",\"StationName\":\"苗栗\",\"DepartureTime\":\"17:58\",\"Show\":true,\"ColorClass\":\"sky_blue\"},{\"StationNo\":\"07\",\"StationName\":\"台中\",\"DepartureTime\":\"18:17\",\"Show\":true,\"ColorClass\":\"pink\"},{\"StationNo\":\"08\",\"StationName\":\"彰化\",\"DepartureTime\":\"18:30\",\"Show\":true,\"ColorClass\":\"red\"},{\"StationNo\":\"09\",\"StationName\":\"雲林\",\"DepartureTime\":\"18:41\",\"Show\":true,\"ColorClass\":\"dark_blue\"},{\"StationNo\":\"10\",\"StationName\":\"嘉義\",\"DepartureTime\":\"18:55\",\"Show\":true,\"ColorClass\":\"yellow\"},{\"StationNo\":\"11\",\"StationName\":\"台南\",\"DepartureTime\":\"19:13\",\"Show\":true,\"ColorClass\":\"brown\"},{\"StationNo\":\"12\",\"StationName\":\"左營\",\"DepartureTime\":\"19:25\",\"Show\":true,\"ColorClass\":\"blue\"}],\"IsCrossNight\":false,\"RunDate\":\"2021/12/21\",\"DepartureTime_Order\":\"17:11\",\"DestinationTime_Order\":\"19:25\",\"DiscountWord\":null},{\"TrainNumber\":\"0667\",\"DepartureTime\":\"17:21\",\"DestinationTime\":\"19:20\",\"Duration\":\"01:59\",\"NonReservedCar\":\"9-12\",\"Discount\":[],\"Note\":\"\",\"Sequence\":42,\"StationInfo\":[{\"StationNo\":\"01\",\"StationName\":\"南港\",\"DepartureTime\":\"17:10\",\"Show\":true,\"ColorClass\":\"orange\"},{\"StationNo\":\"02\",\"StationName\":\"台北\",\"DepartureTime\":\"17:21\",\"Show\":true,\"ColorClass\":\"purple\"},{\"StationNo\":\"03\",\"StationName\":\"板橋\",\"DepartureTime\":\"17:29\",\"Show\":true,\"ColorClass\":\"dark_green\"},{\"StationNo\":\"04\",\"StationName\":\"桃園\",\"DepartureTime\":\"17:43\",\"Show\":true,\"ColorClass\":\"light_green\"},{\"StationNo\":\"05\",\"StationName\":\"新竹\",\"DepartureTime\":\"17:56\",\"Show\":true,\"ColorClass\":\"gray\"},{\"StationNo\":\"06\",\"StationName\":\"苗栗\",\"DepartureTime\":\"\",\"Show\":false,\"ColorClass\":\"sky_blue\"},{\"StationNo\":\"07\",\"StationName\":\"台中\",\"DepartureTime\":\"18:25\",\"Show\":true,\"ColorClass\":\"pink\"},{\"StationNo\":\"08\",\"StationName\":\"彰化\",\"DepartureTime\":\"\",\"Show\":false,\"ColorClass\":\"red\"},{\"StationNo\":\"09\",\"StationName\":\"雲林\",\"DepartureTime\":\"\",\"Show\":false,\"ColorClass\":\"dark_blue\"},{\"StationNo\":\"10\",\"StationName\":\"嘉義\",\"DepartureTime\":\"18:50\",\"Show\":true,\"ColorClass\":\"yellow\"},{\"StationNo\":\"11\",\"StationName\":\"台南\",\"DepartureTime\":\"19:07\",\"Show\":true,\"ColorClass\":\"brown\"},{\"StationNo\":\"12\",\"StationName\":\"左營\",\"DepartureTime\":\"19:20\",\"Show\":true,\"ColorClass\":\"blue\"}],\"IsCrossNight\":false,\"RunDate\":\"2021/12/21\",\"DepartureTime_Order\":\"17:21\",\"DestinationTime_Order\":\"19:20\",\"DiscountWord\":null},{\"TrainNumber\":\"0669\",\"DepartureTime\":\"17:46\",\"DestinationTime\":\"19:45\",\"Duration\":\"01:59\",\"NonReservedCar\":\"8-12\",\"Discount\":[],\"Note\":\"\",\"Sequence\":43,\"StationInfo\":[{\"StationNo\":\"01\",\"StationName\":\"南港\",\"DepartureTime\":\"17:35\",\"Show\":true,\"ColorClass\":\"orange\"},{\"StationNo\":\"02\",\"StationName\":\"台北\",\"DepartureTime\":\"17:46\",\"Show\":true,\"ColorClass\":\"purple\"},{\"StationNo\":\"03\",\"StationName\":\"板橋\",\"DepartureTime\":\"17:55\",\"Show\":true,\"ColorClass\":\"dark_green\"},{\"StationNo\":\"04\",\"StationName\":\"桃園\",\"DepartureTime\":\"18:10\",\"Show\":true,\"ColorClass\":\"light_green\"},{\"StationNo\":\"05\",\"StationName\":\"新竹\",\"DepartureTime\":\"18:22\",\"Show\":true,\"ColorClass\":\"gray\"},{\"StationNo\":\"06\",\"StationName\":\"苗栗\",\"DepartureTime\":\"\",\"Show\":false,\"ColorClass\":\"sky_blue\"},{\"StationNo\":\"07\",\"StationName\":\"台中\",\"DepartureTime\":\"18:48\",\"Show\":true,\"ColorClass\":\"pink\"},{\"StationNo\":\"08\",\"StationName\":\"彰化\",\"DepartureTime\":\"\",\"Show\":false,\"ColorClass\":\"red\"},{\"StationNo\":\"09\",\"StationName\":\"雲林\",\"DepartureTime\":\"\",\"Show\":false,\"ColorClass\":\"dark_blue\"},{\"StationNo\":\"10\",\"StationName\":\"嘉義\",\"DepartureTime\":\"19:14\",\"Show\":true,\"ColorClass\":\"yellow\"},{\"StationNo\":\"11\",\"StationName\":\"台南\",\"DepartureTime\":\"19:33\",\"Show\":true,\"ColorClass\":\"brown\"},{\"StationNo\":\"12\",\"StationName\":\"左營\",\"DepartureTime\":\"19:45\",\"Show\":true,\"ColorClass\":\"blue\"}],\"IsCrossNight\":false,\"RunDate\":\"2021/12/21\",\"DepartureTime_Order\":\"17:46\",\"DestinationTime_Order\":\"19:45\",\"DiscountWord\":null},{\"TrainNumber\":\"0245\",\"DepartureTime\":\"17:51\",\"DestinationTime\":\"19:30\",\"Duration\":\"01:39\",\"NonReservedCar\":\"10-12\",\"Discount\":[],\"Note\":\"\",\"Sequence\":44,\"StationInfo\":[{\"StationNo\":\"01\",\"StationName\":\"南港\",\"DepartureTime\":\"17:40\",\"Show\":true,\"ColorClass\":\"orange\"},{\"StationNo\":\"02\",\"StationName\":\"台北\",\"DepartureTime\":\"17:51\",\"Show\":true,\"ColorClass\":\"purple\"},{\"StationNo\":\"03\",\"StationName\":\"板橋\",\"DepartureTime\":\"17:59\",\"Show\":true,\"ColorClass\":\"dark_green\"},{\"StationNo\":\"04\",\"StationName\":\"桃園\",\"DepartureTime\":\"\",\"Show\":false,\"ColorClass\":\"light_green\"},{\"StationNo\":\"05\",\"StationName\":\"新竹\",\"DepartureTime\":\"\",\"Show\":false,\"ColorClass\":\"gray\"},{\"StationNo\":\"06\",\"StationName\":\"苗栗\",\"DepartureTime\":\"\",\"Show\":false,\"ColorClass\":\"sky_blue\"},{\"StationNo\":\"07\",\"StationName\":\"台中\",\"DepartureTime\":\"18:40\",\"Show\":true,\"ColorClass\":\"pink\"},{\"StationNo\":\"08\",\"StationName\":\"彰化\",\"DepartureTime\":\"\",\"Show\":false,\"ColorClass\":\"red\"},{\"StationNo\":\"09\",\"StationName\":\"雲林\",\"DepartureTime\":\"\",\"Show\":false,\"ColorClass\":\"dark_blue\"},{\"StationNo\":\"10\",\"StationName\":\"嘉義\",\"DepartureTime\":\"\",\"Show\":false,\"ColorClass\":\"yellow\"},{\"StationNo\":\"11\",\"StationName\":\"台南\",\"DepartureTime\":\"19:18\",\"Show\":true,\"ColorClass\":\"brown\"},{\"StationNo\":\"12\",\"StationName\":\"左營\",\"DepartureTime\":\"19:30\",\"Show\":true,\"ColorClass\":\"blue\"}],\"IsCrossNight\":false,\"RunDate\":\"2021/12/21\",\"DepartureTime_Order\":\"17:51\",\"DestinationTime_Order\":\"19:30\",\"DiscountWord\":null},{\"TrainNumber\":\"0849\",\"DepartureTime\":\"18:11\",\"DestinationTime\":\"20:25\",\"Duration\":\"02:14\",\"NonReservedCar\":\"8-12\",\"Discount\":[],\"Note\":\"\",\"Sequence\":45,\"StationInfo\":[{\"StationNo\":\"01\",\"StationName\":\"南港\",\"DepartureTime\":\"18:00\",\"Show\":true,\"ColorClass\":\"orange\"},{\"StationNo\":\"02\",\"StationName\":\"台北\",\"DepartureTime\":\"18:11\",\"Show\":true,\"ColorClass\":\"purple\"},{\"StationNo\":\"03\",\"StationName\":\"板橋\",\"DepartureTime\":\"18:19\",\"Show\":true,\"ColorClass\":\"dark_green\"},{\"StationNo\":\"04\",\"StationName\":\"桃園\",\"DepartureTime\":\"18:34\",\"Show\":true,\"ColorClass\":\"light_green\"},{\"StationNo\":\"05\",\"StationName\":\"新竹\",\"DepartureTime\":\"18:47\",\"Show\":true,\"ColorClass\":\"gray\"},{\"StationNo\":\"06\",\"StationName\":\"苗栗\",\"DepartureTime\":\"18:58\",\"Show\":true,\"ColorClass\":\"sky_blue\"},{\"StationNo\":\"07\",\"StationName\":\"台中\",\"DepartureTime\":\"19:17\",\"Show\":true,\"ColorClass\":\"pink\"},{\"StationNo\":\"08\",\"StationName\":\"彰化\",\"DepartureTime\":\"19:30\",\"Show\":true,\"ColorClass\":\"red\"},{\"StationNo\":\"09\",\"StationName\":\"雲林\",\"DepartureTime\":\"19:41\",\"Show\":true,\"ColorClass\":\"dark_blue\"},{\"StationNo\":\"10\",\"StationName\":\"嘉義\",\"DepartureTime\":\"19:55\",\"Show\":true,\"ColorClass\":\"yellow\"},{\"StationNo\":\"11\",\"StationName\":\"台南\",\"DepartureTime\":\"20:13\",\"Show\":true,\"ColorClass\":\"brown\"},{\"StationNo\":\"12\",\"StationName\":\"左營\",\"DepartureTime\":\"20:25\",\"Show\":true,\"ColorClass\":\"blue\"}],\"IsCrossNight\":false,\"RunDate\":\"2021/12/21\",\"DepartureTime_Order\":\"18:11\",\"DestinationTime_Order\":\"20:25\",\"DiscountWord\":null},{\"TrainNumber\":\"0673\",\"DepartureTime\":\"18:21\",\"DestinationTime\":\"20:20\",\"Duration\":\"01:59\",\"NonReservedCar\":\"8-12\",\"Discount\":[],\"Note\":\"\",\"Sequence\":46,\"StationInfo\":[{\"StationNo\":\"01\",\"StationName\":\"南港\",\"DepartureTime\":\"18:10\",\"Show\":true,\"ColorClass\":\"orange\"},{\"StationNo\":\"02\",\"StationName\":\"台北\",\"DepartureTime\":\"18:21\",\"Show\":true,\"ColorClass\":\"purple\"},{\"StationNo\":\"03\",\"StationName\":\"板橋\",\"DepartureTime\":\"18:29\",\"Show\":true,\"ColorClass\":\"dark_green\"},{\"StationNo\":\"04\",\"StationName\":\"桃園\",\"DepartureTime\":\"18:43\",\"Show\":true,\"ColorClass\":\"light_green\"},{\"StationNo\":\"05\",\"StationName\":\"新竹\",\"DepartureTime\":\"18:56\",\"Show\":true,\"ColorClass\":\"gray\"},{\"StationNo\":\"06\",\"StationName\":\"苗栗\",\"DepartureTime\":\"\",\"Show\":false,\"ColorClass\":\"sky_blue\"},{\"StationNo\":\"07\",\"StationName\":\"台中\",\"DepartureTime\":\"19:25\",\"Show\":true,\"ColorClass\":\"pink\"},{\"StationNo\":\"08\",\"StationName\":\"彰化\",\"DepartureTime\":\"\",\"Show\":false,\"ColorClass\":\"red\"},{\"StationNo\":\"09\",\"StationName\":\"雲林\",\"DepartureTime\":\"\",\"Show\":false,\"ColorClass\":\"dark_blue\"},{\"StationNo\":\"10\",\"StationName\":\"嘉義\",\"DepartureTime\":\"19:50\",\"Show\":true,\"ColorClass\":\"yellow\"},{\"StationNo\":\"11\",\"StationName\":\"台南\",\"DepartureTime\":\"20:07\",\"Show\":true,\"ColorClass\":\"brown\"},{\"StationNo\":\"12\",\"StationName\":\"左營\",\"DepartureTime\":\"20:20\",\"Show\":true,\"ColorClass\":\"blue\"}],\"IsCrossNight\":false,\"RunDate\":\"2021/12/21\",\"DepartureTime_Order\":\"18:21\",\"DestinationTime_Order\":\"20:20\",\"DiscountWord\":null},{\"TrainNumber\":\"0153\",\"DepartureTime\":\"18:31\",\"DestinationTime\":\"20:05\",\"Duration\":\"01:34\",\"NonReservedCar\":\"10-12\",\"Discount\":[],\"Note\":\"\",\"Sequence\":47,\"StationInfo\":[{\"StationNo\":\"01\",\"StationName\":\"南港\",\"DepartureTime\":\"18:20\",\"Show\":true,\"ColorClass\":\"orange\"},{\"StationNo\":\"02\",\"StationName\":\"台北\",\"DepartureTime\":\"18:31\",\"Show\":true,\"ColorClass\":\"purple\"},{\"StationNo\":\"03\",\"StationName\":\"板橋\",\"DepartureTime\":\"18:39\",\"Show\":true,\"ColorClass\":\"dark_green\"},{\"StationNo\":\"04\",\"StationName\":\"桃園\",\"DepartureTime\":\"\",\"Show\":false,\"ColorClass\":\"light_green\"},{\"StationNo\":\"05\",\"StationName\":\"新竹\",\"DepartureTime\":\"\",\"Show\":false,\"ColorClass\":\"gray\"},{\"StationNo\":\"06\",\"StationName\":\"苗栗\",\"DepartureTime\":\"\",\"Show\":false,\"ColorClass\":\"sky_blue\"},{\"StationNo\":\"07\",\"StationName\":\"台中\",\"DepartureTime\":\"19:20\",\"Show\":true,\"ColorClass\":\"pink\"},{\"StationNo\":\"08\",\"StationName\":\"彰化\",\"DepartureTime\":\"\",\"Show\":false,\"ColorClass\":\"red\"},{\"StationNo\":\"09\",\"StationName\":\"雲林\",\"DepartureTime\":\"\",\"Show\":false,\"ColorClass\":\"dark_blue\"},{\"StationNo\":\"10\",\"StationName\":\"嘉義\",\"DepartureTime\":\"\",\"Show\":false,\"ColorClass\":\"yellow\"},{\"StationNo\":\"11\",\"StationName\":\"台南\",\"DepartureTime\":\"\",\"Show\":false,\"ColorClass\":\"brown\"},{\"StationNo\":\"12\",\"StationName\":\"左營\",\"DepartureTime\":\"20:05\",\"Show\":true,\"ColorClass\":\"blue\"}],\"IsCrossNight\":false,\"RunDate\":\"2021/12/21\",\"DepartureTime_Order\":\"18:31\",\"DestinationTime_Order\":\"20:05\",\"DiscountWord\":null},{\"TrainNumber\":\"0675\",\"DepartureTime\":\"18:46\",\"DestinationTime\":\"20:45\",\"Duration\":\"01:59\",\"NonReservedCar\":\"8-12\",\"Discount\":[],\"Note\":\"\",\"Sequence\":48,\"StationInfo\":[{\"StationNo\":\"01\",\"StationName\":\"南港\",\"DepartureTime\":\"18:35\",\"Show\":true,\"ColorClass\":\"orange\"},{\"StationNo\":\"02\",\"StationName\":\"台北\",\"DepartureTime\":\"18:46\",\"Show\":true,\"ColorClass\":\"purple\"},{\"StationNo\":\"03\",\"StationName\":\"板橋\",\"DepartureTime\":\"18:55\",\"Show\":true,\"ColorClass\":\"dark_green\"},{\"StationNo\":\"04\",\"StationName\":\"桃園\",\"DepartureTime\":\"19:10\",\"Show\":true,\"ColorClass\":\"light_green\"},{\"StationNo\":\"05\",\"StationName\":\"新竹\",\"DepartureTime\":\"19:22\",\"Show\":true,\"ColorClass\":\"gray\"},{\"StationNo\":\"06\",\"StationName\":\"苗栗\",\"DepartureTime\":\"\",\"Show\":false,\"ColorClass\":\"sky_blue\"},{\"StationNo\":\"07\",\"StationName\":\"台中\",\"DepartureTime\":\"19:48\",\"Show\":true,\"ColorClass\":\"pink\"},{\"StationNo\":\"08\",\"StationName\":\"彰化\",\"DepartureTime\":\"\",\"Show\":false,\"ColorClass\":\"red\"},{\"StationNo\":\"09\",\"StationName\":\"雲林\",\"DepartureTime\":\"\",\"Show\":false,\"ColorClass\":\"dark_blue\"},{\"StationNo\":\"10\",\"StationName\":\"嘉義\",\"DepartureTime\":\"20:14\",\"Show\":true,\"ColorClass\":\"yellow\"},{\"StationNo\":\"11\",\"StationName\":\"台南\",\"DepartureTime\":\"20:33\",\"Show\":true,\"ColorClass\":\"brown\"},{\"StationNo\":\"12\",\"StationName\":\"左營\",\"DepartureTime\":\"20:45\",\"Show\":true,\"ColorClass\":\"blue\"}],\"IsCrossNight\":false,\"RunDate\":\"2021/12/21\",\"DepartureTime_Order\":\"18:46\",\"DestinationTime_Order\":\"20:45\",\"DiscountWord\":null},{\"TrainNumber\":\"0249\",\"DepartureTime\":\"18:51\",\"DestinationTime\":\"20:30\",\"Duration\":\"01:39\",\"NonReservedCar\":\"10-12\",\"Discount\":[],\"Note\":\"\",\"Sequence\":49,\"StationInfo\":[{\"StationNo\":\"01\",\"StationName\":\"南港\",\"DepartureTime\":\"18:40\",\"Show\":true,\"ColorClass\":\"orange\"},{\"StationNo\":\"02\",\"StationName\":\"台北\",\"DepartureTime\":\"18:51\",\"Show\":true,\"ColorClass\":\"purple\"},{\"StationNo\":\"03\",\"StationName\":\"板橋\",\"DepartureTime\":\"18:59\",\"Show\":true,\"ColorClass\":\"dark_green\"},{\"StationNo\":\"04\",\"StationName\":\"桃園\",\"DepartureTime\":\"\",\"Show\":false,\"ColorClass\":\"light_green\"},{\"StationNo\":\"05\",\"StationName\":\"新竹\",\"DepartureTime\":\"\",\"Show\":false,\"ColorClass\":\"gray\"},{\"StationNo\":\"06\",\"StationName\":\"苗栗\",\"DepartureTime\":\"\",\"Show\":false,\"ColorClass\":\"sky_blue\"},{\"StationNo\":\"07\",\"StationName\":\"台中\",\"DepartureTime\":\"19:40\",\"Show\":true,\"ColorClass\":\"pink\"},{\"StationNo\":\"08\",\"StationName\":\"彰化\",\"DepartureTime\":\"\",\"Show\":false,\"ColorClass\":\"red\"},{\"StationNo\":\"09\",\"StationName\":\"雲林\",\"DepartureTime\":\"\",\"Show\":false,\"ColorClass\":\"dark_blue\"},{\"StationNo\":\"10\",\"StationName\":\"嘉義\",\"DepartureTime\":\"\",\"Show\":false,\"ColorClass\":\"yellow\"},{\"StationNo\":\"11\",\"StationName\":\"台南\",\"DepartureTime\":\"20:18\",\"Show\":true,\"ColorClass\":\"brown\"},{\"StationNo\":\"12\",\"StationName\":\"左營\",\"DepartureTime\":\"20:30\",\"Show\":true,\"ColorClass\":\"blue\"}],\"IsCrossNight\":false,\"RunDate\":\"2021/12/21\",\"DepartureTime_Order\":\"18:51\",\"DestinationTime_Order\":\"20:30\",\"DiscountWord\":null},{\"TrainNumber\":\"0853\",\"DepartureTime\":\"19:11\",\"DestinationTime\":\"21:25\",\"Duration\":\"02:14\",\"NonReservedCar\":\"8-12\",\"Discount\":[],\"Note\":\"\",\"Sequence\":50,\"StationInfo\":[{\"StationNo\":\"01\",\"StationName\":\"南港\",\"DepartureTime\":\"19:00\",\"Show\":true,\"ColorClass\":\"orange\"},{\"StationNo\":\"02\",\"StationName\":\"台北\",\"DepartureTime\":\"19:11\",\"Show\":true,\"ColorClass\":\"purple\"},{\"StationNo\":\"03\",\"StationName\":\"板橋\",\"DepartureTime\":\"19:19\",\"Show\":true,\"ColorClass\":\"dark_green\"},{\"StationNo\":\"04\",\"StationName\":\"桃園\",\"DepartureTime\":\"19:34\",\"Show\":true,\"ColorClass\":\"light_green\"},{\"StationNo\":\"05\",\"StationName\":\"新竹\",\"DepartureTime\":\"19:47\",\"Show\":true,\"ColorClass\":\"gray\"},{\"StationNo\":\"06\",\"StationName\":\"苗栗\",\"DepartureTime\":\"19:58\",\"Show\":true,\"ColorClass\":\"sky_blue\"},{\"StationNo\":\"07\",\"StationName\":\"台中\",\"DepartureTime\":\"20:17\",\"Show\":true,\"ColorClass\":\"pink\"},{\"StationNo\":\"08\",\"StationName\":\"彰化\",\"DepartureTime\":\"20:30\",\"Show\":true,\"ColorClass\":\"red\"},{\"StationNo\":\"09\",\"StationName\":\"雲林\",\"DepartureTime\":\"20:41\",\"Show\":true,\"ColorClass\":\"dark_blue\"},{\"StationNo\":\"10\",\"StationName\":\"嘉義\",\"DepartureTime\":\"20:55\",\"Show\":true,\"ColorClass\":\"yellow\"},{\"StationNo\":\"11\",\"StationName\":\"台南\",\"DepartureTime\":\"21:13\",\"Show\":true,\"ColorClass\":\"brown\"},{\"StationNo\":\"12\",\"StationName\":\"左營\",\"DepartureTime\":\"21:25\",\"Show\":true,\"ColorClass\":\"blue\"}],\"IsCrossNight\":false,\"RunDate\":\"2021/12/21\",\"DepartureTime_Order\":\"19:11\",\"DestinationTime_Order\":\"21:25\",\"DiscountWord\":null},{\"TrainNumber\":\"0681\",\"DepartureTime\":\"19:46\",\"DestinationTime\":\"21:45\",\"Duration\":\"01:59\",\"NonReservedCar\":\"8-12\",\"Discount\":[],\"Note\":\"\",\"Sequence\":51,\"StationInfo\":[{\"StationNo\":\"01\",\"StationName\":\"南港\",\"DepartureTime\":\"19:35\",\"Show\":true,\"ColorClass\":\"orange\"},{\"StationNo\":\"02\",\"StationName\":\"台北\",\"DepartureTime\":\"19:46\",\"Show\":true,\"ColorClass\":\"purple\"},{\"StationNo\":\"03\",\"StationName\":\"板橋\",\"DepartureTime\":\"19:55\",\"Show\":true,\"ColorClass\":\"dark_green\"},{\"StationNo\":\"04\",\"StationName\":\"桃園\",\"DepartureTime\":\"20:10\",\"Show\":true,\"ColorClass\":\"light_green\"},{\"StationNo\":\"05\",\"StationName\":\"新竹\",\"DepartureTime\":\"20:22\",\"Show\":true,\"ColorClass\":\"gray\"},{\"StationNo\":\"06\",\"StationName\":\"苗栗\",\"DepartureTime\":\"\",\"Show\":false,\"ColorClass\":\"sky_blue\"},{\"StationNo\":\"07\",\"StationName\":\"台中\",\"DepartureTime\":\"20:48\",\"Show\":true,\"ColorClass\":\"pink\"},{\"StationNo\":\"08\",\"StationName\":\"彰化\",\"DepartureTime\":\"\",\"Show\":false,\"ColorClass\":\"red\"},{\"StationNo\":\"09\",\"StationName\":\"雲林\",\"DepartureTime\":\"\",\"Show\":false,\"ColorClass\":\"dark_blue\"},{\"StationNo\":\"10\",\"StationName\":\"嘉義\",\"DepartureTime\":\"21:14\",\"Show\":true,\"ColorClass\":\"yellow\"},{\"StationNo\":\"11\",\"StationName\":\"台南\",\"DepartureTime\":\"21:33\",\"Show\":true,\"ColorClass\":\"brown\"},{\"StationNo\":\"12\",\"StationName\":\"左營\",\"DepartureTime\":\"21:45\",\"Show\":true,\"ColorClass\":\"blue\"}],\"IsCrossNight\":false,\"RunDate\":\"2021/12/21\",\"DepartureTime_Order\":\"19:46\",\"DestinationTime_Order\":\"21:45\",\"DiscountWord\":null},{\"TrainNumber\":\"0253\",\"DepartureTime\":\"19:51\",\"DestinationTime\":\"21:30\",\"Duration\":\"01:39\",\"NonReservedCar\":\"10-12\",\"Discount\":[],\"Note\":\"\",\"Sequence\":52,\"StationInfo\":[{\"StationNo\":\"01\",\"StationName\":\"南港\",\"DepartureTime\":\"19:40\",\"Show\":true,\"ColorClass\":\"orange\"},{\"StationNo\":\"02\",\"StationName\":\"台北\",\"DepartureTime\":\"19:51\",\"Show\":true,\"ColorClass\":\"purple\"},{\"StationNo\":\"03\",\"StationName\":\"板橋\",\"DepartureTime\":\"19:59\",\"Show\":true,\"ColorClass\":\"dark_green\"},{\"StationNo\":\"04\",\"StationName\":\"桃園\",\"DepartureTime\":\"\",\"Show\":false,\"ColorClass\":\"light_green\"},{\"StationNo\":\"05\",\"StationName\":\"新竹\",\"DepartureTime\":\"\",\"Show\":false,\"ColorClass\":\"gray\"},{\"StationNo\":\"06\",\"StationName\":\"苗栗\",\"DepartureTime\":\"\",\"Show\":false,\"ColorClass\":\"sky_blue\"},{\"StationNo\":\"07\",\"StationName\":\"台中\",\"DepartureTime\":\"20:40\",\"Show\":true,\"ColorClass\":\"pink\"},{\"StationNo\":\"08\",\"StationName\":\"彰化\",\"DepartureTime\":\"\",\"Show\":false,\"ColorClass\":\"red\"},{\"StationNo\":\"09\",\"StationName\":\"雲林\",\"DepartureTime\":\"\",\"Show\":false,\"ColorClass\":\"dark_blue\"},{\"StationNo\":\"10\",\"StationName\":\"嘉義\",\"DepartureTime\":\"\",\"Show\":false,\"ColorClass\":\"yellow\"},{\"StationNo\":\"11\",\"StationName\":\"台南\",\"DepartureTime\":\"21:18\",\"Show\":true,\"ColorClass\":\"brown\"},{\"StationNo\":\"12\",\"StationName\":\"左營\",\"DepartureTime\":\"21:30\",\"Show\":true,\"ColorClass\":\"blue\"}],\"IsCrossNight\":false,\"RunDate\":\"2021/12/21\",\"DepartureTime_Order\":\"19:51\",\"DestinationTime_Order\":\"21:30\",\"DiscountWord\":null},{\"TrainNumber\":\"0857\",\"DepartureTime\":\"20:11\",\"DestinationTime\":\"22:25\",\"Duration\":\"02:14\",\"NonReservedCar\":\"9-12\",\"Discount\":[],\"Note\":\"\",\"Sequence\":53,\"StationInfo\":[{\"StationNo\":\"01\",\"StationName\":\"南港\",\"DepartureTime\":\"20:00\",\"Show\":true,\"ColorClass\":\"orange\"},{\"StationNo\":\"02\",\"StationName\":\"台北\",\"DepartureTime\":\"20:11\",\"Show\":true,\"ColorClass\":\"purple\"},{\"StationNo\":\"03\",\"StationName\":\"板橋\",\"DepartureTime\":\"20:19\",\"Show\":true,\"ColorClass\":\"dark_green\"},{\"StationNo\":\"04\",\"StationName\":\"桃園\",\"DepartureTime\":\"20:34\",\"Show\":true,\"ColorClass\":\"light_green\"},{\"StationNo\":\"05\",\"StationName\":\"新竹\",\"DepartureTime\":\"20:47\",\"Show\":true,\"ColorClass\":\"gray\"},{\"StationNo\":\"06\",\"StationName\":\"苗栗\",\"DepartureTime\":\"20:58\",\"Show\":true,\"ColorClass\":\"sky_blue\"},{\"StationNo\":\"07\",\"StationName\":\"台中\",\"DepartureTime\":\"21:17\",\"Show\":true,\"ColorClass\":\"pink\"},{\"StationNo\":\"08\",\"StationName\":\"彰化\",\"DepartureTime\":\"21:30\",\"Show\":true,\"ColorClass\":\"red\"},{\"StationNo\":\"09\",\"StationName\":\"雲林\",\"DepartureTime\":\"21:41\",\"Show\":true,\"ColorClass\":\"dark_blue\"},{\"StationNo\":\"10\",\"StationName\":\"嘉義\",\"DepartureTime\":\"21:55\",\"Show\":true,\"ColorClass\":\"yellow\"},{\"StationNo\":\"11\",\"StationName\":\"台南\",\"DepartureTime\":\"22:13\",\"Show\":true,\"ColorClass\":\"brown\"},{\"StationNo\":\"12\",\"StationName\":\"左營\",\"DepartureTime\":\"22:25\",\"Show\":true,\"ColorClass\":\"blue\"}],\"IsCrossNight\":false,\"RunDate\":\"2021/12/21\",\"DepartureTime_Order\":\"20:11\",\"DestinationTime_Order\":\"22:25\",\"DiscountWord\":null},{\"TrainNumber\":\"0687\",\"DepartureTime\":\"20:46\",\"DestinationTime\":\"22:45\",\"Duration\":\"01:59\",\"NonReservedCar\":\"9-12\",\"Discount\":[],\"Note\":\"\",\"Sequence\":54,\"StationInfo\":[{\"StationNo\":\"01\",\"StationName\":\"南港\",\"DepartureTime\":\"20:35\",\"Show\":true,\"ColorClass\":\"orange\"},{\"StationNo\":\"02\",\"StationName\":\"台北\",\"DepartureTime\":\"20:46\",\"Show\":true,\"ColorClass\":\"purple\"},{\"StationNo\":\"03\",\"StationName\":\"板橋\",\"DepartureTime\":\"20:55\",\"Show\":true,\"ColorClass\":\"dark_green\"},{\"StationNo\":\"04\",\"StationName\":\"桃園\",\"DepartureTime\":\"21:10\",\"Show\":true,\"ColorClass\":\"light_green\"},{\"StationNo\":\"05\",\"StationName\":\"新竹\",\"DepartureTime\":\"21:22\",\"Show\":true,\"ColorClass\":\"gray\"},{\"StationNo\":\"06\",\"StationName\":\"苗栗\",\"DepartureTime\":\"\",\"Show\":false,\"ColorClass\":\"sky_blue\"},{\"StationNo\":\"07\",\"StationName\":\"台中\",\"DepartureTime\":\"21:48\",\"Show\":true,\"ColorClass\":\"pink\"},{\"StationNo\":\"08\",\"StationName\":\"彰化\",\"DepartureTime\":\"\",\"Show\":false,\"ColorClass\":\"red\"},{\"StationNo\":\"09\",\"StationName\":\"雲林\",\"DepartureTime\":\"\",\"Show\":false,\"ColorClass\":\"dark_blue\"},{\"StationNo\":\"10\",\"StationName\":\"嘉義\",\"DepartureTime\":\"22:14\",\"Show\":true,\"ColorClass\":\"yellow\"},{\"StationNo\":\"11\",\"StationName\":\"台南\",\"DepartureTime\":\"22:33\",\"Show\":true,\"ColorClass\":\"brown\"},{\"StationNo\":\"12\",\"StationName\":\"左營\",\"DepartureTime\":\"22:45\",\"Show\":true,\"ColorClass\":\"blue\"}],\"IsCrossNight\":false,\"RunDate\":\"2021/12/21\",\"DepartureTime_Order\":\"20:46\",\"DestinationTime_Order\":\"22:45\",\"DiscountWord\":null},{\"TrainNumber\":\"0257\",\"DepartureTime\":\"20:51\",\"DestinationTime\":\"22:30\",\"Duration\":\"01:39\",\"NonReservedCar\":\"10-12\",\"Discount\":[],\"Note\":\"\",\"Sequence\":55,\"StationInfo\":[{\"StationNo\":\"01\",\"StationName\":\"南港\",\"DepartureTime\":\"20:40\",\"Show\":true,\"ColorClass\":\"orange\"},{\"StationNo\":\"02\",\"StationName\":\"台北\",\"DepartureTime\":\"20:51\",\"Show\":true,\"ColorClass\":\"purple\"},{\"StationNo\":\"03\",\"StationName\":\"板橋\",\"DepartureTime\":\"20:59\",\"Show\":true,\"ColorClass\":\"dark_green\"},{\"StationNo\":\"04\",\"StationName\":\"桃園\",\"DepartureTime\":\"\",\"Show\":false,\"ColorClass\":\"light_green\"},{\"StationNo\":\"05\",\"StationName\":\"新竹\",\"DepartureTime\":\"\",\"Show\":false,\"ColorClass\":\"gray\"},{\"StationNo\":\"06\",\"StationName\":\"苗栗\",\"DepartureTime\":\"\",\"Show\":false,\"ColorClass\":\"sky_blue\"},{\"StationNo\":\"07\",\"StationName\":\"台中\",\"DepartureTime\":\"21:40\",\"Show\":true,\"ColorClass\":\"pink\"},{\"StationNo\":\"08\",\"StationName\":\"彰化\",\"DepartureTime\":\"\",\"Show\":false,\"ColorClass\":\"red\"},{\"StationNo\":\"09\",\"StationName\":\"雲林\",\"DepartureTime\":\"\",\"Show\":false,\"ColorClass\":\"dark_blue\"},{\"StationNo\":\"10\",\"StationName\":\"嘉義\",\"DepartureTime\":\"\",\"Show\":false,\"ColorClass\":\"yellow\"},{\"StationNo\":\"11\",\"StationName\":\"台南\",\"DepartureTime\":\"22:18\",\"Show\":true,\"ColorClass\":\"brown\"},{\"StationNo\":\"12\",\"StationName\":\"左營\",\"DepartureTime\":\"22:30\",\"Show\":true,\"ColorClass\":\"blue\"}],\"IsCrossNight\":false,\"RunDate\":\"2021/12/21\",\"DepartureTime_Order\":\"20:51\",\"DestinationTime_Order\":\"22:30\",\"DiscountWord\":null},{\"TrainNumber\":\"0861\",\"DepartureTime\":\"21:11\",\"DestinationTime\":\"23:25\",\"Duration\":\"02:14\",\"NonReservedCar\":\"10-12\",\"Discount\":[],\"Note\":\"\",\"Sequence\":56,\"StationInfo\":[{\"StationNo\":\"01\",\"StationName\":\"南港\",\"DepartureTime\":\"21:00\",\"Show\":true,\"ColorClass\":\"orange\"},{\"StationNo\":\"02\",\"StationName\":\"台北\",\"DepartureTime\":\"21:11\",\"Show\":true,\"ColorClass\":\"purple\"},{\"StationNo\":\"03\",\"StationName\":\"板橋\",\"DepartureTime\":\"21:19\",\"Show\":true,\"ColorClass\":\"dark_green\"},{\"StationNo\":\"04\",\"StationName\":\"桃園\",\"DepartureTime\":\"21:34\",\"Show\":true,\"ColorClass\":\"light_green\"},{\"StationNo\":\"05\",\"StationName\":\"新竹\",\"DepartureTime\":\"21:47\",\"Show\":true,\"ColorClass\":\"gray\"},{\"StationNo\":\"06\",\"StationName\":\"苗栗\",\"DepartureTime\":\"21:58\",\"Show\":true,\"ColorClass\":\"sky_blue\"},{\"StationNo\":\"07\",\"StationName\":\"台中\",\"DepartureTime\":\"22:17\",\"Show\":true,\"ColorClass\":\"pink\"},{\"StationNo\":\"08\",\"StationName\":\"彰化\",\"DepartureTime\":\"22:30\",\"Show\":true,\"ColorClass\":\"red\"},{\"StationNo\":\"09\",\"StationName\":\"雲林\",\"DepartureTime\":\"22:41\",\"Show\":true,\"ColorClass\":\"dark_blue\"},{\"StationNo\":\"10\",\"StationName\":\"嘉義\",\"DepartureTime\":\"22:55\",\"Show\":true,\"ColorClass\":\"yellow\"},{\"StationNo\":\"11\",\"StationName\":\"台南\",\"DepartureTime\":\"23:13\",\"Show\":true,\"ColorClass\":\"brown\"},{\"StationNo\":\"12\",\"StationName\":\"左營\",\"DepartureTime\":\"23:25\",\"Show\":true,\"ColorClass\":\"blue\"}],\"IsCrossNight\":false,\"RunDate\":\"2021/12/21\",\"DepartureTime_Order\":\"21:11\",\"DestinationTime_Order\":\"23:25\",\"DiscountWord\":null},{\"TrainNumber\":\"0693\",\"DepartureTime\":\"21:41\",\"DestinationTime\":\"23:40\",\"Duration\":\"01:59\",\"NonReservedCar\":\"10-12\",\"Discount\":[],\"Note\":\"\",\"Sequence\":57,\"StationInfo\":[{\"StationNo\":\"01\",\"StationName\":\"南港\",\"DepartureTime\":\"21:30\",\"Show\":true,\"ColorClass\":\"orange\"},{\"StationNo\":\"02\",\"StationName\":\"台北\",\"DepartureTime\":\"21:41\",\"Show\":true,\"ColorClass\":\"purple\"},{\"StationNo\":\"03\",\"StationName\":\"板橋\",\"DepartureTime\":\"21:50\",\"Show\":true,\"ColorClass\":\"dark_green\"},{\"StationNo\":\"04\",\"StationName\":\"桃園\",\"DepartureTime\":\"22:05\",\"Show\":true,\"ColorClass\":\"light_green\"},{\"StationNo\":\"05\",\"StationName\":\"新竹\",\"DepartureTime\":\"22:17\",\"Show\":true,\"ColorClass\":\"gray\"},{\"StationNo\":\"06\",\"StationName\":\"苗栗\",\"DepartureTime\":\"\",\"Show\":false,\"ColorClass\":\"sky_blue\"},{\"StationNo\":\"07\",\"StationName\":\"台中\",\"DepartureTime\":\"22:43\",\"Show\":true,\"ColorClass\":\"pink\"},{\"StationNo\":\"08\",\"StationName\":\"彰化\",\"DepartureTime\":\"\",\"Show\":false,\"ColorClass\":\"red\"},{\"StationNo\":\"09\",\"StationName\":\"雲林\",\"DepartureTime\":\"\",\"Show\":false,\"ColorClass\":\"dark_blue\"},{\"StationNo\":\"10\",\"StationName\":\"嘉義\",\"DepartureTime\":\"23:09\",\"Show\":true,\"ColorClass\":\"yellow\"},{\"StationNo\":\"11\",\"StationName\":\"台南\",\"DepartureTime\":\"23:28\",\"Show\":true,\"ColorClass\":\"brown\"},{\"StationNo\":\"12\",\"StationName\":\"左營\",\"DepartureTime\":\"23:40\",\"Show\":true,\"ColorClass\":\"blue\"}],\"IsCrossNight\":false,\"RunDate\":\"2021/12/21\",\"DepartureTime_Order\":\"21:41\",\"DestinationTime_Order\":\"23:40\",\"DiscountWord\":null},{\"TrainNumber\":\"0293\",\"DepartureTime\":\"21:46\",\"DestinationTime\":\"23:30\",\"Duration\":\"01:44\",\"NonReservedCar\":\"10-12\",\"Discount\":[],\"Note\":\"\",\"Sequence\":58,\"StationInfo\":[{\"StationNo\":\"01\",\"StationName\":\"南港\",\"DepartureTime\":\"21:35\",\"Show\":true,\"ColorClass\":\"orange\"},{\"StationNo\":\"02\",\"StationName\":\"台北\",\"DepartureTime\":\"21:46\",\"Show\":true,\"ColorClass\":\"purple\"},{\"StationNo\":\"03\",\"StationName\":\"板橋\",\"DepartureTime\":\"21:54\",\"Show\":true,\"ColorClass\":\"dark_green\"},{\"StationNo\":\"04\",\"StationName\":\"桃園\",\"DepartureTime\":\"\",\"Show\":false,\"ColorClass\":\"light_green\"},{\"StationNo\":\"05\",\"StationName\":\"新竹\",\"DepartureTime\":\"\",\"Show\":false,\"ColorClass\":\"gray\"},{\"StationNo\":\"06\",\"StationName\":\"苗栗\",\"DepartureTime\":\"\",\"Show\":false,\"ColorClass\":\"sky_blue\"},{\"StationNo\":\"07\",\"StationName\":\"台中\",\"DepartureTime\":\"22:36\",\"Show\":true,\"ColorClass\":\"pink\"},{\"StationNo\":\"08\",\"StationName\":\"彰化\",\"DepartureTime\":\"\",\"Show\":false,\"ColorClass\":\"red\"},{\"StationNo\":\"09\",\"StationName\":\"雲林\",\"DepartureTime\":\"\",\"Show\":false,\"ColorClass\":\"dark_blue\"},{\"StationNo\":\"10\",\"StationName\":\"嘉義\",\"DepartureTime\":\"23:01\",\"Show\":true,\"ColorClass\":\"yellow\"},{\"StationNo\":\"11\",\"StationName\":\"台南\",\"DepartureTime\":\"23:18\",\"Show\":true,\"ColorClass\":\"brown\"},{\"StationNo\":\"12\",\"StationName\":\"左營\",\"DepartureTime\":\"23:30\",\"Show\":true,\"ColorClass\":\"blue\"}],\"IsCrossNight\":false,\"RunDate\":\"2021/12/21\",\"DepartureTime_Order\":\"21:46\",\"DestinationTime_Order\":\"23:30\",\"DiscountWord\":null},{\"TrainNumber\":\"0333\",\"DepartureTime\":\"21:56\",\"DestinationTime\":\"23:55\",\"Duration\":\"01:59\",\"NonReservedCar\":\"10-12\",\"Discount\":[],\"Note\":\"\",\"Sequence\":59,\"StationInfo\":[{\"StationNo\":\"01\",\"StationName\":\"南港\",\"DepartureTime\":\"21:45\",\"Show\":true,\"ColorClass\":\"orange\"},{\"StationNo\":\"02\",\"StationName\":\"台北\",\"DepartureTime\":\"21:56\",\"Show\":true,\"ColorClass\":\"purple\"},{\"StationNo\":\"03\",\"StationName\":\"板橋\",\"DepartureTime\":\"\",\"Show\":false,\"ColorClass\":\"dark_green\"},{\"StationNo\":\"04\",\"StationName\":\"桃園\",\"DepartureTime\":\"22:15\",\"Show\":true,\"ColorClass\":\"light_green\"},{\"StationNo\":\"05\",\"StationName\":\"新竹\",\"DepartureTime\":\"\",\"Show\":false,\"ColorClass\":\"gray\"},{\"StationNo\":\"06\",\"StationName\":\"苗栗\",\"DepartureTime\":\"\",\"Show\":false,\"ColorClass\":\"sky_blue\"},{\"StationNo\":\"07\",\"StationName\":\"台中\",\"DepartureTime\":\"22:49\",\"Show\":true,\"ColorClass\":\"pink\"},{\"StationNo\":\"08\",\"StationName\":\"彰化\",\"DepartureTime\":\"23:01\",\"Show\":true,\"ColorClass\":\"red\"},{\"StationNo\":\"09\",\"StationName\":\"雲林\",\"DepartureTime\":\"23:12\",\"Show\":true,\"ColorClass\":\"dark_blue\"},{\"StationNo\":\"10\",\"StationName\":\"嘉義\",\"DepartureTime\":\"23:24\",\"Show\":true,\"ColorClass\":\"yellow\"},{\"StationNo\":\"11\",\"StationName\":\"台南\",\"DepartureTime\":\"23:42\",\"Show\":true,\"ColorClass\":\"brown\"},{\"StationNo\":\"12\",\"StationName\":\"左營\",\"DepartureTime\":\"23:55\",\"Show\":true,\"ColorClass\":\"blue\"}],\"IsCrossNight\":false,\"RunDate\":\"2021/12/21\",\"DepartureTime_Order\":\"21:56\",\"DestinationTime_Order\":\"23:55\",\"DiscountWord\":null},{\"TrainNumber\":\"0295\",\"DepartureTime\":\"22:16\",\"DestinationTime\":\"23:59\",\"Duration\":\"01:43\",\"NonReservedCar\":\"10-12\",\"Discount\":[],\"Note\":\"\",\"Sequence\":60,\"StationInfo\":[{\"StationNo\":\"01\",\"StationName\":\"南港\",\"DepartureTime\":\"22:05\",\"Show\":true,\"ColorClass\":\"orange\"},{\"StationNo\":\"02\",\"StationName\":\"台北\",\"DepartureTime\":\"22:16\",\"Show\":true,\"ColorClass\":\"purple\"},{\"StationNo\":\"03\",\"StationName\":\"板橋\",\"DepartureTime\":\"\",\"Show\":false,\"ColorClass\":\"dark_green\"},{\"StationNo\":\"04\",\"StationName\":\"桃園\",\"DepartureTime\":\"22:35\",\"Show\":true,\"ColorClass\":\"light_green\"},{\"StationNo\":\"05\",\"StationName\":\"新竹\",\"DepartureTime\":\"\",\"Show\":false,\"ColorClass\":\"gray\"},{\"StationNo\":\"06\",\"StationName\":\"苗栗\",\"DepartureTime\":\"\",\"Show\":false,\"ColorClass\":\"sky_blue\"},{\"StationNo\":\"07\",\"StationName\":\"台中\",\"DepartureTime\":\"23:07\",\"Show\":true,\"ColorClass\":\"pink\"},{\"StationNo\":\"08\",\"StationName\":\"彰化\",\"DepartureTime\":\"\",\"Show\":false,\"ColorClass\":\"red\"},{\"StationNo\":\"09\",\"StationName\":\"雲林\",\"DepartureTime\":\"\",\"Show\":false,\"ColorClass\":\"dark_blue\"},{\"StationNo\":\"10\",\"StationName\":\"嘉義\",\"DepartureTime\":\"23:30\",\"Show\":true,\"ColorClass\":\"yellow\"},{\"StationNo\":\"11\",\"StationName\":\"台南\",\"DepartureTime\":\"23:48\",\"Show\":true,\"ColorClass\":\"brown\"},{\"StationNo\":\"12\",\"StationName\":\"左營\",\"DepartureTime\":\"23:59\",\"Show\":true,\"ColorClass\":\"blue\"}],\"IsCrossNight\":false,\"RunDate\":\"2021/12/21\",\"DepartureTime_Order\":\"22:16\",\"DestinationTime_Order\":\"23:59\",\"DiscountWord\":null}]},\"DestinationTable\":{\"Title\":{\"StartStationName\":null,\"EndStationName\":null,\"TitleSplit1\":null,\"TitleSplit2\":null},\"TrainItem\":[]},\"PriceTable\":{\"Coach\":[\"$1490\",\"$745\",\"$1415\"],\"Business\":[\"$2440\",\"$1220\",\"$2315\"],\"Unreserved\":[\"$1445\",\"$720\",\"-\"],\"Column\":[]}}}'"
            ]
          },
          "metadata": {},
          "execution_count": 4
        }
      ]
    },
    {
      "cell_type": "code",
      "source": [
        "result=json.loads(json.string) #字串轉json(dict)\n",
        "result['data']['DepartureTable']['TrainItem'][0]"
      ],
      "metadata": {
        "colab": {
          "base_uri": "https://localhost:8080/"
        },
        "id": "zRqYvuaVQzAa",
        "outputId": "1d841be6-3640-43a7-d651-5d4102f64c0c"
      },
      "execution_count": null,
      "outputs": [
        {
          "output_type": "execute_result",
          "data": {
            "text/plain": [
              "{'DepartureTime': '06:26',\n",
              " 'DepartureTime_Order': '06:26',\n",
              " 'DestinationTime': '08:40',\n",
              " 'DestinationTime_Order': '08:40',\n",
              " 'Discount': [{'Color': '#1685e4',\n",
              "   'Discount': '70',\n",
              "   'Id': '9973b559-8279-4bf4-90be-601f7973a39f',\n",
              "   'Name': '20人團體',\n",
              "   'Value': '7折'},\n",
              "  {'Color': '#ffcc00',\n",
              "   'Discount': '40|70',\n",
              "   'Id': '40863ff1-a16c-4da1-8af7-c1f8991627f3',\n",
              "   'Name': '校外教學',\n",
              "   'Value': '4/7折'}],\n",
              " 'DiscountWord': None,\n",
              " 'Duration': '02:14',\n",
              " 'IsCrossNight': False,\n",
              " 'NonReservedCar': '9-12',\n",
              " 'Note': '',\n",
              " 'RunDate': '2021/12/21',\n",
              " 'Sequence': 0,\n",
              " 'StationInfo': [{'ColorClass': 'orange',\n",
              "   'DepartureTime': '06:15',\n",
              "   'Show': True,\n",
              "   'StationName': '南港',\n",
              "   'StationNo': '01'},\n",
              "  {'ColorClass': 'purple',\n",
              "   'DepartureTime': '06:26',\n",
              "   'Show': True,\n",
              "   'StationName': '台北',\n",
              "   'StationNo': '02'},\n",
              "  {'ColorClass': 'dark_green',\n",
              "   'DepartureTime': '06:34',\n",
              "   'Show': True,\n",
              "   'StationName': '板橋',\n",
              "   'StationNo': '03'},\n",
              "  {'ColorClass': 'light_green',\n",
              "   'DepartureTime': '06:49',\n",
              "   'Show': True,\n",
              "   'StationName': '桃園',\n",
              "   'StationNo': '04'},\n",
              "  {'ColorClass': 'gray',\n",
              "   'DepartureTime': '07:02',\n",
              "   'Show': True,\n",
              "   'StationName': '新竹',\n",
              "   'StationNo': '05'},\n",
              "  {'ColorClass': 'sky_blue',\n",
              "   'DepartureTime': '07:13',\n",
              "   'Show': True,\n",
              "   'StationName': '苗栗',\n",
              "   'StationNo': '06'},\n",
              "  {'ColorClass': 'pink',\n",
              "   'DepartureTime': '07:32',\n",
              "   'Show': True,\n",
              "   'StationName': '台中',\n",
              "   'StationNo': '07'},\n",
              "  {'ColorClass': 'red',\n",
              "   'DepartureTime': '07:45',\n",
              "   'Show': True,\n",
              "   'StationName': '彰化',\n",
              "   'StationNo': '08'},\n",
              "  {'ColorClass': 'dark_blue',\n",
              "   'DepartureTime': '07:56',\n",
              "   'Show': True,\n",
              "   'StationName': '雲林',\n",
              "   'StationNo': '09'},\n",
              "  {'ColorClass': 'yellow',\n",
              "   'DepartureTime': '08:10',\n",
              "   'Show': True,\n",
              "   'StationName': '嘉義',\n",
              "   'StationNo': '10'},\n",
              "  {'ColorClass': 'brown',\n",
              "   'DepartureTime': '08:28',\n",
              "   'Show': True,\n",
              "   'StationName': '台南',\n",
              "   'StationNo': '11'},\n",
              "  {'ColorClass': 'blue',\n",
              "   'DepartureTime': '08:40',\n",
              "   'Show': True,\n",
              "   'StationName': '左營',\n",
              "   'StationNo': '12'}],\n",
              " 'TrainNumber': '0803'}"
            ]
          },
          "metadata": {},
          "execution_count": 3
        }
      ]
    },
    {
      "cell_type": "code",
      "source": [
        "from datetime import datetime as dt # time \n",
        "fmtString = '%H:%M'\n",
        "for i in result['data']['DepartureTable']['TrainItem']:\n",
        "  myStart = dt.strptime(i['DepartureTime'], fmtString) #字串轉成時間\n",
        "  myEnd = dt.strptime(i['DestinationTime'], fmtString) #字串轉成時間\n",
        "  difference = myEnd - myStart #運算\n",
        "  print(f\"Train number: {i['TrainNumber']}, Departure time: {i['DepartureTime']}, Destination time: {i['DestinationTime']}, Duration: {difference}, Duration2: {i['Duration']}\")"
      ],
      "metadata": {
        "id": "6x6K3y03RocJ"
      },
      "execution_count": null,
      "outputs": []
    },
    {
      "cell_type": "markdown",
      "source": [
        "# 運用 Beautifulsoup 爬取經濟日報最新新聞的網址及title\n",
        "\n",
        "Common Beautiful soup method  | Meaning                        |\n",
        ":----------------------------:|:------------------------------:|\n",
        "`title`                       | return page title              |\n",
        "`text`                        | return tag content             |\n",
        "`find`                        | find the first matched content |\n",
        "`find_all`                    | find all matched content       |\n",
        "`select`                      | select CSS                     |"
      ],
      "metadata": {
        "id": "IrUy3luRRsb9"
      }
    },
    {
      "cell_type": "code",
      "source": [
        "import requests\n",
        "from bs4 import BeautifulSoup\n",
        "\n",
        "\n",
        "url = 'https://money.udn.com/money/index'\n",
        "url_new ='https://money.udn.com/'\n",
        "\n",
        "## 1.填寫headers\n",
        "headers = {\"user-agent\": \"Mozilla/5.0 (Windows NT 10.0; Win64; x64) AppleWebKit/537.36 (KHTML, like Gecko) Chrome/90.0.4430.212 Safari/537.36\"}\n",
        "\n",
        "\n",
        "response = requests.get(url, headers=headers)\n",
        "soup = BeautifulSoup(response.text, 'html.parser')\n",
        "#print(response.text)\n",
        "\n",
        "#先找到最新文章\n",
        "latest_article_html = soup.find_all(\"\",class_=\"latest story\")\n",
        "soup = BeautifulSoup(str(latest_article_html), 'html.parser')\n",
        "article_title_html = soup.find_all(\"\",class_=\"story-headline-wrapper\")\n",
        "soup = BeautifulSoup(str(article_title_html), 'html.parser')\n",
        "a_tags = soup.find_all('a')\n",
        "for i in a_tags[2:]:\n",
        "  try:\n",
        "    time=i.find('time').text\n",
        "    href = url_new+i['href']\n",
        "    title = i.find('h3').text.replace('\\n','').replace(' ','')\n",
        "    print(f'Time: {time}: {title}| link: {href} ')\n",
        "  except Exception as e:\n",
        "    continue\n",
        "  "
      ],
      "metadata": {
        "id": "QquHEL8aRsRh",
        "colab": {
          "base_uri": "https://localhost:8080/"
        },
        "outputId": "2bfc7a31-8bee-411b-9722-7fa773131fb7"
      },
      "execution_count": 2,
      "outputs": [
        {
          "output_type": "stream",
          "name": "stdout",
          "text": [
            "Time: 12/22 15:15: 金酒明年恐難銷陸　經濟部：可能與政治氛圍不佳有關係| link: https://money.udn.com//money/story/5603/5980441?from=edn_newest_index \n",
            "Time: 12/22 15:12: 馬斯克說已賣足股票實現出脫特斯拉10%持股的目標| link: https://money.udn.com//money/story/10511/5980430?from=edn_newest_index \n",
            "Time: 12/22 15:12: 日本疑現首起Omicron社區傳播3人無海外旅遊史| link: https://money.udn.com//money/story/5599/5980433?from=edn_newest_index \n",
            "Time: 12/22 15:12: 立委指大社工業區降編為淨零轉型試金石促速審議| link: https://money.udn.com//money/story/7307/5980429?from=edn_newest_index \n",
            "Time: 12/22 15:10: 去中心化網路Web3概念正夯馬斯克開酸：有誰看過？| link: https://money.udn.com//money/story/5599/5980422?from=edn_newest_index \n"
          ]
        }
      ]
    },
    {
      "cell_type": "markdown",
      "source": [
        "# User Agent\n",
        "### 可以搭配 Postman 檢查所需要的request\n",
        "目標網址 url: http://www.ntu.edu.tw/\n",
        "\n",
        "Postman url :https://www.postman.com/"
      ],
      "metadata": {
        "id": "Wiy0gPJKRx3e"
      }
    },
    {
      "cell_type": "code",
      "source": [
        "# -*- coding: utf-8 -*-\n",
        "import requests\n",
        "from bs4 import BeautifulSoup\n",
        "\n",
        "# add user agent here to cheat web server\n",
        "headers = {'User-Agent':'Mozilla/5.0 (Windows NT 6.1; Win64; x64; rv:57.0) Gecko/20100101 Firefox/57.0'}\n",
        "# response = requests.get('http://www.ntu.edu.tw/', headers=headers)\n",
        "response = requests.get('http://www.ntu.edu.tw/')\n",
        "print(response.status_code)\n",
        "\n",
        "response.encoding = 'utf-8'\n",
        "print(response.text)\n",
        "soup = BeautifulSoup(response.text, 'html.parser')\n"
      ],
      "metadata": {
        "id": "peOwIBgMRxX4",
        "colab": {
          "base_uri": "https://localhost:8080/",
          "height": 585
        },
        "outputId": "7e2fc5de-f8da-4eb3-aded-86c8bfad8b50"
      },
      "execution_count": 3,
      "outputs": [
        {
          "output_type": "error",
          "ename": "ConnectionError",
          "evalue": "ignored",
          "traceback": [
            "\u001b[0;31m---------------------------------------------------------------------------\u001b[0m",
            "\u001b[0;31mConnectionResetError\u001b[0m                      Traceback (most recent call last)",
            "\u001b[0;32m/usr/local/lib/python3.7/dist-packages/urllib3/connectionpool.py\u001b[0m in \u001b[0;36murlopen\u001b[0;34m(self, method, url, body, headers, retries, redirect, assert_same_host, timeout, pool_timeout, release_conn, chunked, body_pos, **response_kw)\u001b[0m\n\u001b[1;32m    599\u001b[0m                                                   \u001b[0mbody\u001b[0m\u001b[0;34m=\u001b[0m\u001b[0mbody\u001b[0m\u001b[0;34m,\u001b[0m \u001b[0mheaders\u001b[0m\u001b[0;34m=\u001b[0m\u001b[0mheaders\u001b[0m\u001b[0;34m,\u001b[0m\u001b[0;34m\u001b[0m\u001b[0;34m\u001b[0m\u001b[0m\n\u001b[0;32m--> 600\u001b[0;31m                                                   chunked=chunked)\n\u001b[0m\u001b[1;32m    601\u001b[0m \u001b[0;34m\u001b[0m\u001b[0m\n",
            "\u001b[0;32m/usr/local/lib/python3.7/dist-packages/urllib3/connectionpool.py\u001b[0m in \u001b[0;36m_make_request\u001b[0;34m(self, conn, method, url, timeout, chunked, **httplib_request_kw)\u001b[0m\n\u001b[1;32m    383\u001b[0m                     \u001b[0;31m# otherwise it looks like a programming error was the cause.\u001b[0m\u001b[0;34m\u001b[0m\u001b[0;34m\u001b[0m\u001b[0;34m\u001b[0m\u001b[0m\n\u001b[0;32m--> 384\u001b[0;31m                     \u001b[0msix\u001b[0m\u001b[0;34m.\u001b[0m\u001b[0mraise_from\u001b[0m\u001b[0;34m(\u001b[0m\u001b[0me\u001b[0m\u001b[0;34m,\u001b[0m \u001b[0;32mNone\u001b[0m\u001b[0;34m)\u001b[0m\u001b[0;34m\u001b[0m\u001b[0;34m\u001b[0m\u001b[0m\n\u001b[0m\u001b[1;32m    385\u001b[0m         \u001b[0;32mexcept\u001b[0m \u001b[0;34m(\u001b[0m\u001b[0mSocketTimeout\u001b[0m\u001b[0;34m,\u001b[0m \u001b[0mBaseSSLError\u001b[0m\u001b[0;34m,\u001b[0m \u001b[0mSocketError\u001b[0m\u001b[0;34m)\u001b[0m \u001b[0;32mas\u001b[0m \u001b[0me\u001b[0m\u001b[0;34m:\u001b[0m\u001b[0;34m\u001b[0m\u001b[0;34m\u001b[0m\u001b[0m\n",
            "\u001b[0;32m/usr/local/lib/python3.7/dist-packages/urllib3/packages/six.py\u001b[0m in \u001b[0;36mraise_from\u001b[0;34m(value, from_value)\u001b[0m\n",
            "\u001b[0;32m/usr/local/lib/python3.7/dist-packages/urllib3/connectionpool.py\u001b[0m in \u001b[0;36m_make_request\u001b[0;34m(self, conn, method, url, timeout, chunked, **httplib_request_kw)\u001b[0m\n\u001b[1;32m    379\u001b[0m                 \u001b[0;32mtry\u001b[0m\u001b[0;34m:\u001b[0m\u001b[0;34m\u001b[0m\u001b[0;34m\u001b[0m\u001b[0m\n\u001b[0;32m--> 380\u001b[0;31m                     \u001b[0mhttplib_response\u001b[0m \u001b[0;34m=\u001b[0m \u001b[0mconn\u001b[0m\u001b[0;34m.\u001b[0m\u001b[0mgetresponse\u001b[0m\u001b[0;34m(\u001b[0m\u001b[0;34m)\u001b[0m\u001b[0;34m\u001b[0m\u001b[0;34m\u001b[0m\u001b[0m\n\u001b[0m\u001b[1;32m    381\u001b[0m                 \u001b[0;32mexcept\u001b[0m \u001b[0mException\u001b[0m \u001b[0;32mas\u001b[0m \u001b[0me\u001b[0m\u001b[0;34m:\u001b[0m\u001b[0;34m\u001b[0m\u001b[0;34m\u001b[0m\u001b[0m\n",
            "\u001b[0;32m/usr/lib/python3.7/http/client.py\u001b[0m in \u001b[0;36mgetresponse\u001b[0;34m(self)\u001b[0m\n\u001b[1;32m   1372\u001b[0m             \u001b[0;32mtry\u001b[0m\u001b[0;34m:\u001b[0m\u001b[0;34m\u001b[0m\u001b[0;34m\u001b[0m\u001b[0m\n\u001b[0;32m-> 1373\u001b[0;31m                 \u001b[0mresponse\u001b[0m\u001b[0;34m.\u001b[0m\u001b[0mbegin\u001b[0m\u001b[0;34m(\u001b[0m\u001b[0;34m)\u001b[0m\u001b[0;34m\u001b[0m\u001b[0;34m\u001b[0m\u001b[0m\n\u001b[0m\u001b[1;32m   1374\u001b[0m             \u001b[0;32mexcept\u001b[0m \u001b[0mConnectionError\u001b[0m\u001b[0;34m:\u001b[0m\u001b[0;34m\u001b[0m\u001b[0;34m\u001b[0m\u001b[0m\n",
            "\u001b[0;32m/usr/lib/python3.7/http/client.py\u001b[0m in \u001b[0;36mbegin\u001b[0;34m(self)\u001b[0m\n\u001b[1;32m    318\u001b[0m         \u001b[0;32mwhile\u001b[0m \u001b[0;32mTrue\u001b[0m\u001b[0;34m:\u001b[0m\u001b[0;34m\u001b[0m\u001b[0;34m\u001b[0m\u001b[0m\n\u001b[0;32m--> 319\u001b[0;31m             \u001b[0mversion\u001b[0m\u001b[0;34m,\u001b[0m \u001b[0mstatus\u001b[0m\u001b[0;34m,\u001b[0m \u001b[0mreason\u001b[0m \u001b[0;34m=\u001b[0m \u001b[0mself\u001b[0m\u001b[0;34m.\u001b[0m\u001b[0m_read_status\u001b[0m\u001b[0;34m(\u001b[0m\u001b[0;34m)\u001b[0m\u001b[0;34m\u001b[0m\u001b[0;34m\u001b[0m\u001b[0m\n\u001b[0m\u001b[1;32m    320\u001b[0m             \u001b[0;32mif\u001b[0m \u001b[0mstatus\u001b[0m \u001b[0;34m!=\u001b[0m \u001b[0mCONTINUE\u001b[0m\u001b[0;34m:\u001b[0m\u001b[0;34m\u001b[0m\u001b[0;34m\u001b[0m\u001b[0m\n",
            "\u001b[0;32m/usr/lib/python3.7/http/client.py\u001b[0m in \u001b[0;36m_read_status\u001b[0;34m(self)\u001b[0m\n\u001b[1;32m    279\u001b[0m     \u001b[0;32mdef\u001b[0m \u001b[0m_read_status\u001b[0m\u001b[0;34m(\u001b[0m\u001b[0mself\u001b[0m\u001b[0;34m)\u001b[0m\u001b[0;34m:\u001b[0m\u001b[0;34m\u001b[0m\u001b[0;34m\u001b[0m\u001b[0m\n\u001b[0;32m--> 280\u001b[0;31m         \u001b[0mline\u001b[0m \u001b[0;34m=\u001b[0m \u001b[0mstr\u001b[0m\u001b[0;34m(\u001b[0m\u001b[0mself\u001b[0m\u001b[0;34m.\u001b[0m\u001b[0mfp\u001b[0m\u001b[0;34m.\u001b[0m\u001b[0mreadline\u001b[0m\u001b[0;34m(\u001b[0m\u001b[0m_MAXLINE\u001b[0m \u001b[0;34m+\u001b[0m \u001b[0;36m1\u001b[0m\u001b[0;34m)\u001b[0m\u001b[0;34m,\u001b[0m \u001b[0;34m\"iso-8859-1\"\u001b[0m\u001b[0;34m)\u001b[0m\u001b[0;34m\u001b[0m\u001b[0;34m\u001b[0m\u001b[0m\n\u001b[0m\u001b[1;32m    281\u001b[0m         \u001b[0;32mif\u001b[0m \u001b[0mlen\u001b[0m\u001b[0;34m(\u001b[0m\u001b[0mline\u001b[0m\u001b[0;34m)\u001b[0m \u001b[0;34m>\u001b[0m \u001b[0m_MAXLINE\u001b[0m\u001b[0;34m:\u001b[0m\u001b[0;34m\u001b[0m\u001b[0;34m\u001b[0m\u001b[0m\n",
            "\u001b[0;32m/usr/lib/python3.7/socket.py\u001b[0m in \u001b[0;36mreadinto\u001b[0;34m(self, b)\u001b[0m\n\u001b[1;32m    588\u001b[0m             \u001b[0;32mtry\u001b[0m\u001b[0;34m:\u001b[0m\u001b[0;34m\u001b[0m\u001b[0;34m\u001b[0m\u001b[0m\n\u001b[0;32m--> 589\u001b[0;31m                 \u001b[0;32mreturn\u001b[0m \u001b[0mself\u001b[0m\u001b[0;34m.\u001b[0m\u001b[0m_sock\u001b[0m\u001b[0;34m.\u001b[0m\u001b[0mrecv_into\u001b[0m\u001b[0;34m(\u001b[0m\u001b[0mb\u001b[0m\u001b[0;34m)\u001b[0m\u001b[0;34m\u001b[0m\u001b[0;34m\u001b[0m\u001b[0m\n\u001b[0m\u001b[1;32m    590\u001b[0m             \u001b[0;32mexcept\u001b[0m \u001b[0mtimeout\u001b[0m\u001b[0;34m:\u001b[0m\u001b[0;34m\u001b[0m\u001b[0;34m\u001b[0m\u001b[0m\n",
            "\u001b[0;32m/usr/lib/python3.7/ssl.py\u001b[0m in \u001b[0;36mrecv_into\u001b[0;34m(self, buffer, nbytes, flags)\u001b[0m\n\u001b[1;32m   1070\u001b[0m                   self.__class__)\n\u001b[0;32m-> 1071\u001b[0;31m             \u001b[0;32mreturn\u001b[0m \u001b[0mself\u001b[0m\u001b[0;34m.\u001b[0m\u001b[0mread\u001b[0m\u001b[0;34m(\u001b[0m\u001b[0mnbytes\u001b[0m\u001b[0;34m,\u001b[0m \u001b[0mbuffer\u001b[0m\u001b[0;34m)\u001b[0m\u001b[0;34m\u001b[0m\u001b[0;34m\u001b[0m\u001b[0m\n\u001b[0m\u001b[1;32m   1072\u001b[0m         \u001b[0;32melse\u001b[0m\u001b[0;34m:\u001b[0m\u001b[0;34m\u001b[0m\u001b[0;34m\u001b[0m\u001b[0m\n",
            "\u001b[0;32m/usr/lib/python3.7/ssl.py\u001b[0m in \u001b[0;36mread\u001b[0;34m(self, len, buffer)\u001b[0m\n\u001b[1;32m    928\u001b[0m             \u001b[0;32mif\u001b[0m \u001b[0mbuffer\u001b[0m \u001b[0;32mis\u001b[0m \u001b[0;32mnot\u001b[0m \u001b[0;32mNone\u001b[0m\u001b[0;34m:\u001b[0m\u001b[0;34m\u001b[0m\u001b[0;34m\u001b[0m\u001b[0m\n\u001b[0;32m--> 929\u001b[0;31m                 \u001b[0;32mreturn\u001b[0m \u001b[0mself\u001b[0m\u001b[0;34m.\u001b[0m\u001b[0m_sslobj\u001b[0m\u001b[0;34m.\u001b[0m\u001b[0mread\u001b[0m\u001b[0;34m(\u001b[0m\u001b[0mlen\u001b[0m\u001b[0;34m,\u001b[0m \u001b[0mbuffer\u001b[0m\u001b[0;34m)\u001b[0m\u001b[0;34m\u001b[0m\u001b[0;34m\u001b[0m\u001b[0m\n\u001b[0m\u001b[1;32m    930\u001b[0m             \u001b[0;32melse\u001b[0m\u001b[0;34m:\u001b[0m\u001b[0;34m\u001b[0m\u001b[0;34m\u001b[0m\u001b[0m\n",
            "\u001b[0;31mConnectionResetError\u001b[0m: [Errno 104] Connection reset by peer",
            "\nDuring handling of the above exception, another exception occurred:\n",
            "\u001b[0;31mProtocolError\u001b[0m                             Traceback (most recent call last)",
            "\u001b[0;32m/usr/local/lib/python3.7/dist-packages/requests/adapters.py\u001b[0m in \u001b[0;36msend\u001b[0;34m(self, request, stream, timeout, verify, cert, proxies)\u001b[0m\n\u001b[1;32m    448\u001b[0m                     \u001b[0mretries\u001b[0m\u001b[0;34m=\u001b[0m\u001b[0mself\u001b[0m\u001b[0;34m.\u001b[0m\u001b[0mmax_retries\u001b[0m\u001b[0;34m,\u001b[0m\u001b[0;34m\u001b[0m\u001b[0;34m\u001b[0m\u001b[0m\n\u001b[0;32m--> 449\u001b[0;31m                     \u001b[0mtimeout\u001b[0m\u001b[0;34m=\u001b[0m\u001b[0mtimeout\u001b[0m\u001b[0;34m\u001b[0m\u001b[0;34m\u001b[0m\u001b[0m\n\u001b[0m\u001b[1;32m    450\u001b[0m                 )\n",
            "\u001b[0;32m/usr/local/lib/python3.7/dist-packages/urllib3/connectionpool.py\u001b[0m in \u001b[0;36murlopen\u001b[0;34m(self, method, url, body, headers, retries, redirect, assert_same_host, timeout, pool_timeout, release_conn, chunked, body_pos, **response_kw)\u001b[0m\n\u001b[1;32m    637\u001b[0m             retries = retries.increment(method, url, error=e, _pool=self,\n\u001b[0;32m--> 638\u001b[0;31m                                         _stacktrace=sys.exc_info()[2])\n\u001b[0m\u001b[1;32m    639\u001b[0m             \u001b[0mretries\u001b[0m\u001b[0;34m.\u001b[0m\u001b[0msleep\u001b[0m\u001b[0;34m(\u001b[0m\u001b[0;34m)\u001b[0m\u001b[0;34m\u001b[0m\u001b[0;34m\u001b[0m\u001b[0m\n",
            "\u001b[0;32m/usr/local/lib/python3.7/dist-packages/urllib3/util/retry.py\u001b[0m in \u001b[0;36mincrement\u001b[0;34m(self, method, url, response, error, _pool, _stacktrace)\u001b[0m\n\u001b[1;32m    367\u001b[0m             \u001b[0;32mif\u001b[0m \u001b[0mread\u001b[0m \u001b[0;32mis\u001b[0m \u001b[0;32mFalse\u001b[0m \u001b[0;32mor\u001b[0m \u001b[0;32mnot\u001b[0m \u001b[0mself\u001b[0m\u001b[0;34m.\u001b[0m\u001b[0m_is_method_retryable\u001b[0m\u001b[0;34m(\u001b[0m\u001b[0mmethod\u001b[0m\u001b[0;34m)\u001b[0m\u001b[0;34m:\u001b[0m\u001b[0;34m\u001b[0m\u001b[0;34m\u001b[0m\u001b[0m\n\u001b[0;32m--> 368\u001b[0;31m                 \u001b[0;32mraise\u001b[0m \u001b[0msix\u001b[0m\u001b[0;34m.\u001b[0m\u001b[0mreraise\u001b[0m\u001b[0;34m(\u001b[0m\u001b[0mtype\u001b[0m\u001b[0;34m(\u001b[0m\u001b[0merror\u001b[0m\u001b[0;34m)\u001b[0m\u001b[0;34m,\u001b[0m \u001b[0merror\u001b[0m\u001b[0;34m,\u001b[0m \u001b[0m_stacktrace\u001b[0m\u001b[0;34m)\u001b[0m\u001b[0;34m\u001b[0m\u001b[0;34m\u001b[0m\u001b[0m\n\u001b[0m\u001b[1;32m    369\u001b[0m             \u001b[0;32melif\u001b[0m \u001b[0mread\u001b[0m \u001b[0;32mis\u001b[0m \u001b[0;32mnot\u001b[0m \u001b[0;32mNone\u001b[0m\u001b[0;34m:\u001b[0m\u001b[0;34m\u001b[0m\u001b[0;34m\u001b[0m\u001b[0m\n",
            "\u001b[0;32m/usr/local/lib/python3.7/dist-packages/urllib3/packages/six.py\u001b[0m in \u001b[0;36mreraise\u001b[0;34m(tp, value, tb)\u001b[0m\n\u001b[1;32m    684\u001b[0m         \u001b[0;32mif\u001b[0m \u001b[0mvalue\u001b[0m\u001b[0;34m.\u001b[0m\u001b[0m__traceback__\u001b[0m \u001b[0;32mis\u001b[0m \u001b[0;32mnot\u001b[0m \u001b[0mtb\u001b[0m\u001b[0;34m:\u001b[0m\u001b[0;34m\u001b[0m\u001b[0;34m\u001b[0m\u001b[0m\n\u001b[0;32m--> 685\u001b[0;31m             \u001b[0;32mraise\u001b[0m \u001b[0mvalue\u001b[0m\u001b[0;34m.\u001b[0m\u001b[0mwith_traceback\u001b[0m\u001b[0;34m(\u001b[0m\u001b[0mtb\u001b[0m\u001b[0;34m)\u001b[0m\u001b[0;34m\u001b[0m\u001b[0;34m\u001b[0m\u001b[0m\n\u001b[0m\u001b[1;32m    686\u001b[0m         \u001b[0;32mraise\u001b[0m \u001b[0mvalue\u001b[0m\u001b[0;34m\u001b[0m\u001b[0;34m\u001b[0m\u001b[0m\n",
            "\u001b[0;32m/usr/local/lib/python3.7/dist-packages/urllib3/connectionpool.py\u001b[0m in \u001b[0;36murlopen\u001b[0;34m(self, method, url, body, headers, retries, redirect, assert_same_host, timeout, pool_timeout, release_conn, chunked, body_pos, **response_kw)\u001b[0m\n\u001b[1;32m    599\u001b[0m                                                   \u001b[0mbody\u001b[0m\u001b[0;34m=\u001b[0m\u001b[0mbody\u001b[0m\u001b[0;34m,\u001b[0m \u001b[0mheaders\u001b[0m\u001b[0;34m=\u001b[0m\u001b[0mheaders\u001b[0m\u001b[0;34m,\u001b[0m\u001b[0;34m\u001b[0m\u001b[0;34m\u001b[0m\u001b[0m\n\u001b[0;32m--> 600\u001b[0;31m                                                   chunked=chunked)\n\u001b[0m\u001b[1;32m    601\u001b[0m \u001b[0;34m\u001b[0m\u001b[0m\n",
            "\u001b[0;32m/usr/local/lib/python3.7/dist-packages/urllib3/connectionpool.py\u001b[0m in \u001b[0;36m_make_request\u001b[0;34m(self, conn, method, url, timeout, chunked, **httplib_request_kw)\u001b[0m\n\u001b[1;32m    383\u001b[0m                     \u001b[0;31m# otherwise it looks like a programming error was the cause.\u001b[0m\u001b[0;34m\u001b[0m\u001b[0;34m\u001b[0m\u001b[0;34m\u001b[0m\u001b[0m\n\u001b[0;32m--> 384\u001b[0;31m                     \u001b[0msix\u001b[0m\u001b[0;34m.\u001b[0m\u001b[0mraise_from\u001b[0m\u001b[0;34m(\u001b[0m\u001b[0me\u001b[0m\u001b[0;34m,\u001b[0m \u001b[0;32mNone\u001b[0m\u001b[0;34m)\u001b[0m\u001b[0;34m\u001b[0m\u001b[0;34m\u001b[0m\u001b[0m\n\u001b[0m\u001b[1;32m    385\u001b[0m         \u001b[0;32mexcept\u001b[0m \u001b[0;34m(\u001b[0m\u001b[0mSocketTimeout\u001b[0m\u001b[0;34m,\u001b[0m \u001b[0mBaseSSLError\u001b[0m\u001b[0;34m,\u001b[0m \u001b[0mSocketError\u001b[0m\u001b[0;34m)\u001b[0m \u001b[0;32mas\u001b[0m \u001b[0me\u001b[0m\u001b[0;34m:\u001b[0m\u001b[0;34m\u001b[0m\u001b[0;34m\u001b[0m\u001b[0m\n",
            "\u001b[0;32m/usr/local/lib/python3.7/dist-packages/urllib3/packages/six.py\u001b[0m in \u001b[0;36mraise_from\u001b[0;34m(value, from_value)\u001b[0m\n",
            "\u001b[0;32m/usr/local/lib/python3.7/dist-packages/urllib3/connectionpool.py\u001b[0m in \u001b[0;36m_make_request\u001b[0;34m(self, conn, method, url, timeout, chunked, **httplib_request_kw)\u001b[0m\n\u001b[1;32m    379\u001b[0m                 \u001b[0;32mtry\u001b[0m\u001b[0;34m:\u001b[0m\u001b[0;34m\u001b[0m\u001b[0;34m\u001b[0m\u001b[0m\n\u001b[0;32m--> 380\u001b[0;31m                     \u001b[0mhttplib_response\u001b[0m \u001b[0;34m=\u001b[0m \u001b[0mconn\u001b[0m\u001b[0;34m.\u001b[0m\u001b[0mgetresponse\u001b[0m\u001b[0;34m(\u001b[0m\u001b[0;34m)\u001b[0m\u001b[0;34m\u001b[0m\u001b[0;34m\u001b[0m\u001b[0m\n\u001b[0m\u001b[1;32m    381\u001b[0m                 \u001b[0;32mexcept\u001b[0m \u001b[0mException\u001b[0m \u001b[0;32mas\u001b[0m \u001b[0me\u001b[0m\u001b[0;34m:\u001b[0m\u001b[0;34m\u001b[0m\u001b[0;34m\u001b[0m\u001b[0m\n",
            "\u001b[0;32m/usr/lib/python3.7/http/client.py\u001b[0m in \u001b[0;36mgetresponse\u001b[0;34m(self)\u001b[0m\n\u001b[1;32m   1372\u001b[0m             \u001b[0;32mtry\u001b[0m\u001b[0;34m:\u001b[0m\u001b[0;34m\u001b[0m\u001b[0;34m\u001b[0m\u001b[0m\n\u001b[0;32m-> 1373\u001b[0;31m                 \u001b[0mresponse\u001b[0m\u001b[0;34m.\u001b[0m\u001b[0mbegin\u001b[0m\u001b[0;34m(\u001b[0m\u001b[0;34m)\u001b[0m\u001b[0;34m\u001b[0m\u001b[0;34m\u001b[0m\u001b[0m\n\u001b[0m\u001b[1;32m   1374\u001b[0m             \u001b[0;32mexcept\u001b[0m \u001b[0mConnectionError\u001b[0m\u001b[0;34m:\u001b[0m\u001b[0;34m\u001b[0m\u001b[0;34m\u001b[0m\u001b[0m\n",
            "\u001b[0;32m/usr/lib/python3.7/http/client.py\u001b[0m in \u001b[0;36mbegin\u001b[0;34m(self)\u001b[0m\n\u001b[1;32m    318\u001b[0m         \u001b[0;32mwhile\u001b[0m \u001b[0;32mTrue\u001b[0m\u001b[0;34m:\u001b[0m\u001b[0;34m\u001b[0m\u001b[0;34m\u001b[0m\u001b[0m\n\u001b[0;32m--> 319\u001b[0;31m             \u001b[0mversion\u001b[0m\u001b[0;34m,\u001b[0m \u001b[0mstatus\u001b[0m\u001b[0;34m,\u001b[0m \u001b[0mreason\u001b[0m \u001b[0;34m=\u001b[0m \u001b[0mself\u001b[0m\u001b[0;34m.\u001b[0m\u001b[0m_read_status\u001b[0m\u001b[0;34m(\u001b[0m\u001b[0;34m)\u001b[0m\u001b[0;34m\u001b[0m\u001b[0;34m\u001b[0m\u001b[0m\n\u001b[0m\u001b[1;32m    320\u001b[0m             \u001b[0;32mif\u001b[0m \u001b[0mstatus\u001b[0m \u001b[0;34m!=\u001b[0m \u001b[0mCONTINUE\u001b[0m\u001b[0;34m:\u001b[0m\u001b[0;34m\u001b[0m\u001b[0;34m\u001b[0m\u001b[0m\n",
            "\u001b[0;32m/usr/lib/python3.7/http/client.py\u001b[0m in \u001b[0;36m_read_status\u001b[0;34m(self)\u001b[0m\n\u001b[1;32m    279\u001b[0m     \u001b[0;32mdef\u001b[0m \u001b[0m_read_status\u001b[0m\u001b[0;34m(\u001b[0m\u001b[0mself\u001b[0m\u001b[0;34m)\u001b[0m\u001b[0;34m:\u001b[0m\u001b[0;34m\u001b[0m\u001b[0;34m\u001b[0m\u001b[0m\n\u001b[0;32m--> 280\u001b[0;31m         \u001b[0mline\u001b[0m \u001b[0;34m=\u001b[0m \u001b[0mstr\u001b[0m\u001b[0;34m(\u001b[0m\u001b[0mself\u001b[0m\u001b[0;34m.\u001b[0m\u001b[0mfp\u001b[0m\u001b[0;34m.\u001b[0m\u001b[0mreadline\u001b[0m\u001b[0;34m(\u001b[0m\u001b[0m_MAXLINE\u001b[0m \u001b[0;34m+\u001b[0m \u001b[0;36m1\u001b[0m\u001b[0;34m)\u001b[0m\u001b[0;34m,\u001b[0m \u001b[0;34m\"iso-8859-1\"\u001b[0m\u001b[0;34m)\u001b[0m\u001b[0;34m\u001b[0m\u001b[0;34m\u001b[0m\u001b[0m\n\u001b[0m\u001b[1;32m    281\u001b[0m         \u001b[0;32mif\u001b[0m \u001b[0mlen\u001b[0m\u001b[0;34m(\u001b[0m\u001b[0mline\u001b[0m\u001b[0;34m)\u001b[0m \u001b[0;34m>\u001b[0m \u001b[0m_MAXLINE\u001b[0m\u001b[0;34m:\u001b[0m\u001b[0;34m\u001b[0m\u001b[0;34m\u001b[0m\u001b[0m\n",
            "\u001b[0;32m/usr/lib/python3.7/socket.py\u001b[0m in \u001b[0;36mreadinto\u001b[0;34m(self, b)\u001b[0m\n\u001b[1;32m    588\u001b[0m             \u001b[0;32mtry\u001b[0m\u001b[0;34m:\u001b[0m\u001b[0;34m\u001b[0m\u001b[0;34m\u001b[0m\u001b[0m\n\u001b[0;32m--> 589\u001b[0;31m                 \u001b[0;32mreturn\u001b[0m \u001b[0mself\u001b[0m\u001b[0;34m.\u001b[0m\u001b[0m_sock\u001b[0m\u001b[0;34m.\u001b[0m\u001b[0mrecv_into\u001b[0m\u001b[0;34m(\u001b[0m\u001b[0mb\u001b[0m\u001b[0;34m)\u001b[0m\u001b[0;34m\u001b[0m\u001b[0;34m\u001b[0m\u001b[0m\n\u001b[0m\u001b[1;32m    590\u001b[0m             \u001b[0;32mexcept\u001b[0m \u001b[0mtimeout\u001b[0m\u001b[0;34m:\u001b[0m\u001b[0;34m\u001b[0m\u001b[0;34m\u001b[0m\u001b[0m\n",
            "\u001b[0;32m/usr/lib/python3.7/ssl.py\u001b[0m in \u001b[0;36mrecv_into\u001b[0;34m(self, buffer, nbytes, flags)\u001b[0m\n\u001b[1;32m   1070\u001b[0m                   self.__class__)\n\u001b[0;32m-> 1071\u001b[0;31m             \u001b[0;32mreturn\u001b[0m \u001b[0mself\u001b[0m\u001b[0;34m.\u001b[0m\u001b[0mread\u001b[0m\u001b[0;34m(\u001b[0m\u001b[0mnbytes\u001b[0m\u001b[0;34m,\u001b[0m \u001b[0mbuffer\u001b[0m\u001b[0;34m)\u001b[0m\u001b[0;34m\u001b[0m\u001b[0;34m\u001b[0m\u001b[0m\n\u001b[0m\u001b[1;32m   1072\u001b[0m         \u001b[0;32melse\u001b[0m\u001b[0;34m:\u001b[0m\u001b[0;34m\u001b[0m\u001b[0;34m\u001b[0m\u001b[0m\n",
            "\u001b[0;32m/usr/lib/python3.7/ssl.py\u001b[0m in \u001b[0;36mread\u001b[0;34m(self, len, buffer)\u001b[0m\n\u001b[1;32m    928\u001b[0m             \u001b[0;32mif\u001b[0m \u001b[0mbuffer\u001b[0m \u001b[0;32mis\u001b[0m \u001b[0;32mnot\u001b[0m \u001b[0;32mNone\u001b[0m\u001b[0;34m:\u001b[0m\u001b[0;34m\u001b[0m\u001b[0;34m\u001b[0m\u001b[0m\n\u001b[0;32m--> 929\u001b[0;31m                 \u001b[0;32mreturn\u001b[0m \u001b[0mself\u001b[0m\u001b[0;34m.\u001b[0m\u001b[0m_sslobj\u001b[0m\u001b[0;34m.\u001b[0m\u001b[0mread\u001b[0m\u001b[0;34m(\u001b[0m\u001b[0mlen\u001b[0m\u001b[0;34m,\u001b[0m \u001b[0mbuffer\u001b[0m\u001b[0;34m)\u001b[0m\u001b[0;34m\u001b[0m\u001b[0;34m\u001b[0m\u001b[0m\n\u001b[0m\u001b[1;32m    930\u001b[0m             \u001b[0;32melse\u001b[0m\u001b[0;34m:\u001b[0m\u001b[0;34m\u001b[0m\u001b[0;34m\u001b[0m\u001b[0m\n",
            "\u001b[0;31mProtocolError\u001b[0m: ('Connection aborted.', ConnectionResetError(104, 'Connection reset by peer'))",
            "\nDuring handling of the above exception, another exception occurred:\n",
            "\u001b[0;31mConnectionError\u001b[0m                           Traceback (most recent call last)",
            "\u001b[0;32m<ipython-input-3-f92efaa43efd>\u001b[0m in \u001b[0;36m<module>\u001b[0;34m()\u001b[0m\n\u001b[1;32m      6\u001b[0m \u001b[0mheaders\u001b[0m \u001b[0;34m=\u001b[0m \u001b[0;34m{\u001b[0m\u001b[0;34m'User-Agent'\u001b[0m\u001b[0;34m:\u001b[0m\u001b[0;34m'Mozilla/5.0 (Windows NT 6.1; Win64; x64; rv:57.0) Gecko/20100101 Firefox/57.0'\u001b[0m\u001b[0;34m}\u001b[0m\u001b[0;34m\u001b[0m\u001b[0;34m\u001b[0m\u001b[0m\n\u001b[1;32m      7\u001b[0m \u001b[0;31m# response = requests.get('http://www.ntu.edu.tw/', headers=headers)\u001b[0m\u001b[0;34m\u001b[0m\u001b[0;34m\u001b[0m\u001b[0;34m\u001b[0m\u001b[0m\n\u001b[0;32m----> 8\u001b[0;31m \u001b[0mresponse\u001b[0m \u001b[0;34m=\u001b[0m \u001b[0mrequests\u001b[0m\u001b[0;34m.\u001b[0m\u001b[0mget\u001b[0m\u001b[0;34m(\u001b[0m\u001b[0;34m'http://www.ntu.edu.tw/'\u001b[0m\u001b[0;34m)\u001b[0m\u001b[0;34m\u001b[0m\u001b[0;34m\u001b[0m\u001b[0m\n\u001b[0m\u001b[1;32m      9\u001b[0m \u001b[0mprint\u001b[0m\u001b[0;34m(\u001b[0m\u001b[0mresponse\u001b[0m\u001b[0;34m.\u001b[0m\u001b[0mstatus_code\u001b[0m\u001b[0;34m)\u001b[0m\u001b[0;34m\u001b[0m\u001b[0;34m\u001b[0m\u001b[0m\n\u001b[1;32m     10\u001b[0m \u001b[0;34m\u001b[0m\u001b[0m\n",
            "\u001b[0;32m/usr/local/lib/python3.7/dist-packages/requests/api.py\u001b[0m in \u001b[0;36mget\u001b[0;34m(url, params, **kwargs)\u001b[0m\n\u001b[1;32m     74\u001b[0m \u001b[0;34m\u001b[0m\u001b[0m\n\u001b[1;32m     75\u001b[0m     \u001b[0mkwargs\u001b[0m\u001b[0;34m.\u001b[0m\u001b[0msetdefault\u001b[0m\u001b[0;34m(\u001b[0m\u001b[0;34m'allow_redirects'\u001b[0m\u001b[0;34m,\u001b[0m \u001b[0;32mTrue\u001b[0m\u001b[0;34m)\u001b[0m\u001b[0;34m\u001b[0m\u001b[0;34m\u001b[0m\u001b[0m\n\u001b[0;32m---> 76\u001b[0;31m     \u001b[0;32mreturn\u001b[0m \u001b[0mrequest\u001b[0m\u001b[0;34m(\u001b[0m\u001b[0;34m'get'\u001b[0m\u001b[0;34m,\u001b[0m \u001b[0murl\u001b[0m\u001b[0;34m,\u001b[0m \u001b[0mparams\u001b[0m\u001b[0;34m=\u001b[0m\u001b[0mparams\u001b[0m\u001b[0;34m,\u001b[0m \u001b[0;34m**\u001b[0m\u001b[0mkwargs\u001b[0m\u001b[0;34m)\u001b[0m\u001b[0;34m\u001b[0m\u001b[0;34m\u001b[0m\u001b[0m\n\u001b[0m\u001b[1;32m     77\u001b[0m \u001b[0;34m\u001b[0m\u001b[0m\n\u001b[1;32m     78\u001b[0m \u001b[0;34m\u001b[0m\u001b[0m\n",
            "\u001b[0;32m/usr/local/lib/python3.7/dist-packages/requests/api.py\u001b[0m in \u001b[0;36mrequest\u001b[0;34m(method, url, **kwargs)\u001b[0m\n\u001b[1;32m     59\u001b[0m     \u001b[0;31m# cases, and look like a memory leak in others.\u001b[0m\u001b[0;34m\u001b[0m\u001b[0;34m\u001b[0m\u001b[0;34m\u001b[0m\u001b[0m\n\u001b[1;32m     60\u001b[0m     \u001b[0;32mwith\u001b[0m \u001b[0msessions\u001b[0m\u001b[0;34m.\u001b[0m\u001b[0mSession\u001b[0m\u001b[0;34m(\u001b[0m\u001b[0;34m)\u001b[0m \u001b[0;32mas\u001b[0m \u001b[0msession\u001b[0m\u001b[0;34m:\u001b[0m\u001b[0;34m\u001b[0m\u001b[0;34m\u001b[0m\u001b[0m\n\u001b[0;32m---> 61\u001b[0;31m         \u001b[0;32mreturn\u001b[0m \u001b[0msession\u001b[0m\u001b[0;34m.\u001b[0m\u001b[0mrequest\u001b[0m\u001b[0;34m(\u001b[0m\u001b[0mmethod\u001b[0m\u001b[0;34m=\u001b[0m\u001b[0mmethod\u001b[0m\u001b[0;34m,\u001b[0m \u001b[0murl\u001b[0m\u001b[0;34m=\u001b[0m\u001b[0murl\u001b[0m\u001b[0;34m,\u001b[0m \u001b[0;34m**\u001b[0m\u001b[0mkwargs\u001b[0m\u001b[0;34m)\u001b[0m\u001b[0;34m\u001b[0m\u001b[0;34m\u001b[0m\u001b[0m\n\u001b[0m\u001b[1;32m     62\u001b[0m \u001b[0;34m\u001b[0m\u001b[0m\n\u001b[1;32m     63\u001b[0m \u001b[0;34m\u001b[0m\u001b[0m\n",
            "\u001b[0;32m/usr/local/lib/python3.7/dist-packages/requests/sessions.py\u001b[0m in \u001b[0;36mrequest\u001b[0;34m(self, method, url, params, data, headers, cookies, files, auth, timeout, allow_redirects, proxies, hooks, stream, verify, cert, json)\u001b[0m\n\u001b[1;32m    528\u001b[0m         }\n\u001b[1;32m    529\u001b[0m         \u001b[0msend_kwargs\u001b[0m\u001b[0;34m.\u001b[0m\u001b[0mupdate\u001b[0m\u001b[0;34m(\u001b[0m\u001b[0msettings\u001b[0m\u001b[0;34m)\u001b[0m\u001b[0;34m\u001b[0m\u001b[0;34m\u001b[0m\u001b[0m\n\u001b[0;32m--> 530\u001b[0;31m         \u001b[0mresp\u001b[0m \u001b[0;34m=\u001b[0m \u001b[0mself\u001b[0m\u001b[0;34m.\u001b[0m\u001b[0msend\u001b[0m\u001b[0;34m(\u001b[0m\u001b[0mprep\u001b[0m\u001b[0;34m,\u001b[0m \u001b[0;34m**\u001b[0m\u001b[0msend_kwargs\u001b[0m\u001b[0;34m)\u001b[0m\u001b[0;34m\u001b[0m\u001b[0;34m\u001b[0m\u001b[0m\n\u001b[0m\u001b[1;32m    531\u001b[0m \u001b[0;34m\u001b[0m\u001b[0m\n\u001b[1;32m    532\u001b[0m         \u001b[0;32mreturn\u001b[0m \u001b[0mresp\u001b[0m\u001b[0;34m\u001b[0m\u001b[0;34m\u001b[0m\u001b[0m\n",
            "\u001b[0;32m/usr/local/lib/python3.7/dist-packages/requests/sessions.py\u001b[0m in \u001b[0;36msend\u001b[0;34m(self, request, **kwargs)\u001b[0m\n\u001b[1;32m    663\u001b[0m \u001b[0;34m\u001b[0m\u001b[0m\n\u001b[1;32m    664\u001b[0m         \u001b[0;31m# Resolve redirects if allowed.\u001b[0m\u001b[0;34m\u001b[0m\u001b[0;34m\u001b[0m\u001b[0;34m\u001b[0m\u001b[0m\n\u001b[0;32m--> 665\u001b[0;31m         \u001b[0mhistory\u001b[0m \u001b[0;34m=\u001b[0m \u001b[0;34m[\u001b[0m\u001b[0mresp\u001b[0m \u001b[0;32mfor\u001b[0m \u001b[0mresp\u001b[0m \u001b[0;32min\u001b[0m \u001b[0mgen\u001b[0m\u001b[0;34m]\u001b[0m \u001b[0;32mif\u001b[0m \u001b[0mallow_redirects\u001b[0m \u001b[0;32melse\u001b[0m \u001b[0;34m[\u001b[0m\u001b[0;34m]\u001b[0m\u001b[0;34m\u001b[0m\u001b[0;34m\u001b[0m\u001b[0m\n\u001b[0m\u001b[1;32m    666\u001b[0m \u001b[0;34m\u001b[0m\u001b[0m\n\u001b[1;32m    667\u001b[0m         \u001b[0;31m# Shuffle things around if there's history.\u001b[0m\u001b[0;34m\u001b[0m\u001b[0;34m\u001b[0m\u001b[0;34m\u001b[0m\u001b[0m\n",
            "\u001b[0;32m/usr/local/lib/python3.7/dist-packages/requests/sessions.py\u001b[0m in \u001b[0;36m<listcomp>\u001b[0;34m(.0)\u001b[0m\n\u001b[1;32m    663\u001b[0m \u001b[0;34m\u001b[0m\u001b[0m\n\u001b[1;32m    664\u001b[0m         \u001b[0;31m# Resolve redirects if allowed.\u001b[0m\u001b[0;34m\u001b[0m\u001b[0;34m\u001b[0m\u001b[0;34m\u001b[0m\u001b[0m\n\u001b[0;32m--> 665\u001b[0;31m         \u001b[0mhistory\u001b[0m \u001b[0;34m=\u001b[0m \u001b[0;34m[\u001b[0m\u001b[0mresp\u001b[0m \u001b[0;32mfor\u001b[0m \u001b[0mresp\u001b[0m \u001b[0;32min\u001b[0m \u001b[0mgen\u001b[0m\u001b[0;34m]\u001b[0m \u001b[0;32mif\u001b[0m \u001b[0mallow_redirects\u001b[0m \u001b[0;32melse\u001b[0m \u001b[0;34m[\u001b[0m\u001b[0;34m]\u001b[0m\u001b[0;34m\u001b[0m\u001b[0;34m\u001b[0m\u001b[0m\n\u001b[0m\u001b[1;32m    666\u001b[0m \u001b[0;34m\u001b[0m\u001b[0m\n\u001b[1;32m    667\u001b[0m         \u001b[0;31m# Shuffle things around if there's history.\u001b[0m\u001b[0;34m\u001b[0m\u001b[0;34m\u001b[0m\u001b[0;34m\u001b[0m\u001b[0m\n",
            "\u001b[0;32m/usr/local/lib/python3.7/dist-packages/requests/sessions.py\u001b[0m in \u001b[0;36mresolve_redirects\u001b[0;34m(self, resp, req, stream, timeout, verify, cert, proxies, yield_requests, **adapter_kwargs)\u001b[0m\n\u001b[1;32m    243\u001b[0m                     \u001b[0mproxies\u001b[0m\u001b[0;34m=\u001b[0m\u001b[0mproxies\u001b[0m\u001b[0;34m,\u001b[0m\u001b[0;34m\u001b[0m\u001b[0;34m\u001b[0m\u001b[0m\n\u001b[1;32m    244\u001b[0m                     \u001b[0mallow_redirects\u001b[0m\u001b[0;34m=\u001b[0m\u001b[0;32mFalse\u001b[0m\u001b[0;34m,\u001b[0m\u001b[0;34m\u001b[0m\u001b[0;34m\u001b[0m\u001b[0m\n\u001b[0;32m--> 245\u001b[0;31m                     \u001b[0;34m**\u001b[0m\u001b[0madapter_kwargs\u001b[0m\u001b[0;34m\u001b[0m\u001b[0;34m\u001b[0m\u001b[0m\n\u001b[0m\u001b[1;32m    246\u001b[0m                 )\n\u001b[1;32m    247\u001b[0m \u001b[0;34m\u001b[0m\u001b[0m\n",
            "\u001b[0;32m/usr/local/lib/python3.7/dist-packages/requests/sessions.py\u001b[0m in \u001b[0;36msend\u001b[0;34m(self, request, **kwargs)\u001b[0m\n\u001b[1;32m    641\u001b[0m \u001b[0;34m\u001b[0m\u001b[0m\n\u001b[1;32m    642\u001b[0m         \u001b[0;31m# Send the request\u001b[0m\u001b[0;34m\u001b[0m\u001b[0;34m\u001b[0m\u001b[0;34m\u001b[0m\u001b[0m\n\u001b[0;32m--> 643\u001b[0;31m         \u001b[0mr\u001b[0m \u001b[0;34m=\u001b[0m \u001b[0madapter\u001b[0m\u001b[0;34m.\u001b[0m\u001b[0msend\u001b[0m\u001b[0;34m(\u001b[0m\u001b[0mrequest\u001b[0m\u001b[0;34m,\u001b[0m \u001b[0;34m**\u001b[0m\u001b[0mkwargs\u001b[0m\u001b[0;34m)\u001b[0m\u001b[0;34m\u001b[0m\u001b[0;34m\u001b[0m\u001b[0m\n\u001b[0m\u001b[1;32m    644\u001b[0m \u001b[0;34m\u001b[0m\u001b[0m\n\u001b[1;32m    645\u001b[0m         \u001b[0;31m# Total elapsed time of the request (approximately)\u001b[0m\u001b[0;34m\u001b[0m\u001b[0;34m\u001b[0m\u001b[0;34m\u001b[0m\u001b[0m\n",
            "\u001b[0;32m/usr/local/lib/python3.7/dist-packages/requests/adapters.py\u001b[0m in \u001b[0;36msend\u001b[0;34m(self, request, stream, timeout, verify, cert, proxies)\u001b[0m\n\u001b[1;32m    496\u001b[0m \u001b[0;34m\u001b[0m\u001b[0m\n\u001b[1;32m    497\u001b[0m         \u001b[0;32mexcept\u001b[0m \u001b[0;34m(\u001b[0m\u001b[0mProtocolError\u001b[0m\u001b[0;34m,\u001b[0m \u001b[0msocket\u001b[0m\u001b[0;34m.\u001b[0m\u001b[0merror\u001b[0m\u001b[0;34m)\u001b[0m \u001b[0;32mas\u001b[0m \u001b[0merr\u001b[0m\u001b[0;34m:\u001b[0m\u001b[0;34m\u001b[0m\u001b[0;34m\u001b[0m\u001b[0m\n\u001b[0;32m--> 498\u001b[0;31m             \u001b[0;32mraise\u001b[0m \u001b[0mConnectionError\u001b[0m\u001b[0;34m(\u001b[0m\u001b[0merr\u001b[0m\u001b[0;34m,\u001b[0m \u001b[0mrequest\u001b[0m\u001b[0;34m=\u001b[0m\u001b[0mrequest\u001b[0m\u001b[0;34m)\u001b[0m\u001b[0;34m\u001b[0m\u001b[0;34m\u001b[0m\u001b[0m\n\u001b[0m\u001b[1;32m    499\u001b[0m \u001b[0;34m\u001b[0m\u001b[0m\n\u001b[1;32m    500\u001b[0m         \u001b[0;32mexcept\u001b[0m \u001b[0mMaxRetryError\u001b[0m \u001b[0;32mas\u001b[0m \u001b[0me\u001b[0m\u001b[0;34m:\u001b[0m\u001b[0;34m\u001b[0m\u001b[0;34m\u001b[0m\u001b[0m\n",
            "\u001b[0;31mConnectionError\u001b[0m: ('Connection aborted.', ConnectionResetError(104, 'Connection reset by peer'))"
          ]
        }
      ]
    },
    {
      "cell_type": "markdown",
      "source": [
        "# Regular Expression  \n",
        "symbol              | meaning                             |\n",
        ":------------------:|:-----------------------------------:|\n",
        "`*`                 | 0 or more                           |\n",
        "`+`                 | 1 or more                           |\n",
        "`?`                 | 0 or 1                              |\n",
        "`{3}`               | exactly 3                           |\n",
        "`(3,5)`             | 3 or 4 or 5                         |\n",
        "`[abc]`             | range(a or b or c)                  |\n",
        "`a\\|b`              | a or b                              |\n",
        "`.`                 | any character except new line(\\n)   |\n",
        "`\\`                 | escape character                    |  \n"
      ],
      "metadata": {
        "id": "lX9zzl3YR28J"
      }
    },
    {
      "cell_type": "code",
      "source": [
        "import re\n",
        " \n",
        "pattern='abc'\n",
        "string='123321 abc abc abc'\n",
        "match = re.findall(pattern,string)\n",
        "print(match)"
      ],
      "metadata": {
        "colab": {
          "base_uri": "https://localhost:8080/"
        },
        "id": "fg1sFVx9R2Qn",
        "outputId": "8abbd175-9423-47b5-e7f3-e8c6cbdce5b1"
      },
      "execution_count": null,
      "outputs": [
        {
          "output_type": "stream",
          "name": "stdout",
          "text": [
            "['abc', 'abc', 'abc']\n"
          ]
        }
      ]
    },
    {
      "cell_type": "code",
      "source": [
        "pattern = \"a+b*c\"\n",
        "string = 'aabc, ac, aabbccc abb, dd'\n",
        "match = re.findall(pattern, string)\n",
        "print(match)"
      ],
      "metadata": {
        "colab": {
          "base_uri": "https://localhost:8080/"
        },
        "id": "XG34_KQYTG73",
        "outputId": "bafc8b7f-fb83-494a-8ef7-37a6836c939b"
      },
      "execution_count": null,
      "outputs": [
        {
          "output_type": "stream",
          "name": "stdout",
          "text": [
            "['aabc', 'ac', 'aabbc']\n"
          ]
        }
      ]
    },
    {
      "cell_type": "code",
      "source": [
        "pattern = \"a*b+c\"\n",
        "string = 'abbbbc, bc, bcccc,c, acc'\n",
        "match = re.findall(pattern, string)\n",
        "print(match)"
      ],
      "metadata": {
        "colab": {
          "base_uri": "https://localhost:8080/"
        },
        "id": "QyEOzBUeTIpG",
        "outputId": "52bcac92-563b-4c52-c92e-19f5afa3cd8a"
      },
      "execution_count": null,
      "outputs": [
        {
          "output_type": "stream",
          "name": "stdout",
          "text": [
            "['abbbbc', 'bc', 'bc']\n"
          ]
        }
      ]
    },
    {
      "cell_type": "code",
      "source": [
        "pattern = \"[0-9]+\"\n",
        "string = 'there are 77 apples, 110 bananas, and 5 pineapples'\n",
        "match = re.findall(pattern, string)\n",
        "print(match)"
      ],
      "metadata": {
        "colab": {
          "base_uri": "https://localhost:8080/"
        },
        "id": "10paIKmCTLnp",
        "outputId": "e061cb80-26fa-4507-cfed-38544284ca8c"
      },
      "execution_count": null,
      "outputs": [
        {
          "output_type": "stream",
          "name": "stdout",
          "text": [
            "['77', '110', '5']\n"
          ]
        }
      ]
    },
    {
      "cell_type": "code",
      "source": [
        "pattern = \"[1-3]+\"\n",
        "string = 'abc123, aaabbcc111123, aaa123333bbccc, 1222223,3215zzz'\n",
        "match =re.findall(pattern, string)\n",
        "print(match)"
      ],
      "metadata": {
        "colab": {
          "base_uri": "https://localhost:8080/"
        },
        "id": "XuicMB48TNO5",
        "outputId": "a09986ff-b4c9-4a0c-e2d1-d68d9e79f4fb"
      },
      "execution_count": null,
      "outputs": [
        {
          "output_type": "stream",
          "name": "stdout",
          "text": [
            "['123', '111123', '123333', '1222223', '321']\n"
          ]
        }
      ]
    },
    {
      "cell_type": "code",
      "source": [
        "pattern = \"[dor]mit\"\n",
        "string = 'admit, commit, emit, omit, permit'\n",
        "match = re.findall(pattern, string)\n",
        "print(match)"
      ],
      "metadata": {
        "colab": {
          "base_uri": "https://localhost:8080/"
        },
        "id": "kDn7e5STTOv2",
        "outputId": "c203d9a6-cfb4-4fdd-ea7f-2d8daa76b83e"
      },
      "execution_count": null,
      "outputs": [
        {
          "output_type": "stream",
          "name": "stdout",
          "text": [
            "['dmit', 'omit', 'rmit']\n"
          ]
        }
      ]
    },
    {
      "cell_type": "code",
      "source": [
        "pattern = \"mag{2,5}ie\"\n",
        "string = 'These are my friends kevin, andy, victoria, joma ,maggie, magggie, maggggie, magggggie, maggggggggie'\n",
        "match = re.findall(pattern, string)\n",
        "print(match)"
      ],
      "metadata": {
        "colab": {
          "base_uri": "https://localhost:8080/"
        },
        "id": "CKf07w9rTQdk",
        "outputId": "7d678ba0-a96e-4df0-87d5-6075d33c973e"
      },
      "execution_count": null,
      "outputs": [
        {
          "output_type": "stream",
          "name": "stdout",
          "text": [
            "['maggie', 'magggie', 'maggggie', 'magggggie']\n"
          ]
        }
      ]
    },
    {
      "cell_type": "code",
      "source": [
        "pattern = \"[A-Z]+[a-z]\"\n",
        "string = 'ABi, BBc, CNn, ai, be, cd'\n",
        "match = re.findall(pattern, string)\n",
        "print(match)"
      ],
      "metadata": {
        "colab": {
          "base_uri": "https://localhost:8080/"
        },
        "id": "kTjsSF3LTSCc",
        "outputId": "ff2956d0-778b-4c2f-909b-bd9a931b4a9c"
      },
      "execution_count": null,
      "outputs": [
        {
          "output_type": "stream",
          "name": "stdout",
          "text": [
            "['ABi', 'BBc', 'CNn']\n"
          ]
        }
      ]
    },
    {
      "cell_type": "code",
      "source": [
        "pattern = \"\\..{2}\" # two any character\n",
        "string = 'www.yahoo.com.tw , www.ntu.edu.tw , www.test.gov.tw'\n",
        "match = re.findall(pattern, string)\n",
        "print(match)"
      ],
      "metadata": {
        "colab": {
          "base_uri": "https://localhost:8080/"
        },
        "id": "q13TpmSYTTkO",
        "outputId": "b7c916c4-c6c8-4ac3-e47a-5ad8b38967fa"
      },
      "execution_count": null,
      "outputs": [
        {
          "output_type": "stream",
          "name": "stdout",
          "text": [
            "['.ya', '.co', '.tw', '.nt', '.ed', '.tw', '.te', '.go', '.tw']\n"
          ]
        }
      ]
    },
    {
      "cell_type": "code",
      "source": [
        "pattern = \"I have a dream|I don't have to work\" \n",
        "string = 'I have a dream that I don\\'t have to work'\n",
        "match = re.findall(pattern, string)\n",
        "print(match)"
      ],
      "metadata": {
        "colab": {
          "base_uri": "https://localhost:8080/"
        },
        "id": "gbO9xdVrTU9S",
        "outputId": "1a70fc60-10a8-4ffe-cad3-5ca42aedbd7c"
      },
      "execution_count": null,
      "outputs": [
        {
          "output_type": "stream",
          "name": "stdout",
          "text": [
            "['I have a dream', \"I don't have to work\"]\n"
          ]
        }
      ]
    },
    {
      "cell_type": "code",
      "source": [
        "import re\n",
        "pattern = \"[A-Za-z0-9._]+@[A-Za-z.]+\"\n",
        "string = 'email: cvn21@gmail.com, jzsyaun@gmail.com, kevin@yahoo.com da'\n",
        "match = re.findall(pattern, string)\n",
        "print(match)"
      ],
      "metadata": {
        "colab": {
          "base_uri": "https://localhost:8080/"
        },
        "id": "bjuRetG-TWTr",
        "outputId": "010d8471-57eb-4fad-d34d-4731295ac7ac"
      },
      "execution_count": null,
      "outputs": [
        {
          "output_type": "stream",
          "name": "stdout",
          "text": [
            "['cvn21@gmail.com', 'jzsyaun@gmail.com', 'kevin@yahoo.com']\n"
          ]
        }
      ]
    },
    {
      "cell_type": "markdown",
      "source": [
        "# Captcha Solver\n",
        "reference web: https://2captcha.com/   \n",
        "2captcha API: https://2captcha.com/2captcha-api\n"
      ],
      "metadata": {
        "id": "MAcil3KATZqe"
      }
    }
  ]
}